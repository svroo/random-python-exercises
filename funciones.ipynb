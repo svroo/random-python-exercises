{
 "cells": [
  {
   "cell_type": "markdown",
   "metadata": {},
   "source": [
    "## Capitulo 6 Funciones\n",
    "\n",
    "Este notebook va a ser sobre ejercicios de Funciones recuperados del libro: *Introducción a la programacion con python 3* de, Andrés Mazal Varó, Isabel Garcia Luengo, Pedro Garcia Sevilla.\n",
    "\n",
    "Creado por: Rodrigo Salazar @sv_roo"
   ]
  },
  {
   "cell_type": "markdown",
   "metadata": {},
   "source": [
    "### Ejercicio 252\n",
    "\n",
    "Define una funcion llamada raiz cúbica que devuelva el valor de sqrt(x) (Nota: recuerta que la notación 3Raiz(x) no es más que una forma de expresar x<sup>1/3</sup>)"
   ]
  },
  {
   "cell_type": "code",
   "execution_count": 1,
   "metadata": {},
   "outputs": [
    {
     "name": "stdout",
     "output_type": "stream",
     "text": [
      "5.0\n"
     ]
    }
   ],
   "source": [
    "# Declaramos la funcion\n",
    "def raizcubica (x):\n",
    "    return x ** 1/3\n",
    "\n",
    "# Declaramos variables\n",
    "x = float(input(\"Dame un número para calcular su raiz cubica:\\m\"))\n",
    "\n",
    "# Mostramos en pantalla\n",
    "print(raizcubica(x))"
   ]
  },
  {
   "cell_type": "markdown",
   "metadata": {},
   "source": [
    "### Ejercicio 253\n",
    "\n",
    "Define una función llamada área_circulo que a partir del radio de un círculo, devuelva el varor de su áres. Utiliza el valor 3.1416 como aproximación de $\\Pi$ o importa el valor de $\\Pi$ que encontrarás en el módulo math.\n",
    "\n",
    "(Recuerda qeu el área de un circulo de radio r es $\\Pi$<sup>2</sup>)\n"
   ]
  },
  {
   "cell_type": "code",
   "execution_count": 3,
   "metadata": {},
   "outputs": [
    {
     "name": "stdout",
     "output_type": "stream",
     "text": [
      "98.69604401089359\n"
     ]
    }
   ],
   "source": [
    "# Importamos librerias \n",
    "from math import pi\n",
    "\n",
    "# Definimos la funcion\n",
    "def area_circulo(radio):\n",
    "    return radio * (pi ** 2)\n",
    "\n",
    "# Pedimos datos de teclado\n",
    "ra = float(input(\"Dame el radio del circulo:\\n\"))\n",
    "\n",
    "#Imprimimos el resultado\n",
    "print(area_circulo(ra))"
   ]
  },
  {
   "cell_type": "markdown",
   "metadata": {},
   "source": [
    "### Ejercicio 254\n",
    "Define una función que convierta grados Farengeit en grados centígrados (Para calcular los grados centígrados has de restar 32 grados a los grados Farenheit y multiplicar el resultado por cinco novenos)"
   ]
  },
  {
   "cell_type": "code",
   "execution_count": 6,
   "metadata": {},
   "outputs": [
    {
     "name": "stdout",
     "output_type": "stream",
     "text": [
      "123.88888888888889 °C\n"
     ]
    }
   ],
   "source": [
    "# Definimos la funcion para calcular el calculo\n",
    "def calculo_centigrados(Farenheit):\n",
    "    return (Farenheit - 32) * 5/9\n",
    "\n",
    "# Pedimos datos de teclado\n",
    "cel = float(input(\"Dame los grados Farenheit:\\n\"))\n",
    "\n",
    "# Mostramos en pantalla\n",
    "print(calculo_centigrados(cel), \"°C\")"
   ]
  },
  {
   "cell_type": "markdown",
   "metadata": {},
   "source": [
    "### Ejercicio 255\n",
    "\n",
    "Define una función que convierta grados centigrados en grados Farenheit."
   ]
  },
  {
   "cell_type": "code",
   "execution_count": 7,
   "metadata": {},
   "outputs": [
    {
     "name": "stdout",
     "output_type": "stream",
     "text": [
      "77.0 °F\n"
     ]
    }
   ],
   "source": [
    "# Definimos la funcion\n",
    "def calculo_Farenheit(celcius):\n",
    "    return (celcius * 1.8) + 32\n",
    "\n",
    "# Pedimos datos del teclado\n",
    "cel = float(input(\"Dame los grados centigrados:\\n\"))\n",
    "\n",
    "# Mostramos en pantalla\n",
    "print(calculo_Farenheit(cel), \"°F\")"
   ]
  },
  {
   "cell_type": "markdown",
   "metadata": {},
   "source": [
    "### Ejercicio 256\n",
    "\n",
    "Define una función que convierta radianes en grados.\n",
    "\n",
    "(Recuerda que 360 grados son 2 $\\Pi$ radianes)"
   ]
  },
  {
   "cell_type": "code",
   "execution_count": 10,
   "metadata": {},
   "outputs": [
    {
     "name": "stdout",
     "output_type": "stream",
     "text": [
      "114.59155902616465 °\n"
     ]
    }
   ],
   "source": [
    "# Importamos pi from math\n",
    "from math import pi\n",
    "\n",
    "# Definimos la funcion\n",
    "def radianes_a_grados(rad):\n",
    "    return rad * (180/pi)\n",
    "\n",
    "# Pedimos datos del teclado\n",
    "radianes = float(input(\"Dame el numero de radianes:\"))\n",
    "\n",
    "# Mostramos resultados:\n",
    "print(radianes_a_grados(radianes), \"°\")"
   ]
  },
  {
   "cell_type": "markdown",
   "metadata": {},
   "source": [
    "### Ejercicio 257\n",
    "\n",
    "Define una función que convierta grados en radianes.\n",
    "\n",
    "(Recuerda que 360 grados son 2 $\\Pi$ radianes)"
   ]
  },
  {
   "cell_type": "code",
   "execution_count": 8,
   "metadata": {},
   "outputs": [
    {
     "name": "stdout",
     "output_type": "stream",
     "text": [
      "1.5707963267948966 radianes\n"
     ]
    }
   ],
   "source": [
    "# Importamos pi de math\n",
    "from math import pi\n",
    "\n",
    "# Definimos la funcion\n",
    "def conversion (grados):\n",
    "    return grados * (pi/180)\n",
    "\n",
    "# Pedimos datos desde el teclado\n",
    "grds = float(input(\"Ingresa el numero de grados:\\n\"))\n",
    "\n",
    "# Mostramos en pantalla\n",
    "print(conversion(grds), \"radianes\")"
   ]
  },
  {
   "cell_type": "markdown",
   "metadata": {},
   "source": [
    "### Ejemplo\n",
    "Función que devueleve valor booleano si es mayor de edad\n"
   ]
  },
  {
   "cell_type": "code",
   "execution_count": 11,
   "metadata": {},
   "outputs": [],
   "source": [
    "# Declaramos la funcion\n",
    "def es_mayor_de_edad(edad):\n",
    "    if edad < 18:\n",
    "        return False\n",
    "    else:\n",
    "        return True"
   ]
  },
  {
   "cell_type": "markdown",
   "metadata": {},
   "source": [
    "### Ejercicio 261\n",
    "\n",
    "Diseña una función que reciba una cadena y devuelva si es cierto si empieza por minúscula y falso en caso contrario"
   ]
  },
  {
   "cell_type": "code",
   "execution_count": 13,
   "metadata": {},
   "outputs": [
    {
     "name": "stdout",
     "output_type": "stream",
     "text": [
      "Si empieza con minuscula\n"
     ]
    }
   ],
   "source": [
    "# Definimos la funcion\n",
    "def validar_si_empieza_con_mayuscula(cadena):\n",
    "    if cadena[0].islower():\n",
    "        return \"Si empieza con minuscula\"\n",
    "    else:\n",
    "        return \"No empieza con minuscula\"\n",
    "    \n",
    "# Pedimos la cadena desde el teclado\n",
    "cadena = input(\"Dame una cadena:\\n\")\n",
    "\n",
    "# Mostramos la panattal\n",
    "print(validar_si_empieza_con_mayuscula(cadena))"
   ]
  },
  {
   "cell_type": "markdown",
   "metadata": {},
   "source": [
    "## Ejercicio 262\n",
    "\n",
    "Diseña una función llamada es_repetición que reciba una cadena y nos diga si la cadena estáformada mediante la concatenacion de una cadena consigo misma. Por ejemplo es_repeticion(\"abab\") devolvera True, pues la cadena ab estaformada con la cadena af repetida por contra_es_repeticion(\"ababab\") devolvera False"
   ]
  },
  {
   "cell_type": "code",
   "execution_count": 17,
   "metadata": {},
   "outputs": [
    {
     "name": "stdout",
     "output_type": "stream",
     "text": [
      "True\n"
     ]
    }
   ],
   "source": [
    "# Definimos la funcion\n",
    "def es_repeticion(cadena):\n",
    "    # Definimos variables donde se almacena la mitad de la longitud de la cadena en entero\n",
    "    x = int(len(cadena) / 2) \n",
    "    contador = 0\n",
    "    \n",
    "    # Se compara las dos mitades de la cadena y se gaurda en una variable contador para que despues se compare la longitud de contador con la mitad de la dimension de la cadena\n",
    "    for i in range(x):\n",
    "        if cadena[i] == cadena[x + i]:\n",
    "            contador += 1\n",
    "    if contador == x:\n",
    "        return True\n",
    "    else:\n",
    "        return False\n",
    "    \n",
    "# Pedimos cadena desde teclado\n",
    "cad = input(\"Dame una cadena:\\n\")\n",
    "\n",
    "# Mostramos resultado\n",
    "print(es_repeticion(cad))"
   ]
  },
  {
   "cell_type": "markdown",
   "metadata": {},
   "source": [
    "### Ejemplo\n",
    "\n",
    "Vamos a diseñar una función que nos diga si un número dado es o no es perfecto. Se dice que un número es perfecto si es igual a la suma de todos sus divisores excluído él mismo. Por ejemplo, 28 es un número perfecto, pues sus divisores (excepto él mismo) son 1, 2, 4, 7 y 14, que suman 28. Empecemos. La función, a la que llamaremos es_perfecto, recibirá un solo dato (el número\n",
    "sobre el que hacemos la pregunta) y devolverá un valor booleano:"
   ]
  },
  {
   "cell_type": "code",
   "execution_count": 21,
   "metadata": {},
   "outputs": [
    {
     "name": "stdout",
     "output_type": "stream",
     "text": [
      "True\n"
     ]
    }
   ],
   "source": [
    "# Definimos la cabezara de al funcion\n",
    "def es_perfecto(n):\n",
    "    sumatorio = 0\n",
    "    for i in range(1, n):\n",
    "        if n % i == 0:\n",
    "            sumatorio += i\n",
    "            if sumatorio == n:\n",
    "                break\n",
    "    return sumatorio == n\n",
    "\n",
    "# Pedimos datos desde teclado\n",
    "num = int(input(\"Dame un numero:\\n\"))\n",
    "\n",
    "# Mostramos resultado en pantalla\n",
    "print(es_perfecto(num))    "
   ]
  },
  {
   "cell_type": "markdown",
   "metadata": {},
   "source": [
    "### Ejercicio 265\n",
    "\n",
    "Diseña una función que devuelva una lista con los números perfectos comprendidos entre 1 y n, siendo n un entero que nos proporciona el usuario.\n"
   ]
  },
  {
   "cell_type": "code",
   "execution_count": 10,
   "metadata": {},
   "outputs": [
    {
     "name": "stdout",
     "output_type": "stream",
     "text": [
      "Unexpected exception formatting exception. Falling back to standard exception\n"
     ]
    },
    {
     "name": "stderr",
     "output_type": "stream",
     "text": [
      "Traceback (most recent call last):\n",
      "  File \"d:\\Users\\rod_e\\AppData\\Local\\Programs\\Python\\Python310\\lib\\site-packages\\IPython\\core\\interactiveshell.py\", line 3397, in run_code\n",
      "    exec(code_obj, self.user_global_ns, self.user_ns)\n",
      "  File \"C:\\Users\\rod_e\\AppData\\Local\\Temp\\ipykernel_3508\\1346297160.py\", line 21, in <cell line: 21>\n",
      "    print(numeros_perfectos(num))\n",
      "  File \"C:\\Users\\rod_e\\AppData\\Local\\Temp\\ipykernel_3508\\1346297160.py\", line -1, in numeros_perfectos\n",
      "KeyboardInterrupt\n",
      "\n",
      "During handling of the above exception, another exception occurred:\n",
      "\n",
      "Traceback (most recent call last):\n",
      "  File \"d:\\Users\\rod_e\\AppData\\Local\\Programs\\Python\\Python310\\lib\\site-packages\\IPython\\core\\interactiveshell.py\", line 1992, in showtraceback\n",
      "    stb = self.InteractiveTB.structured_traceback(\n",
      "  File \"d:\\Users\\rod_e\\AppData\\Local\\Programs\\Python\\Python310\\lib\\site-packages\\IPython\\core\\ultratb.py\", line 1118, in structured_traceback\n",
      "    return FormattedTB.structured_traceback(\n",
      "  File \"d:\\Users\\rod_e\\AppData\\Local\\Programs\\Python\\Python310\\lib\\site-packages\\IPython\\core\\ultratb.py\", line 1012, in structured_traceback\n",
      "    return VerboseTB.structured_traceback(\n",
      "  File \"d:\\Users\\rod_e\\AppData\\Local\\Programs\\Python\\Python310\\lib\\site-packages\\IPython\\core\\ultratb.py\", line 865, in structured_traceback\n",
      "    formatted_exception = self.format_exception_as_a_whole(etype, evalue, etb, number_of_lines_of_context,\n",
      "  File \"d:\\Users\\rod_e\\AppData\\Local\\Programs\\Python\\Python310\\lib\\site-packages\\IPython\\core\\ultratb.py\", line 818, in format_exception_as_a_whole\n",
      "    frames.append(self.format_record(r))\n",
      "  File \"d:\\Users\\rod_e\\AppData\\Local\\Programs\\Python\\Python310\\lib\\site-packages\\IPython\\core\\ultratb.py\", line 736, in format_record\n",
      "    result += ''.join(_format_traceback_lines(frame_info.lines, Colors, self.has_colors, lvals))\n",
      "  File \"d:\\Users\\rod_e\\AppData\\Local\\Programs\\Python\\Python310\\lib\\site-packages\\stack_data\\utils.py\", line 145, in cached_property_wrapper\n",
      "    value = obj.__dict__[self.func.__name__] = self.func(obj)\n",
      "  File \"d:\\Users\\rod_e\\AppData\\Local\\Programs\\Python\\Python310\\lib\\site-packages\\stack_data\\core.py\", line 698, in lines\n",
      "    pieces = self.included_pieces\n",
      "  File \"d:\\Users\\rod_e\\AppData\\Local\\Programs\\Python\\Python310\\lib\\site-packages\\stack_data\\utils.py\", line 145, in cached_property_wrapper\n",
      "    value = obj.__dict__[self.func.__name__] = self.func(obj)\n",
      "  File \"d:\\Users\\rod_e\\AppData\\Local\\Programs\\Python\\Python310\\lib\\site-packages\\stack_data\\core.py\", line 649, in included_pieces\n",
      "    pos = scope_pieces.index(self.executing_piece)\n",
      "  File \"d:\\Users\\rod_e\\AppData\\Local\\Programs\\Python\\Python310\\lib\\site-packages\\stack_data\\utils.py\", line 145, in cached_property_wrapper\n",
      "    value = obj.__dict__[self.func.__name__] = self.func(obj)\n",
      "  File \"d:\\Users\\rod_e\\AppData\\Local\\Programs\\Python\\Python310\\lib\\site-packages\\stack_data\\core.py\", line 628, in executing_piece\n",
      "    return only(\n",
      "  File \"d:\\Users\\rod_e\\AppData\\Local\\Programs\\Python\\Python310\\lib\\site-packages\\executing\\executing.py\", line 164, in only\n",
      "    raise NotOneValueFound('Expected one value, found 0')\n",
      "executing.executing.NotOneValueFound: Expected one value, found 0\n"
     ]
    }
   ],
   "source": [
    "# Definimos la funcion\n",
    "def numeros_perfectos(n):\n",
    "    lista = []\n",
    "    l = 0\n",
    "    \n",
    "    while(l < n):\n",
    "        for i in range(1, 1000000):\n",
    "            sumatorio = 0\n",
    "            for j in range(1, i):\n",
    "                if i % j == 0:\n",
    "                    sumatorio += j\n",
    "                    if sumatorio == i:\n",
    "                        lista.append(sumatorio)\n",
    "                        l += 1\n",
    "    return lista\n",
    "\n",
    "# Pedimos datos del teclado\n",
    "num = int(input(\"Dame un número:\\n\"))\n",
    "\n",
    "# Mostramos resultados\n",
    "print(numeros_perfectos(num))"
   ]
  },
  {
   "cell_type": "markdown",
   "metadata": {},
   "source": [
    "### Ejemplo \n",
    "\n",
    "Sumatoria de una lista\n"
   ]
  },
  {
   "cell_type": "code",
   "execution_count": 12,
   "metadata": {},
   "outputs": [
    {
     "name": "stdout",
     "output_type": "stream",
     "text": [
      "10\n"
     ]
    }
   ],
   "source": [
    "def sumatorio(lista):\n",
    "    suma = 0\n",
    "    for numero in lista:\n",
    "        suma += numero\n",
    "    return suma\n",
    "\n",
    "print(sumatorio([1, 4, 5]))"
   ]
  },
  {
   "cell_type": "markdown",
   "metadata": {},
   "source": [
    "## Ejercicio 267\n",
    "\n",
    "Diseña una funcion que calcule el sumatorio de la diferencia entre numeros contiguos en una lista. Por ejemplo, para la lista [1, 3, 6, 10] que devolvera 9, que es 2 + 3 + 4 (el 2 resulta de calcular 3-1, el 3 de calcular 6-3 y el 4 de calcular 10 - 6)"
   ]
  },
  {
   "cell_type": "code",
   "execution_count": 22,
   "metadata": {},
   "outputs": [
    {
     "name": "stdout",
     "output_type": "stream",
     "text": [
      "9\n"
     ]
    }
   ],
   "source": [
    "# Definimos la funcion\n",
    "def suma_contiguo(lista):\n",
    "    temp = 0\n",
    "    for i in range(1, len(lista)):\n",
    "        temp = lista[i] - lista[i-1] + temp\n",
    "    return temp\n",
    "\n",
    "a = [1, 3, 6, 10]\n",
    "print(suma_contiguo(a))"
   ]
  },
  {
   "cell_type": "markdown",
   "metadata": {},
   "source": [
    "## Ejemplo\n",
    "\n",
    "Buscar el elemento mas grande de una lista"
   ]
  },
  {
   "cell_type": "code",
   "execution_count": 23,
   "metadata": {},
   "outputs": [
    {
     "name": "stdout",
     "output_type": "stream",
     "text": [
      "200\n"
     ]
    }
   ],
   "source": [
    "# definimos la funcion\n",
    "def maximo(lista):\n",
    "    candidato = lista[0]\n",
    "    for elemento in lista:\n",
    "        if elemento > candidato:\n",
    "            candidato = elemento\n",
    "    return candidato\n",
    "\n",
    "print(maximo([15, 10, 25, 200, 10, 15]))"
   ]
  },
  {
   "cell_type": "markdown",
   "metadata": {},
   "source": [
    "## Ejercicio 268\n",
    "\n",
    "Haz una traza de la llamada maxima([6, 2, 7, 1, 10, 1, 0])"
   ]
  },
  {
   "cell_type": "code",
   "execution_count": 26,
   "metadata": {},
   "outputs": [
    {
     "name": "stdout",
     "output_type": "stream",
     "text": [
      "10\n"
     ]
    }
   ],
   "source": [
    "# Definimos la lista\n",
    "def maximo(lista):\n",
    "    if len(lista) > 0:\n",
    "        candidato = lista[0]\n",
    "        for elemento in lista:\n",
    "            if elemento > candidato:\n",
    "                candidato = elemento\n",
    "    else:\n",
    "        candidato = None\n",
    "    return candidato\n",
    "\n",
    "print(maximo([6, 2, 7, 1, 10, 1 , 0]))"
   ]
  },
  {
   "cell_type": "markdown",
   "metadata": {},
   "source": [
    "## Ejercicio 269\n",
    "\n",
    "Diseña una funcion que, dada una lista de numeros enteros, devuelva el numero de \\<series\\> que hay en ella. Llamamos \\<serie\\> a todo tramo de lista con valores identicos.\n",
    "\n",
    "Por ejemplo, la lista [1, 1, 8, 8, 8, 8, 0, 0 , 0, 2, 10, 10] tiene 5 \\<series\\> (ten en cuenta que el 2 forma parte de una \\<serie\\> de un solo elemento)"
   ]
  },
  {
   "cell_type": "code",
   "execution_count": null,
   "metadata": {},
   "outputs": [],
   "source": [
    "# Definicion de la funcion\n",
    "def buscar_serie(lista):\n",
    "    if len(lista) > 0:\n",
    "        par = "
   ]
  }
 ],
 "metadata": {
  "kernelspec": {
   "display_name": "Python 3.10.4 64-bit",
   "language": "python",
   "name": "python3"
  },
  "language_info": {
   "codemirror_mode": {
    "name": "ipython",
    "version": 3
   },
   "file_extension": ".py",
   "mimetype": "text/x-python",
   "name": "python",
   "nbconvert_exporter": "python",
   "pygments_lexer": "ipython3",
   "version": "3.10.4"
  },
  "orig_nbformat": 4,
  "vscode": {
   "interpreter": {
    "hash": "87e37ab4b4be2a65128e65ee6dd2cd25882cc8ca9e7bb4e0cbfeff46ad1b513d"
   }
  }
 },
 "nbformat": 4,
 "nbformat_minor": 2
}
