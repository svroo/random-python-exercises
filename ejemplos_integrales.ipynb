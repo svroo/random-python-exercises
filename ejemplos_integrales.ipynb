{
 "cells": [
  {
   "cell_type": "markdown",
   "metadata": {},
   "source": [
    "## 6.6 Ejemplos\n",
    "\n",
    "En este archivo se van abordar algunos ejemplos de integracion que vienen en el libro Introduccion programacion con python 3 que se ha trabajado anteriormente"
   ]
  },
  {
   "cell_type": "markdown",
   "metadata": {},
   "source": [
    "### 6.6.1 Integración numérica\n"
   ]
  },
  {
   "cell_type": "code",
   "execution_count": 3,
   "metadata": {},
   "outputs": [
    {
     "name": "stdout",
     "output_type": "stream",
     "text": [
      "La integral de x^2 entre 0.0 y 1.0 vale aproximadamente 0.32835000000000014\n"
     ]
    }
   ],
   "source": [
    "# Definimos la funcion\n",
    "def integral_x2(a, b, n):\n",
    "    if n == 0:\n",
    "        sumatorio = 0.0\n",
    "    else:\n",
    "        deltax = (b - a) / n\n",
    "        sumatorio = 0.0\n",
    "        for i in range(n):\n",
    "            sumatorio += deltax * (a + i * deltax) ** 2\n",
    "    return sumatorio\n",
    "\n",
    "# Pedimos datos de teclado\n",
    "inicio = float(input(\"Inicio del intervalo:\\n\"))\n",
    "final = float(input(\"Final del intervalo:\\n\"))\n",
    "partes = int(input(\"Numero de rectangulos:\\n\"))\n",
    "\n",
    "# Mostramos resultados por pantalla\n",
    "print(\"La integral de x^2 entre {0} y {1} \".format(inicio, final), end=\"\")\n",
    "print(\"vale aproximadamente {0}\". format(integral_x2(inicio, final, partes)))"
   ]
  },
  {
   "cell_type": "markdown",
   "metadata": {},
   "source": [
    "## 6.6.2 Aproximacion de la exponencial de un número real\n",
    "\n",
    "Vamos a desarrollar una función que calcule el valor de ea, siendo a un número real, con\n",
    "una restricción: no podemos utilizar el operador de exponenciación .\n",
    "Si a fuese un número natural, sería fácil efectuar el cálculo"
   ]
  },
  {
   "cell_type": "code",
   "execution_count": 4,
   "metadata": {},
   "outputs": [],
   "source": [
    "# Importamos librerias\n",
    "from math import e\n",
    "\n",
    "# Definimos la funcion\n",
    "def exponencial(n):\n",
    "    exp = 1.0\n",
    "    for i in range(n):\n",
    "        exp *= e\n",
    "    return exp"
   ]
  },
  {
   "cell_type": "markdown",
   "metadata": {},
   "source": [
    "## Ejemplo 346\n",
    "\n",
    "¿Y si a pudiera tomar valores enteros negativos? Diseña una función exponencial que\n",
    "trate también ese caso. (Recuerda que e<sup>−a</sup> = 1/ea)"
   ]
  },
  {
   "cell_type": "code",
   "execution_count": null,
   "metadata": {},
   "outputs": [],
   "source": [
    "def elevado (a,k):\n",
    "    productorio = 1.0\n",
    "    for i in range(1, k+1):\n",
    "        productorio *= a\n",
    "    return productorio\n",
    "\n",
    "def factoria(k):\n",
    "    productorio = 1.0\n",
    "    for i in range(1, k+1):\n",
    "        productorio *= i\n",
    "    return productorio\n",
    "\n",
    "def exponencial(a, n):\n",
    "    sumatorio = 0.0\n",
    "    for k in range(n):\n",
    "        sumatorio += elevado(a, k) / factoria(k)\n",
    "    return sumatorio"
   ]
  }
 ],
 "metadata": {
  "kernelspec": {
   "display_name": "Python 3.10.5 64-bit",
   "language": "python",
   "name": "python3"
  },
  "language_info": {
   "codemirror_mode": {
    "name": "ipython",
    "version": 3
   },
   "file_extension": ".py",
   "mimetype": "text/x-python",
   "name": "python",
   "nbconvert_exporter": "python",
   "pygments_lexer": "ipython3",
   "version": "3.10.5"
  },
  "orig_nbformat": 4,
  "vscode": {
   "interpreter": {
    "hash": "63963b3f4c440940f0b94a3100916033a226cb4f45979123153792d60aa56d6a"
   }
  }
 },
 "nbformat": 4,
 "nbformat_minor": 2
}
