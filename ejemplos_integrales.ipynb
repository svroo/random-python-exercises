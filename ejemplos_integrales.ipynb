{
 "cells": [
  {
   "cell_type": "markdown",
   "metadata": {},
   "source": [
    "## 6.6 Ejemplos\n",
    "\n",
    "En este archivo se van abordar algunos ejemplos de integracion que vienen en el libro Introduccion programacion con python 3 que se ha trabajado anteriormente"
   ]
  },
  {
   "cell_type": "markdown",
   "metadata": {},
   "source": [
    "### 6.6.1 Integración numérica\n"
   ]
  },
  {
   "cell_type": "code",
   "execution_count": 3,
   "metadata": {},
   "outputs": [
    {
     "name": "stdout",
     "output_type": "stream",
     "text": [
      "La integral de x^2 entre 0.0 y 1.0 vale aproximadamente 0.32835000000000014\n"
     ]
    }
   ],
   "source": [
    "# Definimos la funcion\n",
    "def integral_x2(a, b, n):\n",
    "    if n == 0:\n",
    "        sumatorio = 0.0\n",
    "    else:\n",
    "        deltax = (b - a) / n\n",
    "        sumatorio = 0.0\n",
    "        for i in range(n):\n",
    "            sumatorio += deltax * (a + i * deltax) ** 2\n",
    "    return sumatorio\n",
    "\n",
    "# Pedimos datos de teclado\n",
    "inicio = float(input(\"Inicio del intervalo:\\n\"))\n",
    "final = float(input(\"Final del intervalo:\\n\"))\n",
    "partes = int(input(\"Numero de rectangulos:\\n\"))\n",
    "\n",
    "# Mostramos resultados por pantalla\n",
    "print(\"La integral de x^2 entre {0} y {1} \".format(inicio, final), end=\"\")\n",
    "print(\"vale aproximadamente {0}\". format(integral_x2(inicio, final, partes)))"
   ]
  },
  {
   "cell_type": "markdown",
   "metadata": {},
   "source": [
    "## 6.6.2 Aproximacion de la exponencial de un número real\n",
    "\n",
    "Vamos a desarrollar una función que calcule el valor de ea, siendo a un número real, con\n",
    "una restricción: no podemos utilizar el operador de exponenciación .\n",
    "Si a fuese un número natural, sería fácil efectuar el cálculo"
   ]
  },
  {
   "cell_type": "code",
   "execution_count": 4,
   "metadata": {},
   "outputs": [],
   "source": [
    "# Importamos librerias\n",
    "from math import e\n",
    "\n",
    "# Definimos la funcion\n",
    "def exponencial(n):\n",
    "    exp = 1.0\n",
    "    for i in range(n):\n",
    "        exp *= e\n",
    "    return exp"
   ]
  },
  {
   "cell_type": "markdown",
   "metadata": {},
   "source": [
    "## Ejemplo 346\n",
    "\n",
    "¿Y si a pudiera tomar valores enteros negativos? Diseña una función exponencial que\n",
    "trate también ese caso. (Recuerda que e<sup>−a</sup> = 1/ea)"
   ]
  },
  {
   "cell_type": "code",
   "execution_count": 1,
   "metadata": {},
   "outputs": [],
   "source": [
    "def elevado (a,k):\n",
    "    productorio = 1.0\n",
    "    for i in range(1, k+1):\n",
    "        productorio *= a\n",
    "    return productorio\n",
    "\n",
    "def factoria(k):\n",
    "    productorio = 1.0\n",
    "    for i in range(1, k+1):\n",
    "        productorio *= i\n",
    "    return productorio\n",
    "\n",
    "def exponencial(a, n):\n",
    "    sumatorio = 0.0\n",
    "    for k in range(n):\n",
    "        sumatorio += elevado(a, k) / factoria(k)\n",
    "    return sumatorio"
   ]
  },
  {
   "cell_type": "markdown",
   "metadata": {},
   "source": [
    "## Cálculo de número combinatorios"
   ]
  },
  {
   "cell_type": "code",
   "execution_count": 2,
   "metadata": {},
   "outputs": [],
   "source": [
    "# Definimos funcion\n",
    "def factorial(n):\n",
    "    productorio = 1.0\n",
    "    for i in range(1, n+1):\n",
    "        productorio *= 1\n",
    "    return productorio\n",
    "\n",
    "def combinaciones(n, m):\n",
    "    return factorial(n) / (factorial(n-m) * factorial(m))"
   ]
  },
  {
   "cell_type": "markdown",
   "metadata": {},
   "source": [
    "## Metodo de la biseccion\n",
    "\n",
    "Permite encontrar un cer ode una función matemática f(x) en un intervalo [a, b] si f(x) es continua en dicho intervalo y f(a) y f(b) son de distinto signo."
   ]
  },
  {
   "cell_type": "code",
   "execution_count": 5,
   "metadata": {},
   "outputs": [
    {
     "name": "stdout",
     "output_type": "stream",
     "text": [
      "El cero esta en: 2.732052803039551\n"
     ]
    }
   ],
   "source": [
    "def f(x):\n",
    "    return x ** 2 - 2*x - 2\n",
    "\n",
    "def biseccion(a, b, epsilon):\n",
    "    c = (a+b) / 2\n",
    "    while f(c) != 0 and b - a > epsilon:\n",
    "        if f(a) * f(c) > 0:\n",
    "            a = c\n",
    "        elif f(b) * f(c) > 0:\n",
    "            b = c\n",
    "        c = (a + b) / 2\n",
    "    return c\n",
    "\n",
    "print(\"El cero esta en:\", biseccion(0.5, 3.5, 1e-5))"
   ]
  },
  {
   "cell_type": "markdown",
   "metadata": {},
   "source": [
    "## Funciones recursivas\n",
    "\n",
    "Empezaremos por presentar y estudiar una funcion recursiva, el calculo recursivo del factorial de un número natural."
   ]
  },
  {
   "cell_type": "code",
   "execution_count": 8,
   "metadata": {},
   "outputs": [
    {
     "name": "stdout",
     "output_type": "stream",
     "text": [
      "1\n"
     ]
    }
   ],
   "source": [
    "def factorial(n):\n",
    "    if n == 0 or n == 1:\n",
    "        return 1\n",
    "    elif n > 1:\n",
    "        return n * factorial(n - 1)\n",
    "\n",
    "print(factorial(1))"
   ]
  },
  {
   "cell_type": "markdown",
   "metadata": {},
   "source": [
    "## Ejercicio 355\n",
    "\n",
    "Diseña una funcion Python recursiva que calcule el sumatorio de los n primeros números naturales."
   ]
  },
  {
   "cell_type": "code",
   "execution_count": 11,
   "metadata": {},
   "outputs": [
    {
     "name": "stdout",
     "output_type": "stream",
     "text": [
      "5050\n"
     ]
    }
   ],
   "source": [
    "# Definimos la funcion\n",
    "def suma_n_naturales(n):\n",
    "    if n == 0:\n",
    "        return 0\n",
    "    elif n > 0:\n",
    "        return n + suma_n_naturales(n - 1)\n",
    "\n",
    "print(suma_n_naturales(100))"
   ]
  },
  {
   "cell_type": "markdown",
   "metadata": {},
   "source": [
    "## Ejercicio 356 \n",
    "\n",
    "Inspirandote en el ejercicio anterio, diseña una función recursiva que, dados *m* y *n*, calcule: \n",
    "\n",
    "- Sumatoria de i hasta n siendo i = m"
   ]
  },
  {
   "cell_type": "code",
   "execution_count": 15,
   "metadata": {},
   "outputs": [
    {
     "name": "stdout",
     "output_type": "stream",
     "text": [
      "467860\n"
     ]
    }
   ],
   "source": [
    "# Definimos la funcion\n",
    "def suma_de_n_a_m(m, n):\n",
    "    if m == n:\n",
    "        return m\n",
    "    else:\n",
    "        return m + suma_de_n_a_m(m + 1, n)\n",
    "\n",
    "print(suma_de_n_a_m(256, 1000))"
   ]
  },
  {
   "cell_type": "markdown",
   "metadata": {},
   "source": [
    "## Ejemplo\n",
    "\n",
    "Calculo de bits necesario para representar un numero entero"
   ]
  },
  {
   "cell_type": "code",
   "execution_count": 19,
   "metadata": {},
   "outputs": [
    {
     "name": "stdout",
     "output_type": "stream",
     "text": [
      "8\n"
     ]
    }
   ],
   "source": [
    "# Definimos la funcion\n",
    "def bit(n):\n",
    "    if n == 0 or n == 1:\n",
    "        return 1\n",
    "    else:\n",
    "        return 1 + bit(n // 2)\n",
    "\n",
    "print(bit(255))"
   ]
  },
  {
   "cell_type": "markdown",
   "metadata": {},
   "source": [
    "## Ejercicio 359\n",
    "\n",
    "Diseña una función recursiva que calcule el número de dígitos que tiene un número entero (en base 10)."
   ]
  },
  {
   "cell_type": "code",
   "execution_count": 25,
   "metadata": {},
   "outputs": [
    {
     "name": "stdout",
     "output_type": "stream",
     "text": [
      "6\n"
     ]
    }
   ],
   "source": [
    "# Definimos la función\n",
    "def base_diez(n):\n",
    "    if n == 0:\n",
    "        return 0\n",
    "    else:\n",
    "        return 1 + base_diez(n // 10)\n",
    "\n",
    "print(base_diez(100000))"
   ]
  },
  {
   "cell_type": "markdown",
   "metadata": {},
   "source": [
    "## Ejemplo\n",
    "Secuencia de números fibonacci"
   ]
  },
  {
   "cell_type": "code",
   "execution_count": 29,
   "metadata": {},
   "outputs": [
    {
     "name": "stdout",
     "output_type": "stream",
     "text": [
      "144\n"
     ]
    }
   ],
   "source": [
    "# Definimos la funcion\n",
    "def fibonacci(n):\n",
    "    if n == 1 or n == 2:\n",
    "        return 1\n",
    "    elif n > 2:\n",
    "        return fibonacci(n -1) + fibonacci(n - 2)\n",
    "\n",
    "print(fibonacci(12))"
   ]
  },
  {
   "cell_type": "markdown",
   "metadata": {},
   "source": [
    "## Ejercicio 362\n",
    "\n",
    "Modifica la función para que , cada vez que se la llame, muestre por patnalla un mensaje que diga *Empieza cálculo de Fibonacci de N* donde n es el valor del argumento y para que, justo antes de acabar muestre por pantalla *Acaba cálculo de Fibonacci de n y devuelve el valor m* donde m es el valor a devolver. A continuación llama a la función para calcular el cuarto número de Fibonacci y analiza el texto que paarece por pantalla. Haz lo mismo para el décimo número de Fibonacci"
   ]
  },
  {
   "cell_type": "code",
   "execution_count": 30,
   "metadata": {},
   "outputs": [
    {
     "name": "stdout",
     "output_type": "stream",
     "text": [
      "Iniciando clculo Fibonacci de:  12\n",
      "Iniciando clculo Fibonacci de:  11\n",
      "Iniciando clculo Fibonacci de:  10\n",
      "Iniciando clculo Fibonacci de:  9\n",
      "Iniciando clculo Fibonacci de:  8\n",
      "Iniciando clculo Fibonacci de:  7\n",
      "Iniciando clculo Fibonacci de:  6\n",
      "Iniciando clculo Fibonacci de:  5\n",
      "Iniciando clculo Fibonacci de:  4\n",
      "Iniciando clculo Fibonacci de:  3\n",
      "Iniciando clculo Fibonacci de:  2\n",
      "Acaba calculo de Fibonacci de:  2\n",
      "Iniciando clculo Fibonacci de:  1\n",
      "Acaba calculo de Fibonacci de:  1\n",
      "Iniciando clculo Fibonacci de:  2\n",
      "Acaba calculo de Fibonacci de:  2\n",
      "Iniciando clculo Fibonacci de:  3\n",
      "Iniciando clculo Fibonacci de:  2\n",
      "Acaba calculo de Fibonacci de:  2\n",
      "Iniciando clculo Fibonacci de:  1\n",
      "Acaba calculo de Fibonacci de:  1\n",
      "Iniciando clculo Fibonacci de:  4\n",
      "Iniciando clculo Fibonacci de:  3\n",
      "Iniciando clculo Fibonacci de:  2\n",
      "Acaba calculo de Fibonacci de:  2\n",
      "Iniciando clculo Fibonacci de:  1\n",
      "Acaba calculo de Fibonacci de:  1\n",
      "Iniciando clculo Fibonacci de:  2\n",
      "Acaba calculo de Fibonacci de:  2\n",
      "Iniciando clculo Fibonacci de:  5\n",
      "Iniciando clculo Fibonacci de:  4\n",
      "Iniciando clculo Fibonacci de:  3\n",
      "Iniciando clculo Fibonacci de:  2\n",
      "Acaba calculo de Fibonacci de:  2\n",
      "Iniciando clculo Fibonacci de:  1\n",
      "Acaba calculo de Fibonacci de:  1\n",
      "Iniciando clculo Fibonacci de:  2\n",
      "Acaba calculo de Fibonacci de:  2\n",
      "Iniciando clculo Fibonacci de:  3\n",
      "Iniciando clculo Fibonacci de:  2\n",
      "Acaba calculo de Fibonacci de:  2\n",
      "Iniciando clculo Fibonacci de:  1\n",
      "Acaba calculo de Fibonacci de:  1\n",
      "Iniciando clculo Fibonacci de:  6\n",
      "Iniciando clculo Fibonacci de:  5\n",
      "Iniciando clculo Fibonacci de:  4\n",
      "Iniciando clculo Fibonacci de:  3\n",
      "Iniciando clculo Fibonacci de:  2\n",
      "Acaba calculo de Fibonacci de:  2\n",
      "Iniciando clculo Fibonacci de:  1\n",
      "Acaba calculo de Fibonacci de:  1\n",
      "Iniciando clculo Fibonacci de:  2\n",
      "Acaba calculo de Fibonacci de:  2\n",
      "Iniciando clculo Fibonacci de:  3\n",
      "Iniciando clculo Fibonacci de:  2\n",
      "Acaba calculo de Fibonacci de:  2\n",
      "Iniciando clculo Fibonacci de:  1\n",
      "Acaba calculo de Fibonacci de:  1\n",
      "Iniciando clculo Fibonacci de:  4\n",
      "Iniciando clculo Fibonacci de:  3\n",
      "Iniciando clculo Fibonacci de:  2\n",
      "Acaba calculo de Fibonacci de:  2\n",
      "Iniciando clculo Fibonacci de:  1\n",
      "Acaba calculo de Fibonacci de:  1\n",
      "Iniciando clculo Fibonacci de:  2\n",
      "Acaba calculo de Fibonacci de:  2\n",
      "Iniciando clculo Fibonacci de:  7\n",
      "Iniciando clculo Fibonacci de:  6\n",
      "Iniciando clculo Fibonacci de:  5\n",
      "Iniciando clculo Fibonacci de:  4\n",
      "Iniciando clculo Fibonacci de:  3\n",
      "Iniciando clculo Fibonacci de:  2\n",
      "Acaba calculo de Fibonacci de:  2\n",
      "Iniciando clculo Fibonacci de:  1\n",
      "Acaba calculo de Fibonacci de:  1\n",
      "Iniciando clculo Fibonacci de:  2\n",
      "Acaba calculo de Fibonacci de:  2\n",
      "Iniciando clculo Fibonacci de:  3\n",
      "Iniciando clculo Fibonacci de:  2\n",
      "Acaba calculo de Fibonacci de:  2\n",
      "Iniciando clculo Fibonacci de:  1\n",
      "Acaba calculo de Fibonacci de:  1\n",
      "Iniciando clculo Fibonacci de:  4\n",
      "Iniciando clculo Fibonacci de:  3\n",
      "Iniciando clculo Fibonacci de:  2\n",
      "Acaba calculo de Fibonacci de:  2\n",
      "Iniciando clculo Fibonacci de:  1\n",
      "Acaba calculo de Fibonacci de:  1\n",
      "Iniciando clculo Fibonacci de:  2\n",
      "Acaba calculo de Fibonacci de:  2\n",
      "Iniciando clculo Fibonacci de:  5\n",
      "Iniciando clculo Fibonacci de:  4\n",
      "Iniciando clculo Fibonacci de:  3\n",
      "Iniciando clculo Fibonacci de:  2\n",
      "Acaba calculo de Fibonacci de:  2\n",
      "Iniciando clculo Fibonacci de:  1\n",
      "Acaba calculo de Fibonacci de:  1\n",
      "Iniciando clculo Fibonacci de:  2\n",
      "Acaba calculo de Fibonacci de:  2\n",
      "Iniciando clculo Fibonacci de:  3\n",
      "Iniciando clculo Fibonacci de:  2\n",
      "Acaba calculo de Fibonacci de:  2\n",
      "Iniciando clculo Fibonacci de:  1\n",
      "Acaba calculo de Fibonacci de:  1\n",
      "Iniciando clculo Fibonacci de:  8\n",
      "Iniciando clculo Fibonacci de:  7\n",
      "Iniciando clculo Fibonacci de:  6\n",
      "Iniciando clculo Fibonacci de:  5\n",
      "Iniciando clculo Fibonacci de:  4\n",
      "Iniciando clculo Fibonacci de:  3\n",
      "Iniciando clculo Fibonacci de:  2\n",
      "Acaba calculo de Fibonacci de:  2\n",
      "Iniciando clculo Fibonacci de:  1\n",
      "Acaba calculo de Fibonacci de:  1\n",
      "Iniciando clculo Fibonacci de:  2\n",
      "Acaba calculo de Fibonacci de:  2\n",
      "Iniciando clculo Fibonacci de:  3\n",
      "Iniciando clculo Fibonacci de:  2\n",
      "Acaba calculo de Fibonacci de:  2\n",
      "Iniciando clculo Fibonacci de:  1\n",
      "Acaba calculo de Fibonacci de:  1\n",
      "Iniciando clculo Fibonacci de:  4\n",
      "Iniciando clculo Fibonacci de:  3\n",
      "Iniciando clculo Fibonacci de:  2\n",
      "Acaba calculo de Fibonacci de:  2\n",
      "Iniciando clculo Fibonacci de:  1\n",
      "Acaba calculo de Fibonacci de:  1\n",
      "Iniciando clculo Fibonacci de:  2\n",
      "Acaba calculo de Fibonacci de:  2\n",
      "Iniciando clculo Fibonacci de:  5\n",
      "Iniciando clculo Fibonacci de:  4\n",
      "Iniciando clculo Fibonacci de:  3\n",
      "Iniciando clculo Fibonacci de:  2\n",
      "Acaba calculo de Fibonacci de:  2\n",
      "Iniciando clculo Fibonacci de:  1\n",
      "Acaba calculo de Fibonacci de:  1\n",
      "Iniciando clculo Fibonacci de:  2\n",
      "Acaba calculo de Fibonacci de:  2\n",
      "Iniciando clculo Fibonacci de:  3\n",
      "Iniciando clculo Fibonacci de:  2\n",
      "Acaba calculo de Fibonacci de:  2\n",
      "Iniciando clculo Fibonacci de:  1\n",
      "Acaba calculo de Fibonacci de:  1\n",
      "Iniciando clculo Fibonacci de:  6\n",
      "Iniciando clculo Fibonacci de:  5\n",
      "Iniciando clculo Fibonacci de:  4\n",
      "Iniciando clculo Fibonacci de:  3\n",
      "Iniciando clculo Fibonacci de:  2\n",
      "Acaba calculo de Fibonacci de:  2\n",
      "Iniciando clculo Fibonacci de:  1\n",
      "Acaba calculo de Fibonacci de:  1\n",
      "Iniciando clculo Fibonacci de:  2\n",
      "Acaba calculo de Fibonacci de:  2\n",
      "Iniciando clculo Fibonacci de:  3\n",
      "Iniciando clculo Fibonacci de:  2\n",
      "Acaba calculo de Fibonacci de:  2\n",
      "Iniciando clculo Fibonacci de:  1\n",
      "Acaba calculo de Fibonacci de:  1\n",
      "Iniciando clculo Fibonacci de:  4\n",
      "Iniciando clculo Fibonacci de:  3\n",
      "Iniciando clculo Fibonacci de:  2\n",
      "Acaba calculo de Fibonacci de:  2\n",
      "Iniciando clculo Fibonacci de:  1\n",
      "Acaba calculo de Fibonacci de:  1\n",
      "Iniciando clculo Fibonacci de:  2\n",
      "Acaba calculo de Fibonacci de:  2\n",
      "Iniciando clculo Fibonacci de:  9\n",
      "Iniciando clculo Fibonacci de:  8\n",
      "Iniciando clculo Fibonacci de:  7\n",
      "Iniciando clculo Fibonacci de:  6\n",
      "Iniciando clculo Fibonacci de:  5\n",
      "Iniciando clculo Fibonacci de:  4\n",
      "Iniciando clculo Fibonacci de:  3\n",
      "Iniciando clculo Fibonacci de:  2\n",
      "Acaba calculo de Fibonacci de:  2\n",
      "Iniciando clculo Fibonacci de:  1\n",
      "Acaba calculo de Fibonacci de:  1\n",
      "Iniciando clculo Fibonacci de:  2\n",
      "Acaba calculo de Fibonacci de:  2\n",
      "Iniciando clculo Fibonacci de:  3\n",
      "Iniciando clculo Fibonacci de:  2\n",
      "Acaba calculo de Fibonacci de:  2\n",
      "Iniciando clculo Fibonacci de:  1\n",
      "Acaba calculo de Fibonacci de:  1\n",
      "Iniciando clculo Fibonacci de:  4\n",
      "Iniciando clculo Fibonacci de:  3\n",
      "Iniciando clculo Fibonacci de:  2\n",
      "Acaba calculo de Fibonacci de:  2\n",
      "Iniciando clculo Fibonacci de:  1\n",
      "Acaba calculo de Fibonacci de:  1\n",
      "Iniciando clculo Fibonacci de:  2\n",
      "Acaba calculo de Fibonacci de:  2\n",
      "Iniciando clculo Fibonacci de:  5\n",
      "Iniciando clculo Fibonacci de:  4\n",
      "Iniciando clculo Fibonacci de:  3\n",
      "Iniciando clculo Fibonacci de:  2\n",
      "Acaba calculo de Fibonacci de:  2\n",
      "Iniciando clculo Fibonacci de:  1\n",
      "Acaba calculo de Fibonacci de:  1\n",
      "Iniciando clculo Fibonacci de:  2\n",
      "Acaba calculo de Fibonacci de:  2\n",
      "Iniciando clculo Fibonacci de:  3\n",
      "Iniciando clculo Fibonacci de:  2\n",
      "Acaba calculo de Fibonacci de:  2\n",
      "Iniciando clculo Fibonacci de:  1\n",
      "Acaba calculo de Fibonacci de:  1\n",
      "Iniciando clculo Fibonacci de:  6\n",
      "Iniciando clculo Fibonacci de:  5\n",
      "Iniciando clculo Fibonacci de:  4\n",
      "Iniciando clculo Fibonacci de:  3\n",
      "Iniciando clculo Fibonacci de:  2\n",
      "Acaba calculo de Fibonacci de:  2\n",
      "Iniciando clculo Fibonacci de:  1\n",
      "Acaba calculo de Fibonacci de:  1\n",
      "Iniciando clculo Fibonacci de:  2\n",
      "Acaba calculo de Fibonacci de:  2\n",
      "Iniciando clculo Fibonacci de:  3\n",
      "Iniciando clculo Fibonacci de:  2\n",
      "Acaba calculo de Fibonacci de:  2\n",
      "Iniciando clculo Fibonacci de:  1\n",
      "Acaba calculo de Fibonacci de:  1\n",
      "Iniciando clculo Fibonacci de:  4\n",
      "Iniciando clculo Fibonacci de:  3\n",
      "Iniciando clculo Fibonacci de:  2\n",
      "Acaba calculo de Fibonacci de:  2\n",
      "Iniciando clculo Fibonacci de:  1\n",
      "Acaba calculo de Fibonacci de:  1\n",
      "Iniciando clculo Fibonacci de:  2\n",
      "Acaba calculo de Fibonacci de:  2\n",
      "Iniciando clculo Fibonacci de:  7\n",
      "Iniciando clculo Fibonacci de:  6\n",
      "Iniciando clculo Fibonacci de:  5\n",
      "Iniciando clculo Fibonacci de:  4\n",
      "Iniciando clculo Fibonacci de:  3\n",
      "Iniciando clculo Fibonacci de:  2\n",
      "Acaba calculo de Fibonacci de:  2\n",
      "Iniciando clculo Fibonacci de:  1\n",
      "Acaba calculo de Fibonacci de:  1\n",
      "Iniciando clculo Fibonacci de:  2\n",
      "Acaba calculo de Fibonacci de:  2\n",
      "Iniciando clculo Fibonacci de:  3\n",
      "Iniciando clculo Fibonacci de:  2\n",
      "Acaba calculo de Fibonacci de:  2\n",
      "Iniciando clculo Fibonacci de:  1\n",
      "Acaba calculo de Fibonacci de:  1\n",
      "Iniciando clculo Fibonacci de:  4\n",
      "Iniciando clculo Fibonacci de:  3\n",
      "Iniciando clculo Fibonacci de:  2\n",
      "Acaba calculo de Fibonacci de:  2\n",
      "Iniciando clculo Fibonacci de:  1\n",
      "Acaba calculo de Fibonacci de:  1\n",
      "Iniciando clculo Fibonacci de:  2\n",
      "Acaba calculo de Fibonacci de:  2\n",
      "Iniciando clculo Fibonacci de:  5\n",
      "Iniciando clculo Fibonacci de:  4\n",
      "Iniciando clculo Fibonacci de:  3\n",
      "Iniciando clculo Fibonacci de:  2\n",
      "Acaba calculo de Fibonacci de:  2\n",
      "Iniciando clculo Fibonacci de:  1\n",
      "Acaba calculo de Fibonacci de:  1\n",
      "Iniciando clculo Fibonacci de:  2\n",
      "Acaba calculo de Fibonacci de:  2\n",
      "Iniciando clculo Fibonacci de:  3\n",
      "Iniciando clculo Fibonacci de:  2\n",
      "Acaba calculo de Fibonacci de:  2\n",
      "Iniciando clculo Fibonacci de:  1\n",
      "Acaba calculo de Fibonacci de:  1\n",
      "Iniciando clculo Fibonacci de:  10\n",
      "Iniciando clculo Fibonacci de:  9\n",
      "Iniciando clculo Fibonacci de:  8\n",
      "Iniciando clculo Fibonacci de:  7\n",
      "Iniciando clculo Fibonacci de:  6\n",
      "Iniciando clculo Fibonacci de:  5\n",
      "Iniciando clculo Fibonacci de:  4\n",
      "Iniciando clculo Fibonacci de:  3\n",
      "Iniciando clculo Fibonacci de:  2\n",
      "Acaba calculo de Fibonacci de:  2\n",
      "Iniciando clculo Fibonacci de:  1\n",
      "Acaba calculo de Fibonacci de:  1\n",
      "Iniciando clculo Fibonacci de:  2\n",
      "Acaba calculo de Fibonacci de:  2\n",
      "Iniciando clculo Fibonacci de:  3\n",
      "Iniciando clculo Fibonacci de:  2\n",
      "Acaba calculo de Fibonacci de:  2\n",
      "Iniciando clculo Fibonacci de:  1\n",
      "Acaba calculo de Fibonacci de:  1\n",
      "Iniciando clculo Fibonacci de:  4\n",
      "Iniciando clculo Fibonacci de:  3\n",
      "Iniciando clculo Fibonacci de:  2\n",
      "Acaba calculo de Fibonacci de:  2\n",
      "Iniciando clculo Fibonacci de:  1\n",
      "Acaba calculo de Fibonacci de:  1\n",
      "Iniciando clculo Fibonacci de:  2\n",
      "Acaba calculo de Fibonacci de:  2\n",
      "Iniciando clculo Fibonacci de:  5\n",
      "Iniciando clculo Fibonacci de:  4\n",
      "Iniciando clculo Fibonacci de:  3\n",
      "Iniciando clculo Fibonacci de:  2\n",
      "Acaba calculo de Fibonacci de:  2\n",
      "Iniciando clculo Fibonacci de:  1\n",
      "Acaba calculo de Fibonacci de:  1\n",
      "Iniciando clculo Fibonacci de:  2\n",
      "Acaba calculo de Fibonacci de:  2\n",
      "Iniciando clculo Fibonacci de:  3\n",
      "Iniciando clculo Fibonacci de:  2\n",
      "Acaba calculo de Fibonacci de:  2\n",
      "Iniciando clculo Fibonacci de:  1\n",
      "Acaba calculo de Fibonacci de:  1\n",
      "Iniciando clculo Fibonacci de:  6\n",
      "Iniciando clculo Fibonacci de:  5\n",
      "Iniciando clculo Fibonacci de:  4\n",
      "Iniciando clculo Fibonacci de:  3\n",
      "Iniciando clculo Fibonacci de:  2\n",
      "Acaba calculo de Fibonacci de:  2\n",
      "Iniciando clculo Fibonacci de:  1\n",
      "Acaba calculo de Fibonacci de:  1\n",
      "Iniciando clculo Fibonacci de:  2\n",
      "Acaba calculo de Fibonacci de:  2\n",
      "Iniciando clculo Fibonacci de:  3\n",
      "Iniciando clculo Fibonacci de:  2\n",
      "Acaba calculo de Fibonacci de:  2\n",
      "Iniciando clculo Fibonacci de:  1\n",
      "Acaba calculo de Fibonacci de:  1\n",
      "Iniciando clculo Fibonacci de:  4\n",
      "Iniciando clculo Fibonacci de:  3\n",
      "Iniciando clculo Fibonacci de:  2\n",
      "Acaba calculo de Fibonacci de:  2\n",
      "Iniciando clculo Fibonacci de:  1\n",
      "Acaba calculo de Fibonacci de:  1\n",
      "Iniciando clculo Fibonacci de:  2\n",
      "Acaba calculo de Fibonacci de:  2\n",
      "Iniciando clculo Fibonacci de:  7\n",
      "Iniciando clculo Fibonacci de:  6\n",
      "Iniciando clculo Fibonacci de:  5\n",
      "Iniciando clculo Fibonacci de:  4\n",
      "Iniciando clculo Fibonacci de:  3\n",
      "Iniciando clculo Fibonacci de:  2\n",
      "Acaba calculo de Fibonacci de:  2\n",
      "Iniciando clculo Fibonacci de:  1\n",
      "Acaba calculo de Fibonacci de:  1\n",
      "Iniciando clculo Fibonacci de:  2\n",
      "Acaba calculo de Fibonacci de:  2\n",
      "Iniciando clculo Fibonacci de:  3\n",
      "Iniciando clculo Fibonacci de:  2\n",
      "Acaba calculo de Fibonacci de:  2\n",
      "Iniciando clculo Fibonacci de:  1\n",
      "Acaba calculo de Fibonacci de:  1\n",
      "Iniciando clculo Fibonacci de:  4\n",
      "Iniciando clculo Fibonacci de:  3\n",
      "Iniciando clculo Fibonacci de:  2\n",
      "Acaba calculo de Fibonacci de:  2\n",
      "Iniciando clculo Fibonacci de:  1\n",
      "Acaba calculo de Fibonacci de:  1\n",
      "Iniciando clculo Fibonacci de:  2\n",
      "Acaba calculo de Fibonacci de:  2\n",
      "Iniciando clculo Fibonacci de:  5\n",
      "Iniciando clculo Fibonacci de:  4\n",
      "Iniciando clculo Fibonacci de:  3\n",
      "Iniciando clculo Fibonacci de:  2\n",
      "Acaba calculo de Fibonacci de:  2\n",
      "Iniciando clculo Fibonacci de:  1\n",
      "Acaba calculo de Fibonacci de:  1\n",
      "Iniciando clculo Fibonacci de:  2\n",
      "Acaba calculo de Fibonacci de:  2\n",
      "Iniciando clculo Fibonacci de:  3\n",
      "Iniciando clculo Fibonacci de:  2\n",
      "Acaba calculo de Fibonacci de:  2\n",
      "Iniciando clculo Fibonacci de:  1\n",
      "Acaba calculo de Fibonacci de:  1\n",
      "Iniciando clculo Fibonacci de:  8\n",
      "Iniciando clculo Fibonacci de:  7\n",
      "Iniciando clculo Fibonacci de:  6\n",
      "Iniciando clculo Fibonacci de:  5\n",
      "Iniciando clculo Fibonacci de:  4\n",
      "Iniciando clculo Fibonacci de:  3\n",
      "Iniciando clculo Fibonacci de:  2\n",
      "Acaba calculo de Fibonacci de:  2\n",
      "Iniciando clculo Fibonacci de:  1\n",
      "Acaba calculo de Fibonacci de:  1\n",
      "Iniciando clculo Fibonacci de:  2\n",
      "Acaba calculo de Fibonacci de:  2\n",
      "Iniciando clculo Fibonacci de:  3\n",
      "Iniciando clculo Fibonacci de:  2\n",
      "Acaba calculo de Fibonacci de:  2\n",
      "Iniciando clculo Fibonacci de:  1\n",
      "Acaba calculo de Fibonacci de:  1\n",
      "Iniciando clculo Fibonacci de:  4\n",
      "Iniciando clculo Fibonacci de:  3\n",
      "Iniciando clculo Fibonacci de:  2\n",
      "Acaba calculo de Fibonacci de:  2\n",
      "Iniciando clculo Fibonacci de:  1\n",
      "Acaba calculo de Fibonacci de:  1\n",
      "Iniciando clculo Fibonacci de:  2\n",
      "Acaba calculo de Fibonacci de:  2\n",
      "Iniciando clculo Fibonacci de:  5\n",
      "Iniciando clculo Fibonacci de:  4\n",
      "Iniciando clculo Fibonacci de:  3\n",
      "Iniciando clculo Fibonacci de:  2\n",
      "Acaba calculo de Fibonacci de:  2\n",
      "Iniciando clculo Fibonacci de:  1\n",
      "Acaba calculo de Fibonacci de:  1\n",
      "Iniciando clculo Fibonacci de:  2\n",
      "Acaba calculo de Fibonacci de:  2\n",
      "Iniciando clculo Fibonacci de:  3\n",
      "Iniciando clculo Fibonacci de:  2\n",
      "Acaba calculo de Fibonacci de:  2\n",
      "Iniciando clculo Fibonacci de:  1\n",
      "Acaba calculo de Fibonacci de:  1\n",
      "Iniciando clculo Fibonacci de:  6\n",
      "Iniciando clculo Fibonacci de:  5\n",
      "Iniciando clculo Fibonacci de:  4\n",
      "Iniciando clculo Fibonacci de:  3\n",
      "Iniciando clculo Fibonacci de:  2\n",
      "Acaba calculo de Fibonacci de:  2\n",
      "Iniciando clculo Fibonacci de:  1\n",
      "Acaba calculo de Fibonacci de:  1\n",
      "Iniciando clculo Fibonacci de:  2\n",
      "Acaba calculo de Fibonacci de:  2\n",
      "Iniciando clculo Fibonacci de:  3\n",
      "Iniciando clculo Fibonacci de:  2\n",
      "Acaba calculo de Fibonacci de:  2\n",
      "Iniciando clculo Fibonacci de:  1\n",
      "Acaba calculo de Fibonacci de:  1\n",
      "Iniciando clculo Fibonacci de:  4\n",
      "Iniciando clculo Fibonacci de:  3\n",
      "Iniciando clculo Fibonacci de:  2\n",
      "Acaba calculo de Fibonacci de:  2\n",
      "Iniciando clculo Fibonacci de:  1\n",
      "Acaba calculo de Fibonacci de:  1\n",
      "Iniciando clculo Fibonacci de:  2\n",
      "Acaba calculo de Fibonacci de:  2\n",
      "144\n"
     ]
    }
   ],
   "source": [
    "# Definimos la funcion\n",
    "def fibonacci(n):\n",
    "    print(\"Iniciando clculo Fibonacci de: \", n)\n",
    "    if n == 1 or n == 2:\n",
    "        print(\"Acaba calculo de Fibonacci de: \", n)\n",
    "        return 1\n",
    "    elif n > 2:\n",
    "        return fibonacci(n -1) + fibonacci(n - 2)\n",
    "\n",
    "print(fibonacci(12))"
   ]
  },
  {
   "cell_type": "markdown",
   "metadata": {},
   "source": [
    "## Algoritmo de Euclides\n",
    "\n",
    "De forma recursiva"
   ]
  },
  {
   "cell_type": "code",
   "execution_count": 31,
   "metadata": {},
   "outputs": [
    {
     "name": "stdout",
     "output_type": "stream",
     "text": [
      "4\n"
     ]
    }
   ],
   "source": [
    "def min(a, b):\n",
    "    if a < b:\n",
    "        return a\n",
    "    else:\n",
    "        return b\n",
    "\n",
    "def max(a, b):\n",
    "    if a > b:\n",
    "        return a\n",
    "    else:\n",
    "        return b\n",
    "\n",
    "def mcd(m, n):\n",
    "    menor = min(m, n)\n",
    "    mayor = max(m, n)\n",
    "    resto = mayor % menor\n",
    "    if resto == 0:\n",
    "        return menor\n",
    "    else:\n",
    "        return mcd(menor, resto)\n",
    "\n",
    "print(mcd(500, 128))"
   ]
  },
  {
   "cell_type": "markdown",
   "metadata": {},
   "source": [
    "## Torres de Hanoi\n",
    "\n",
    "Cuenta la leyenda que en un templo de Hanoi, bajo la cúpula que señala el centro del mundo,\n",
    "hay una bandeja de bronce con tres largas agujas. Al crear el mundo, Dios colocó en una de\n",
    "ellas sesenta y cuatro discos de oro, cada uno de ellos más pequeño que el anterior hasta llegar\n",
    "al de la cima. Día y noche, incesantemente, los monjes transfieren discos de una aguja a otra\n",
    "siguiendo las inmutables leyes de Dios, que dicen que debe moverse cada vez el disco superior\n",
    "de los ensartados en una aguja a otra y que bajo él no puede haber un disco de menor radio.\n",
    "Cuando los sesenta y cuatro discos pasen de la primera aguja a otra, todos los creyentes se\n",
    "convertirán en polvo y el mundo desaparecerá con un estallido"
   ]
  },
  {
   "cell_type": "code",
   "execution_count": 1,
   "metadata": {},
   "outputs": [
    {
     "name": "stdout",
     "output_type": "stream",
     "text": [
      "Mover disco superior de aguja  1  a  2\n",
      "Mover disco superior de aguja  1  a  3\n",
      "Mover disco superior de aguja  2  a  3\n",
      "Mover disco superior de aguja  1  a  2\n",
      "Mover disco superior de aguja  3  a  1\n",
      "Mover disco superior de aguja  3  a  2\n",
      "Mover disco superior de aguja  1  a  2\n",
      "Mover disco superior de aguja  1  a  3\n",
      "Mover disco superior de aguja  2  a  3\n",
      "Mover disco superior de aguja  2  a  1\n",
      "Mover disco superior de aguja  3  a  1\n",
      "Mover disco superior de aguja  2  a  3\n",
      "Mover disco superior de aguja  1  a  2\n",
      "Mover disco superior de aguja  1  a  3\n",
      "Mover disco superior de aguja  2  a  3\n",
      "None\n"
     ]
    }
   ],
   "source": [
    "# Definimos la funcion\n",
    "def resuleve_hanoi(n, inicial, final, libre):\n",
    "    if n == 1:\n",
    "        print(\"Mover disco superior de aguja \", inicial, \" a \", final)\n",
    "    else:\n",
    "        resuleve_hanoi(n-1, inicial, libre, final)\n",
    "        print(\"Mover disco superior de aguja \", inicial, \" a \", final)\n",
    "        resuleve_hanoi(n-1, libre, final, inicial)\n",
    "\n",
    "print(resuleve_hanoi(4, 1, 3, 2))"
   ]
  }
 ],
 "metadata": {
  "kernelspec": {
   "display_name": "Python 3.10.5 64-bit",
   "language": "python",
   "name": "python3"
  },
  "language_info": {
   "codemirror_mode": {
    "name": "ipython",
    "version": 3
   },
   "file_extension": ".py",
   "mimetype": "text/x-python",
   "name": "python",
   "nbconvert_exporter": "python",
   "pygments_lexer": "ipython3",
   "version": "3.10.5"
  },
  "orig_nbformat": 4,
  "vscode": {
   "interpreter": {
    "hash": "63963b3f4c440940f0b94a3100916033a226cb4f45979123153792d60aa56d6a"
   }
  }
 },
 "nbformat": 4,
 "nbformat_minor": 2
}
