{
 "cells": [
  {
   "cell_type": "markdown",
   "metadata": {},
   "source": [
    "## Definicion de clases en Python\n",
    "\n",
    "Vamos a definir un nuevo tipo de datos python: la clase Persona."
   ]
  },
  {
   "cell_type": "code",
   "execution_count": 7,
   "metadata": {},
   "outputs": [
    {
     "name": "stdout",
     "output_type": "stream",
     "text": [
      "20\n",
      "Nombre: Antonio Pérez\n",
      "DNI: 98761234Q\n",
      "Edad: 20\n",
      "Sexo: V\n"
     ]
    }
   ],
   "source": [
    "# Definicion de clase\n",
    "class Persona:\n",
    "    def __init__(self, nombre, dni, edad, sexo):\n",
    "        self.nombre = nombre\n",
    "        self.dni = dni\n",
    "        self.edad = edad\n",
    "        self.sexo = sexo\n",
    "    \n",
    "    def iniciales(self):\n",
    "        cadena = \"\"\n",
    "        for caracter in self.nombre:\n",
    "            if caracter >= \"A\" and caracter <= \"Z\":\n",
    "                cadena = cadena + caracter + \". \"\n",
    "        return cadena\n",
    "    \n",
    "    def __str__(self):\n",
    "        cadena = \"Nombre: {0}\\n\".format(self.nombre)\n",
    "        cadena = cadena + \"DNI: {0}\\n\".format(self.dni)\n",
    "        cadena = cadena + \"Edad: {0}\\n\".format(self.edad)\n",
    "        cadena = cadena + \"Sexo: {0}\".format(self.sexo)\n",
    "        return cadena\n",
    "\n",
    "    def copia(self):\n",
    "        nuevo = Persona(self.nombre[:], self.dni[:], self.edad, self.sexo)\n",
    "        return nuevo\n",
    "\n",
    "\n",
    "# Almacenar la clase persona en variables\n",
    "toni = Persona(\"Antonio Pérez\", \"98761234Q\", 20, \"V\")\n",
    "juan = Persona(\"Juan Perez\", \"123564865z\", 19, \"V\")\n",
    "alumnos = [toni, juan]\n",
    "\n",
    "# Mostramos en pantalla \n",
    "print(toni.edad)\n",
    "print(toni)"
   ]
  },
  {
   "cell_type": "markdown",
   "metadata": {},
   "source": [
    "## Diccionarios\n",
    "\n",
    "Ejemplo de uso de diccionarios con una aplicacion de directorio telefonico"
   ]
  },
  {
   "cell_type": "code",
   "execution_count": null,
   "metadata": {},
   "outputs": [],
   "source": [
    "def añadir(listin, nombre, telefono):\n",
    "    if nombre in listin:\n",
    "        if not telefono in listin[nombre]:\n",
    "            listin[nombre].append(telefono)\n",
    "    else:\n",
    "        listin[nombre] = [telefono]\n",
    "\n",
    "def consultar(listin, nombre):\n",
    "    if nombre in listin:\n",
    "        return listin[nombre]\n",
    "    else:\n",
    "        return []\n",
    "\n",
    "def eliminar(listin, nombre):\n",
    "    if nombre in listin:\n",
    "        del listin[nombre]\n",
    "\n",
    "def menu():\n",
    "    opcion = 0\n",
    "    while opcion < 1 or opcion > 4:\n",
    "        print(\"1) Añadir telefono\")\n",
    "        print(\"2) Consultar listin\")\n",
    "        print(\"3) Eliminar persona del listin\")\n",
    "        print(\"4) Salir\")\n",
    "        opcion = int(input(\"Escoge una opcion\"))\n",
    "    return opcion\n",
    "\n",
    "# Programa pincipal\n",
    "listin = {}\n",
    "opcion = 0\n",
    "\n",
    "while opcion != 4:\n",
    "    opcion = menu()\n",
    "    if opcion == 1:\n",
    "        nombre = input(\"Nombre:\\n\")\n",
    "        telefono = input(\"Telefono:\\n \")\n",
    "        añadir(listin, nombre, telefono)\n",
    "        mas = input(\"¿Deseas añadir otro numero a {0} (s/n)\".format(nombre))\n",
    "\n",
    "        while mas == \"s\":\n",
    "            telefono =input(\"Telefono:\\n\")\n",
    "            añadir(listin, nombre, telefono)\n",
    "            mas = input(\"¿Deseas añadir otro numero a {0} (s/n)\".format(nombre))\n",
    "    elif opcion == 2:\n",
    "        nombre = input(\"Nombre:\\n\")\n",
    "        telefonos = consultar(listin, nombre)\n",
    "        for telefono in telefonos:\n",
    "            print(telefono)\n",
    "    elif opcion == 3:\n",
    "        nombre = input(\"Nombre: \\n\")\n",
    "        eliminar(listin, nombre)"
   ]
  },
  {
   "cell_type": "markdown",
   "metadata": {},
   "source": [
    "## Diccionario con clases\n",
    "\n",
    "Mismo codigo del ejemplo anterior con diccionarios"
   ]
  },
  {
   "cell_type": "code",
   "execution_count": 9,
   "metadata": {},
   "outputs": [
    {
     "name": "stdout",
     "output_type": "stream",
     "text": [
      "1) Añadir telefono\n",
      "2) Consultar listin\n",
      "3) Eliminar persona del listin\n",
      "4) Salir\n"
     ]
    }
   ],
   "source": [
    "class Listin:\n",
    "    def __init__(self):\n",
    "        self.listin = {}\n",
    "    \n",
    "    def añadir(self, nombre, telefono):\n",
    "        if nombre in self.listin:\n",
    "            if not telefono in self.listin[nombre]:\n",
    "                self.listin[nombre].append(telefono)\n",
    "        else:\n",
    "            self.listin[nombre] = [telefono]\n",
    "    \n",
    "    def consultar(self, nombre):\n",
    "        if nombre in self.listin:\n",
    "            return self.listin[nombre]\n",
    "        else:\n",
    "            return []\n",
    "    \n",
    "    def eliminar(self, nombre):\n",
    "        if nombre in self.listin:\n",
    "            del self.listin[nombre]\n",
    "# Fin de la clase\n",
    "\n",
    "def menu():\n",
    "    opcion = 0\n",
    "    while opcion < 1 or opcion > 4:\n",
    "        print(\"1) Añadir telefono\")\n",
    "        print(\"2) Consultar listin\")\n",
    "        print(\"3) Eliminar persona del listin\")\n",
    "        print(\"4) Salir\")\n",
    "        opcion = int(input(\"Escoge una opcion\"))\n",
    "    return opcion\n",
    "\n",
    "# Programa principal\n",
    "listin = Listin()\n",
    "\n",
    "opcion = 0\n",
    "while opcion != 4:\n",
    "    opcion = menu()\n",
    "    if opcion == 1:\n",
    "        nombre = input(\"Nombre:\\n\")\n",
    "        telefono = input(\"Telefono:\\n\")\n",
    "        listin.añadir(nombre, telefono)\n",
    "        mas = input(\"¿Deseas añadir otro numero a {0} (s/n)\".format(nombre))\n",
    "\n",
    "        while mas == \"s\":\n",
    "            telefono =input(\"Telefono:\\n\")\n",
    "            listin.añadir(listin, nombre, telefono)\n",
    "            mas = input(\"¿Deseas añadir otro numero a {0} (s/n)\".format(nombre))\n",
    "        \n",
    "    elif opcion == 2:\n",
    "        nombre = input(\"Nombre:\\n\")\n",
    "        telefonos = listin.consultar(nombre)\n",
    "        for telefono in telefonos:\n",
    "            print(telefono)\n",
    "    \n",
    "    elif opcion == 3:\n",
    "        nombre = input(\"Nombre:\\n\")\n",
    "        listin.eliminar(nombre)"
   ]
  },
  {
   "cell_type": "markdown",
   "metadata": {},
   "source": [
    "## Contador de palabras\n",
    "\n",
    "Los diccionarios tienen muchos usos inesperados. Por ejemplo, nos puede interesar saber\n",
    "cuántas veces aparece cada una de las palabras en un determinado texto, que vendrá dado\n",
    "mediante una serie de líneas que terminará con una línea vacía.\n",
    "Para ello, utilizaremos un diccionario indexado por palabras. Cada vez que veamos una nueva\n",
    "palabra, asociaremos el valor 1 a la palabra en cuestión y cuando volvamos a ver esa palabra,\n",
    "incrementaremos su valor en una unidad."
   ]
  },
  {
   "cell_type": "code",
   "execution_count": 12,
   "metadata": {},
   "outputs": [
    {
     "name": "stdout",
     "output_type": "stream",
     "text": [
      "Ve introduciendo lineas (linea vacia para acabar)\n",
      "Se han encontrado las siguientes palabras:\n",
      "Amistad (2)\n",
      "Amor (2)\n",
      "Bose (1)\n",
      "Compacion (1)\n",
      "Entidad (1)\n",
      "Inocencia (1)\n",
      "Miguel (1)\n"
     ]
    }
   ],
   "source": [
    "contador = {}\n",
    "\n",
    "print(\"Ve introduciendo lineas (linea vacia para acabar)\")\n",
    "linea = input(\"Linea:\\n\")\n",
    "while linea != \"\":\n",
    "    palabras = linea.split()\n",
    "    for palabra in palabras:\n",
    "        if palabra in contador:\n",
    "            contador[palabra] += 1\n",
    "        else:\n",
    "            contador [palabra] = 1\n",
    "    linea = input(\"Linea:\\n\")\n",
    "\n",
    "# Obtenemos la lista de palabras diferentes\n",
    "palabras = list(contador.keys())\n",
    "# Ordenamos la lista de palabras\n",
    "palabras.sort()\n",
    "# Recorremos la lista ordenda para mostrar cada contador\n",
    "print(\"Se han encontrado las siguientes palabras:\")\n",
    "for palabra in palabras:\n",
    "    print('{0} ({1})'.format(palabra, contador[palabra]))"
   ]
  },
  {
   "cell_type": "markdown",
   "metadata": {},
   "source": [
    "## Ejercicio 436\n",
    "\n",
    "Modifica el programa anterior para que no distinga entre mayúsculas y minúsculas."
   ]
  },
  {
   "cell_type": "code",
   "execution_count": 14,
   "metadata": {},
   "outputs": [
    {
     "name": "stdout",
     "output_type": "stream",
     "text": [
      "Ve introduciendo lineas (linea vacia para acabar)\n",
      "Se han encontrado las siguientes palabras:\n",
      "amistad (1)\n",
      "amor (1)\n",
      "entidad (1)\n"
     ]
    }
   ],
   "source": [
    "# Definimos el diccionario vacio\n",
    "contador = {}\n",
    "\n",
    "print(\"Ve introduciendo lineas (linea vacia para acabar)\")\n",
    "linea = input(\"Linea:\\n\").lower()\n",
    "while linea != \"\":\n",
    "    palabras = linea.split()\n",
    "    for palabra in palabras:\n",
    "        if palabra in contador:\n",
    "            contador[palabra] += 1\n",
    "        else:\n",
    "            contador [palabra] = 1\n",
    "    linea = input(\"Linea:\\n\").lower()\n",
    "\n",
    "# Obtenemos la lista de palabras diferentes\n",
    "palabras = list(contador.keys())\n",
    "# Ordenamos la lista de palabras\n",
    "palabras.sort()\n",
    "# Recorremos la lista ordenda para mostrar cada contador\n",
    "print(\"Se han encontrado las siguientes palabras:\")\n",
    "for palabra in palabras:\n",
    "    print('{0} ({1})'.format(palabra, contador[palabra]))"
   ]
  },
  {
   "cell_type": "markdown",
   "metadata": {},
   "source": [
    "### Ejercicio 437\n",
    "\n",
    "Modifica el programa anterior para que, nos diga cuál es la palabra o palabras que aprecen con mayor frecuencia (o sea, la moda)."
   ]
  },
  {
   "cell_type": "code",
   "execution_count": 34,
   "metadata": {},
   "outputs": [
    {
     "name": "stdout",
     "output_type": "stream",
     "text": [
      "Ve introduciendo lineas (linea vacia para acabar)\n",
      "Se han encontrado las siguientes palabras:\n",
      "amor (2)\n",
      "mar (1)\n",
      "sal (1)\n",
      "salida (1)\n",
      "La moda con 2 apariciones\n"
     ]
    }
   ],
   "source": [
    "# Definimos el diccionario vacio\n",
    "contador = {}\n",
    "aux = 0\n",
    "moda = 0\n",
    "\n",
    "print(\"Ve introduciendo lineas (linea vacia para acabar)\")\n",
    "linea = input(\"Linea:\\n\").lower()\n",
    "while linea != \"\":\n",
    "    palabras = linea.split()\n",
    "    for palabra in palabras:\n",
    "        if palabra in contador:\n",
    "            contador[palabra] += 1\n",
    "        else:\n",
    "            contador [palabra] = 1\n",
    "    linea = input(\"Linea:\\n\").lower()\n",
    "\n",
    "# Obtenemos la lista de palabras diferentes\n",
    "palabras = list(contador.keys())\n",
    "# Ordenamos la lista de palabras\n",
    "palabras.sort()\n",
    "# Recorremos la lista ordenda para mostrar cada contador\n",
    "print(\"Se han encontrado las siguientes palabras:\")\n",
    "for palabra in palabras:\n",
    "    print('{0} ({1})'.format(palabra, contador[palabra]))\n",
    "# Mostramos la moda \n",
    "print(\"La moda con {0} apariciones\".format(max(contador.values())))"
   ]
  },
  {
   "cell_type": "markdown",
   "metadata": {},
   "source": [
    "## Ejercicio 439\n",
    "\n",
    "Implementa un programa que pida un texto en español y lo traduzca palabra a palabra\n",
    "al inglés. Utiliza un diccionario de Python para almacenar cada palabra con su correspondiente\n",
    "traducción. El programa empezará sin palabra alguna en el diccionario y pidiendo el texto que\n",
    "desea traducir el usuario. A continuación, procederá a traducir palabra por palabra el texto. Cada\n",
    "vez que vea una palabra desconocida, pedirá al usuario su traducción al inglés y la memorizará.\n",
    "Si vuelve a aparecer esa misma palabra, ya no pedirá su traducción, sino que usará la que le\n",
    "dimos previamente. Es obvio que, con este método, la calidad de la traducción no será muy buena\n",
    "que digamos."
   ]
  },
  {
   "cell_type": "code",
   "execution_count": 38,
   "metadata": {},
   "outputs": [
    {
     "name": "stdout",
     "output_type": "stream",
     "text": [
      "Traductor generico por valor\n",
      "\n",
      "['hi']['hi']['friend']\n",
      "['hi']['friend']\n",
      "['fri']\n",
      "['hi']['friend']\n",
      "['day']['day']['sunshine']hola ['hi']\n",
      "amigo ['friend']\n",
      "amistad ['fri']\n",
      "dia ['day']\n",
      "soleado ['sunshine']\n"
     ]
    }
   ],
   "source": [
    "# Declaramos el diccionario\n",
    "traductor = {}\n",
    "\n",
    "print(\"Traductor generico por valor\")\n",
    "linea = input(\"Ingresa palabras:(ingresa cadena vacia para terminar)\\n\").lower()\n",
    "while linea != \"\":\n",
    "    palabras = linea.split()\n",
    "    print()\n",
    "    for palabra in palabras:\n",
    "        if palabra in traductor:\n",
    "            print(traductor[palabra], end=\"\")\n",
    "        else:\n",
    "            traduccion = input(\"Dame el significado de {0}\".format(palabra))\n",
    "            traductor[palabra] = [traduccion]\n",
    "            for palabra in palabras:\n",
    "                if palabra in traductor:\n",
    "                    print(traductor[palabra], end=\"\")\n",
    "    linea = input(\"Ingresa palabras:(ingresa cadena vacia para terminar)\\n\").lower()\n",
    "\n",
    "\n",
    "# # Mostramos contenido\n",
    "# for palas in traductor:\n",
    "#     print(\"{0} {1}\".format(palas, traductor[palas]))"
   ]
  }
 ],
 "metadata": {
  "kernelspec": {
   "display_name": "Python 3.10.5 64-bit",
   "language": "python",
   "name": "python3"
  },
  "language_info": {
   "codemirror_mode": {
    "name": "ipython",
    "version": 3
   },
   "file_extension": ".py",
   "mimetype": "text/x-python",
   "name": "python",
   "nbconvert_exporter": "python",
   "pygments_lexer": "ipython3",
   "version": "3.10.5"
  },
  "orig_nbformat": 4,
  "vscode": {
   "interpreter": {
    "hash": "63963b3f4c440940f0b94a3100916033a226cb4f45979123153792d60aa56d6a"
   }
  }
 },
 "nbformat": 4,
 "nbformat_minor": 2
}
