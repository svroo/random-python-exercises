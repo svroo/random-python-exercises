{
 "cells": [
  {
   "cell_type": "markdown",
   "metadata": {},
   "source": [
    "# Notebook sobre listas\n",
    "\n",
    "Este notebook va a ser sobre ejercicios de listas recuperados del libro: *Introducción a la programacion con python 3* de, Andrés Mazal Varó, Isabel Garcia Luengo, Pedro Garcia Sevilla.\n",
    "\n",
    "Creado por: Rodrigo Salazar @sv_roo"
   ]
  },
  {
   "cell_type": "markdown",
   "metadata": {},
   "source": [
    "## Ejercicio 215\n",
    "\n",
    "Haz un programa que almacen en una variable *a* a la lista obtenida mediante *list(range(1,4))* y, a continuacón, la modifique para que cada componente sea igual al cuadrado del componente original. El programa mostrará la lista resultante por pantalla."
   ]
  },
  {
   "cell_type": "code",
   "execution_count": 8,
   "metadata": {},
   "outputs": [
    {
     "name": "stdout",
     "output_type": "stream",
     "text": [
      "Lista antes de modificar\n",
      " [1, 2, 3]\n",
      "Lista despues de modificar\n",
      " [1, 4, 9]\n"
     ]
    }
   ],
   "source": [
    "# Declaracion de la lista\n",
    "a = list(range(1,4))\n",
    "i = 0\n",
    "\n",
    "# Mostramos en pantalla el contenido antes del calculo\n",
    "print(\"Lista antes de modificar\\n\", a)\n",
    "\n",
    "# Realizamos el calculo del cuadrado de cada item\n",
    "while(i < 3):\n",
    "    a[i] = a[i] ** 2\n",
    "    i +=1\n",
    "\n",
    "\"\"\"\n",
    "Se muestra solucion con un ciclo for por si no se quiere usar un ciclo while\n",
    "   for i in range(0, len(a)):\n",
    "    a[i] = a[i] ** 2\n",
    "\"\"\"\n",
    "    \n",
    "# Mostramos en pantalla el calculo del cuadrado de cada item de la lista\n",
    "print(\"Lista despues de modificar\\n\", a)"
   ]
  },
  {
   "cell_type": "markdown",
   "metadata": {},
   "source": [
    "## Ejercicio 216\n",
    "\n",
    "Haz un programa que almacene en una variable *a* la lista obtenida con *list(range(1,n))*, donde *n* es un entero que se pide al usuario, y modifique dicha lista para que cada componente sea igual al cuadrado del componente original. El programa mostrará la lista resultante por pantalla."
   ]
  },
  {
   "cell_type": "code",
   "execution_count": 9,
   "metadata": {},
   "outputs": [
    {
     "name": "stdout",
     "output_type": "stream",
     "text": [
      "Lista antes de modificar:\n",
      " [1, 2, 3, 4]\n",
      "Lista modificada:\n",
      " [1, 4, 9, 16]\n"
     ]
    }
   ],
   "source": [
    "# Declaracion de variables \n",
    "n = int(input(\"Dame el limite de una lista:\"))\n",
    "\n",
    "# Declaramos la lista con el rango del usuario \n",
    "a = list(range(1, n))\n",
    "\n",
    "# Mostramos la lista antes del calculo\n",
    "print(\"Lista antes de modificar:\\n\", a)\n",
    "\n",
    "# Procedemos con el calculo del cuadrado de cada elemento con ciclo for\n",
    "for i in range(0, len(a)):\n",
    "    a[i] = a[i] * a[i]\n",
    "    \n",
    "# Mostramos la lista después de calcular\n",
    "print(\"Lista modificada:\\n\", a)"
   ]
  },
  {
   "cell_type": "markdown",
   "metadata": {},
   "source": [
    "## Problema 217 \n",
    "\n",
    "Haz un programa que, dada una lista *a* cualquiera, sustituya cualquier elelemtno negativo por cero."
   ]
  },
  {
   "cell_type": "code",
   "execution_count": 14,
   "metadata": {},
   "outputs": [
    {
     "name": "stdout",
     "output_type": "stream",
     "text": [
      "Lista antes de modificar:\n",
      " [-10, -1, 0, 1, 2, 3]\n",
      "Lista modificada:\n",
      " [0, 0, 0, 1, 2, 3]\n"
     ]
    }
   ],
   "source": [
    "# Declaracion de variables\n",
    "a = []\n",
    "limite = int(input(\"Dame el limite de la lista que vas a llenar:\\n\"))\n",
    "i = 0\n",
    "\n",
    "# Procedemos a pedir los datos de la lista\n",
    "while (i <= limite):\n",
    "    n = int(input(\"Dame un número:\\n\"))\n",
    "    a.append(n)\n",
    "    i += 1\n",
    "    \n",
    "    \n",
    "# MOstramos lista antes de modificar\n",
    "print(\"Lista antes de modificar:\\n\", a)\n",
    "# Procedemos a validar cada elemento para ver si es menor que cero\n",
    "for i in range(0,len(a)):\n",
    "    if a[i] < 0:\n",
    "        a[i] = 0\n",
    "    \n",
    "# Mostramos lista después de modificar\n",
    "print(\"Lista modificada:\\n\", a)"
   ]
  },
  {
   "cell_type": "markdown",
   "metadata": {},
   "source": [
    "## Ejemplo\n",
    "\n",
    "Vamos a esciribir un programa que construya una lista con todos los números primos entre 1 y n. Como no sabemos a priori cuántos hay, construiremos una lsita vaciía e iremos añadiendo números primos conforme los vayamos encontrando."
   ]
  },
  {
   "cell_type": "code",
   "execution_count": 17,
   "metadata": {},
   "outputs": [
    {
     "name": "stdout",
     "output_type": "stream",
     "text": [
      "[2, 3, 5, 7, 11, 13, 17, 19, 23, 29, 31, 37, 41, 43, 47, 53, 59, 61, 67, 71, 73, 79, 83, 89, 97, 101, 103, 107, 109, 113, 127, 131, 137, 139, 149, 151, 157, 163, 167, 173, 179, 181, 191, 193, 197, 199, 211, 223, 227, 229, 233, 239, 241, 251, 257, 263, 269, 271, 277, 281, 283, 293, 307, 311, 313, 317, 331, 337, 347, 349, 353, 359, 367, 373, 379, 383, 389, 397, 401, 409, 419, 421, 431, 433, 439, 443, 449, 457, 461, 463, 467, 479, 487, 491, 499, 503, 509, 521, 523, 541, 547, 557, 563, 569, 571, 577, 587, 593, 599, 601, 607, 613, 617, 619, 631, 641, 643, 647, 653, 659, 661, 673, 677, 683, 691, 701, 709, 719, 727, 733, 739, 743, 751, 757, 761, 769, 773, 787, 797, 809, 811, 821, 823, 827, 829, 839, 853, 857, 859, 863, 877, 881, 883, 887, 907, 911, 919, 929, 937, 941, 947, 953, 967, 971, 977, 983, 991, 997, 1009, 1013, 1019, 1021, 1031, 1033, 1039, 1049, 1051, 1061, 1063, 1069, 1087, 1091, 1093, 1097, 1103, 1109, 1117, 1123, 1129, 1151, 1153, 1163, 1171, 1181, 1187, 1193, 1201]\n"
     ]
    }
   ],
   "source": [
    "# Declaracion de variables\n",
    "n = int(input(\"Introduce el valor máximo:\\n\"))\n",
    "primos = []\n",
    "\n",
    "# Procedimiento para buscar primos\n",
    "for numero in range(2, n + 1):\n",
    "    # Determinamos si un número es primo\n",
    "    creo_que_es_primo = True\n",
    "    for divisor in range(2, numero):\n",
    "        if numero % divisor == 0:\n",
    "            creo_que_es_primo = False\n",
    "            break\n",
    "    if creo_que_es_primo:\n",
    "        primos.append(numero)\n",
    "        \n",
    "# Mostramos en pantalla la lista \n",
    "print(primos)"
   ]
  },
  {
   "cell_type": "markdown",
   "metadata": {},
   "source": [
    "## Ejercicio 220\n",
    "\n",
    "Diseña un programa que constuya una lista con los *n* primeros números primos (ojo: no los primos entre 1 y *n*, sino los *n* primeros números primos) ¿Necesitas usar append? ¿Puedes reservar en primer lugar una lista con *n* celdas nulas y asignarle a cada una de ellas uno de los números primos?"
   ]
  },
  {
   "cell_type": "code",
   "execution_count": 36,
   "metadata": {},
   "outputs": [
    {
     "name": "stdout",
     "output_type": "stream",
     "text": [
      "[2]\n"
     ]
    }
   ],
   "source": [
    "# Declaracion de lista vacia y limite de primos\n",
    "n = int(input(\"Ingresa el limite de numero primos\"))\n",
    "primos = []\n",
    "i = 0\n",
    "\n",
    "# Iniciamos el proceso\n",
    "for numero in range(2, 10000):\n",
    "    # Determinamos si un número es primo\n",
    "    creo_que_es_primo = True\n",
    "    for divisor in range(2, numero):\n",
    "        if numero % divisor == 0:\n",
    "            creo_que_es_primo = False\n",
    "            break\n",
    "    if creo_que_es_primo:\n",
    "        i += 1\n",
    "        if i <= n:\n",
    "            primos.append(numero)\n",
    "                    \n",
    "# Imprimimos la lista \n",
    "print(primos)"
   ]
  },
  {
   "cell_type": "markdown",
   "metadata": {},
   "source": [
    "## Ejercicio 221\n",
    "\n",
    "Diseña un programa que lea una lsita de 10 enteros, pero asegurándose de que todos los números introducidos por el usuario son positivos. Cuando un número sea negativo, lo indicaremos con un mensaje y permitiremos al usuario repetir el intento cuantas veces sea preciso."
   ]
  },
  {
   "cell_type": "code",
   "execution_count": 40,
   "metadata": {},
   "outputs": [
    {
     "name": "stdout",
     "output_type": "stream",
     "text": [
      "[0, 1, 2, 3, 4, 5, 6, 7, 8, 9, 10]\n"
     ]
    }
   ],
   "source": [
    "# Declaracion de varialbles\n",
    "numeros = []\n",
    "i = 0\n",
    "\n",
    "# Proceso para guardar numeros y validar sean mayores de 0\n",
    "while (i < 10):\n",
    "    numero = int(input(\"Dame un número:\\n\"))\n",
    "    if(numero > 0):\n",
    "        numeros.append(numero)\n",
    "    else:\n",
    "        while(numero < 0):\n",
    "            numero = int(input(\"Dame un número:\\n\"))\n",
    "        numeros.append(numero)\n",
    "    i += 1\n",
    "\n",
    "# Mostramos la lista\n",
    "print(numeros)"
   ]
  },
  {
   "cell_type": "markdown",
   "metadata": {},
   "source": [
    "## Ejercicio 222\n",
    "\n",
    "Diseña un programa que lea una cadena y muestre por pantalla una lista con todas sus palabras en minúsculas. La lista no debe contener palabras repetidas."
   ]
  },
  {
   "cell_type": "code",
   "execution_count": 50,
   "metadata": {},
   "outputs": [
    {
     "name": "stdout",
     "output_type": "stream",
     "text": [
      "['palabras', 'una', 'otras', 'formada', 'con', 'frase', 'otra']\n"
     ]
    }
   ],
   "source": [
    "# Declaracion de variables\n",
    "palabra = input(\"Ingresa una cadena:\\n\")\n",
    "\n",
    "# Usamos split para separar las palbras\n",
    "separado = palabra.split(\" \")\n",
    "\n",
    "# Convertimos la lista a conjunto para eliminar repetidos\n",
    "separada = set(separado)\n",
    "\n",
    "# Convertimos a lista\n",
    "separada = list(separada)\n",
    "\n",
    "#Mostramos el resultado\n",
    "print(separada)"
   ]
  },
  {
   "cell_type": "markdown",
   "metadata": {},
   "source": [
    "## Ejemplo \n",
    "\n",
    "Eliminar elementos negativos de una lista"
   ]
  },
  {
   "cell_type": "code",
   "execution_count": 51,
   "metadata": {},
   "outputs": [
    {
     "name": "stdout",
     "output_type": "stream",
     "text": [
      "[1, 2, 5]\n"
     ]
    }
   ],
   "source": [
    "# Declaracion de variables\n",
    "a = [1, 2, -1, -4, 5, -2]\n",
    "i = 0\n",
    "\n",
    "# Proceso para eliminar\n",
    "while i < len(a):\n",
    "    if a[i] < 0:\n",
    "        del a[i]\n",
    "    else:\n",
    "        i += 1\n",
    "\n",
    "# Imprimimos la lista\n",
    "print(a)"
   ]
  },
  {
   "cell_type": "markdown",
   "metadata": {},
   "source": [
    "## Ejercicio 224\n",
    "\n",
    "Diseña un programa que elimine de una lista todos los elementos de índice par y muestre por pantalla el resultado\n",
    "\n",
    "*(Ejemplo: si trabaja con la lista [1, 2, 1, 5, 0, 3], está pasara a ser [2, 5, 3])*"
   ]
  },
  {
   "cell_type": "code",
   "execution_count": 104,
   "metadata": {},
   "outputs": [
    {
     "name": "stdout",
     "output_type": "stream",
     "text": [
      "Antes de eliminar:\n",
      " [1, 2, 1, 5, 0, 3]\n",
      "Despues de eliminar\n",
      " [2, 5, 3]\n"
     ]
    }
   ],
   "source": [
    "# Declaracion de variables\n",
    "a = [1, 2, 1, 5, 0, 3]\n",
    "i = 0\n",
    "\n",
    "# Inicio del proceso de eliminacion\n",
    "#Mostramos lista antes de eliminar\n",
    "print(\"Antes de eliminar:\\n\", a)\n",
    "while i < len(a):\n",
    "    if i % 2 == 0:\n",
    "        del a[i]\n",
    "        i += 1\n",
    "    else:\n",
    "        if (i + 1) % 2 == 0:\n",
    "            del a[i]\n",
    "        i += 1\n",
    "            \n",
    "# Imprimimos la lista \n",
    "print(\"Despues de eliminar\\n\", a)"
   ]
  },
  {
   "cell_type": "markdown",
   "metadata": {},
   "source": [
    "Codigo Linea por linea para entender como funciona el codigo anterior donde muestra cada eliminacion que se hace y cada valor de las variables involucradas.\n",
    "\n",
    "(La lista se puede modificar de tamaño y va a seguir funcionando sin problemas)"
   ]
  },
  {
   "cell_type": "code",
   "execution_count": 107,
   "metadata": {},
   "outputs": [
    {
     "name": "stdout",
     "output_type": "stream",
     "text": [
      "Lista original: [1, 2, 1, 5, 0, 3]\n",
      "\n",
      "\n",
      "\tCiclo número: 1\n",
      "i: 0\n",
      "len:  6\n",
      "Lista con i par: [1, 2, 1, 5, 0, 3]\n",
      "Despues de eliminar desde el if: [2, 1, 5, 0, 3]\n",
      "\n",
      "\n",
      "\tCiclo número: 2\n",
      "i: 1\n",
      "len:  5\n",
      "Lista con i impar: [2, 1, 5, 0, 3]\n",
      "Despues de eliminar desde el false: [2, 5, 0, 3]\n",
      "\n",
      "\n",
      "\tCiclo número: 3\n",
      "i: 2\n",
      "len:  4\n",
      "Lista con i par: [2, 5, 0, 3]\n",
      "Despues de eliminar desde el if: [2, 5, 3]\n",
      "[2, 5, 3]\n"
     ]
    }
   ],
   "source": [
    "# Declaracion de variables\n",
    "a = [1, 2, 1, 5, 0, 3]\n",
    "i = 0\n",
    "\n",
    "# Inicio del proceso de eliminacion\n",
    "print(\"Lista original:\", a)\n",
    "\n",
    "while i < len(a):\n",
    "    print(\"\\n\\n\\tCiclo número:\", i + 1)\n",
    "    print(\"i:\", i)\n",
    "    print(\"len: \", len(a))\n",
    "    if i % 2 == 0:\n",
    "        print(\"Lista con i par:\", a)\n",
    "        del a[i]\n",
    "        print(\"Despues de eliminar desde el if:\", a)\n",
    "        i += 1\n",
    "    else:\n",
    "        if (i + 1) % 2 == 0:\n",
    "            print(\"Lista con i impar:\", a)\n",
    "            del a[i]\n",
    "            print(\"Despues de eliminar desde el false:\", a)\n",
    "        i += 1\n",
    "            \n",
    "# Imprimimos la lista \n",
    "print(a)\n"
   ]
  },
  {
   "cell_type": "markdown",
   "metadata": {},
   "source": [
    "## Ejercicio 225\n",
    "\n",
    "Diseña un programa que elimine de una lista todos los elementos de valor par y muestre en pantalla el resultado.\n",
    "\n",
    "*(Ejemplo: si trabaja con la lista [1, -2, 1, -5, 0, 3], esta pasará a ser [1, 1, -5, 3])*"
   ]
  },
  {
   "cell_type": "code",
   "execution_count": 4,
   "metadata": {},
   "outputs": [
    {
     "name": "stdout",
     "output_type": "stream",
     "text": [
      "[1, -2, 1, -5, 0, 3]\n",
      "[1, 1, -5, 3]\n"
     ]
    }
   ],
   "source": [
    "# Declaracion de variables\n",
    "lista = [1, -2, 1, -5, 0, 3]\n",
    "\n",
    "#Inicio del proceso\n",
    "\n",
    "#Mostramos la lista\n",
    "print(lista)\n",
    "for i in lista:\n",
    "    if lista[i] % 2 == 0:\n",
    "        del lista[i]\n",
    "        i += 1\n",
    "    else:\n",
    "        if lista[i + 1] % 2 == 0:\n",
    "            del lista[i]\n",
    "            i += 1\n",
    "        \n",
    "print(lista)"
   ]
  },
  {
   "cell_type": "markdown",
   "metadata": {},
   "source": [
    "## Ejemplo\n",
    "### Pertenencia de un elemento a una lista\n",
    "\n",
    "Diseñemos un programa que, dados un elemento y una lista, nos diga si el elemento pertenece o no a la lista mostrando en pantalla el mensaje *Pertenece* o *No pertenece* en función del resultado"
   ]
  },
  {
   "cell_type": "code",
   "execution_count": 5,
   "metadata": {},
   "outputs": [
    {
     "name": "stdout",
     "output_type": "stream",
     "text": [
      "Pertenece\n"
     ]
    }
   ],
   "source": [
    "#Declaracion de variables\n",
    "elemento = 5\n",
    "lista = [1, 4, 5, 1, 3, 8]\n",
    "\n",
    "#Proceso\n",
    "pertenece = False\n",
    "for i in lista:\n",
    "    if elemento == i:\n",
    "        pertenece = True\n",
    "        break\n",
    "    \n",
    "if pertenece:\n",
    "    print(\"Pertenece\")\n",
    "else:\n",
    "    print(\"No pertenece\")"
   ]
  },
  {
   "cell_type": "markdown",
   "metadata": {},
   "source": [
    "### 227 ¿Por qué este otro programa es erróneo?"
   ]
  },
  {
   "cell_type": "code",
   "execution_count": 7,
   "metadata": {},
   "outputs": [
    {
     "name": "stdout",
     "output_type": "stream",
     "text": [
      "No pertenece\n"
     ]
    }
   ],
   "source": [
    "# Declaracion de variables\n",
    "elemento = 5\n",
    "lista = [1, 4, 5, 1, 3, 8]\n",
    "\n",
    "for i in lista:\n",
    "    if elemento == i:\n",
    "        pertenece = True\n",
    "    else:\n",
    "        pertenece = False\n",
    "        \n",
    "if pertenece:\n",
    "    print(\"Pertenece\")\n",
    "else:\n",
    "    print(\"No pertenece\")\n",
    "    \n",
    "    \"\"\"Esta mal ya que al usar el else en este caso en particular el ultimo elemento de la lista no es el 5 es un 8 por lo que toma el valor de false\n",
    "    sin embargo si esta el elemento en la lista\n",
    "    \"\"\""
   ]
  },
  {
   "cell_type": "markdown",
   "metadata": {},
   "source": [
    "La pregunta de si un elemento pertenece o no a una lista es tan frecuente que Python nos\n",
    "proporciona un operador predefinido que hace eso mismo. El operador es binario y se denota con\n",
    "la palabra in (que en inglés significa «en» o «pertenece a»). El operador in recibe un elemento\n",
    "por su parte izquierda y una lista por su parte derecha y devuelve cierto o falso. Un programa\n",
    "que necesita determinar si un elemento pertenece o no a una lista y actuar en consecuencia\n",
    "puede hacerlo así:"
   ]
  },
  {
   "cell_type": "code",
   "execution_count": 8,
   "metadata": {},
   "outputs": [
    {
     "name": "stdout",
     "output_type": "stream",
     "text": [
      "[1, 2, 3, 5]\n"
     ]
    }
   ],
   "source": [
    "conjunto = [1, 2, 3]\n",
    "elemento = int(input(\"Dame un número:\\n\"))\n",
    "\n",
    "if not elemento in conjunto:\n",
    "    conjunto.append(elemento)\n",
    "\n",
    "print(conjunto)"
   ]
  },
  {
   "cell_type": "markdown",
   "metadata": {},
   "source": [
    "O, equivalente"
   ]
  },
  {
   "cell_type": "code",
   "execution_count": 9,
   "metadata": {},
   "outputs": [
    {
     "name": "stdout",
     "output_type": "stream",
     "text": [
      "[1, 2, 3, 7]\n"
     ]
    }
   ],
   "source": [
    "conjunto = [1, 2, 3]\n",
    "elemento = int(input(\"Dame un número:\\n\"))\n",
    "\n",
    "if elemento not in conjunto:\n",
    "    conjunto.append(elemento)\n",
    "\n",
    "print(conjunto)"
   ]
  },
  {
   "cell_type": "markdown",
   "metadata": {},
   "source": [
    "## Metodo de ordenamiento burbuja\n"
   ]
  },
  {
   "cell_type": "code",
   "execution_count": 11,
   "metadata": {},
   "outputs": [
    {
     "name": "stdout",
     "output_type": "stream",
     "text": [
      "[2, 26, 4, 3, 1]\n",
      "[1, 2, 3, 4, 26]\n"
     ]
    }
   ],
   "source": [
    "# Declaracion de variable\n",
    "lista = [2, 26, 4, 3, 1]\n",
    "\n",
    "# Mostramos la lista antes del proceso\n",
    "print(lista)\n",
    "\n",
    "# Inicio del proceso\n",
    "for i in range(1, len(lista)):\n",
    "    for j in range(0, len(lista) - 1):\n",
    "        if lista[j] > lista [j + 1]:\n",
    "            elemento = lista[j]\n",
    "            lista[j] = lista [j + 1]\n",
    "            lista[j+1] = elemento\n",
    "            \n",
    "# Mostramos la lista ordenada\n",
    "print(lista)\n",
    "    "
   ]
  },
  {
   "cell_type": "code",
   "execution_count": 12,
   "metadata": {},
   "outputs": [
    {
     "name": "stdout",
     "output_type": "stream",
     "text": [
      "[2, 26, 4, 3, 1]\n",
      "Pasada:  1\n",
      "Comparacion de lista 0 y lista 1\n",
      "Estado actual de la lista [2, 26, 4, 3, 1]\n",
      "Comparacion de lista 1 y lista 2\n",
      "Se intercambian\n",
      "Estado actual de la lista [2, 4, 26, 3, 1]\n",
      "Comparacion de lista 2 y lista 3\n",
      "Se intercambian\n",
      "Estado actual de la lista [2, 4, 3, 26, 1]\n",
      "Comparacion de lista 3 y lista 4\n",
      "Se intercambian\n",
      "Estado actual de la lista [2, 4, 3, 1, 26]\n",
      "Pasada:  2\n",
      "Comparacion de lista 0 y lista 1\n",
      "Estado actual de la lista [2, 4, 3, 1, 26]\n",
      "Comparacion de lista 1 y lista 2\n",
      "Se intercambian\n",
      "Estado actual de la lista [2, 3, 4, 1, 26]\n",
      "Comparacion de lista 2 y lista 3\n",
      "Se intercambian\n",
      "Estado actual de la lista [2, 3, 1, 4, 26]\n",
      "Comparacion de lista 3 y lista 4\n",
      "Estado actual de la lista [2, 3, 1, 4, 26]\n",
      "Pasada:  3\n",
      "Comparacion de lista 0 y lista 1\n",
      "Estado actual de la lista [2, 3, 1, 4, 26]\n",
      "Comparacion de lista 1 y lista 2\n",
      "Se intercambian\n",
      "Estado actual de la lista [2, 1, 3, 4, 26]\n",
      "Comparacion de lista 2 y lista 3\n",
      "Estado actual de la lista [2, 1, 3, 4, 26]\n",
      "Comparacion de lista 3 y lista 4\n",
      "Estado actual de la lista [2, 1, 3, 4, 26]\n",
      "Pasada:  4\n",
      "Comparacion de lista 0 y lista 1\n",
      "Se intercambian\n",
      "Estado actual de la lista [1, 2, 3, 4, 26]\n",
      "Comparacion de lista 1 y lista 2\n",
      "Estado actual de la lista [1, 2, 3, 4, 26]\n",
      "Comparacion de lista 2 y lista 3\n",
      "Estado actual de la lista [1, 2, 3, 4, 26]\n",
      "Comparacion de lista 3 y lista 4\n",
      "Estado actual de la lista [1, 2, 3, 4, 26]\n",
      "[1, 2, 3, 4, 26]\n"
     ]
    }
   ],
   "source": [
    "#Comrpobacion del programa para ver que hace cada paso\n",
    "# Declaracion de variable\n",
    "lista = [2, 26, 4, 3, 1]\n",
    "\n",
    "# Mostramos la lista antes del proceso\n",
    "print(lista)\n",
    "\n",
    "# Inicio del proceso\n",
    "for i in range(1, len(lista)):\n",
    "    print(\"Pasada: \", i)\n",
    "    for j in range(0, len(lista) - 1):\n",
    "        print(\"Comparacion de lista {0} y lista {1}\". format(j, j+1))\n",
    "        if lista[j] > lista [j + 1]:\n",
    "            elemento = lista[j]\n",
    "            lista[j] = lista [j + 1]\n",
    "            lista[j+1] = elemento\n",
    "            print(\"Se intercambian\")\n",
    "        print(\"Estado actual de la lista\", lista)\n",
    "            \n",
    "# Mostramos la lista ordenada\n",
    "print(lista)\n",
    "    "
   ]
  },
  {
   "cell_type": "markdown",
   "metadata": {},
   "source": [
    "## 230 ¿Qué pasará si sustituimos la primera línea de burbuja.py por esta otra?\n",
    "\n",
    "lista = [\"Pepe\", \"Juan\", \"Maria\", \"Ana\", \"Luis\", \"Pedro\"]"
   ]
  },
  {
   "cell_type": "code",
   "execution_count": 13,
   "metadata": {},
   "outputs": [
    {
     "name": "stdout",
     "output_type": "stream",
     "text": [
      "['Pepe', 'Juan', 'Maria', 'Ana', 'Luis', 'Pedro']\n",
      "['Ana', 'Juan', 'Luis', 'Maria', 'Pedro', 'Pepe']\n"
     ]
    }
   ],
   "source": [
    "# Declaracion de variable\n",
    "lista = [\"Pepe\", \"Juan\", \"Maria\", \"Ana\", \"Luis\", \"Pedro\"]\n",
    "\n",
    "# Mostramos la lista antes del proceso\n",
    "print(lista)\n",
    "\n",
    "# Inicio del proceso\n",
    "for i in range(1, len(lista)):\n",
    "    for j in range(0, len(lista) - 1):\n",
    "        if lista[j] > lista [j + 1]:\n",
    "            elemento = lista[j]\n",
    "            lista[j] = lista [j + 1]\n",
    "            lista[j+1] = elemento\n",
    "            \n",
    "# Mostramos la lista ordenada\n",
    "print(lista)\n",
    "    "
   ]
  },
  {
   "cell_type": "markdown",
   "metadata": {},
   "source": [
    "# 5.4 Matrices\n",
    "\n",
    "Las matrices son disposiciones bidimensionales de valores. En notación matemática, una matriz se denota encerrando entre paréntesis los valores, que se disponen en filas y columnas.\n",
    "\n",
    "He aquí una matriz M:\n",
    "\n",
    "$$\n",
    "\\left(\n",
    "\\begin{array}{ll}\n",
    "1 & 2 & 3 \\\\\n",
    "2 & 12 & 6 \\\\\n",
    "1 & 0 & -3 \\\\\n",
    "0 & -1 & 0\n",
    "\\end{array}\n",
    "\\right)\n",
    "$$\n",
    "\n",
    "Esta matriz tiene 4 filas y 3 columnas, lo cual abreviamos diciendo que es una matriz de dimensión 4x3\n",
    "\n",
    "Las listas permiten representar series de datos en una sola dimensión. Con una lista de\n",
    "números no se puede representar directamente una matriz, pero sí con una lista de listas de\n",
    "números.\n",
    "\n",
    "*M = [[1, 2, 3], [2, 12, 6], [1, 0, -3], [0, -1, 0]]*\n",
    "\n",
    "### 235:\n",
    "Una matriz nula es aquella que solo contiene cero. Construye una matriz nula de 5 filas y 5 columnas"
   ]
  },
  {
   "cell_type": "code",
   "execution_count": 22,
   "metadata": {},
   "outputs": [
    {
     "name": "stdout",
     "output_type": "stream",
     "text": [
      "[0, 0, 0, 0, 0]\n",
      "[0, 0, 0, 0, 0]\n",
      "[0, 0, 0, 0, 0]\n",
      "[0, 0, 0, 0, 0]\n",
      "[0, 0, 0, 0, 0]\n"
     ]
    }
   ],
   "source": [
    "# Declaracion de variables\n",
    "mtz_nula = [[0, 0, 0, 0, 0], [0, 0, 0, 0, 0], [0, 0, 0, 0, 0], [0, 0, 0, 0, 0], [0, 0, 0, 0, 0]]\n",
    "\n",
    "# Mostramos la matriz en pantalla\n",
    "for i in range(0, 5):\n",
    "    print(mtz_nula[i])"
   ]
  },
  {
   "cell_type": "markdown",
   "metadata": {},
   "source": [
    "### 236:\n",
    "Una amtriz identidad es aquella cuyos elementos en la diagonal principal, es decir, accesibles con una expresión de la forma M[i][j] valen uno y el resto valen cero. Construye una matriz identidad de 4 filas y 4 columnas"
   ]
  },
  {
   "cell_type": "code",
   "execution_count": 23,
   "metadata": {},
   "outputs": [
    {
     "name": "stdout",
     "output_type": "stream",
     "text": [
      "[1, 0, 0, 0]\n",
      "[0, 1, 0, 0]\n",
      "[0, 0, 1, 0]\n",
      "[0, 0, 0, 1]\n"
     ]
    }
   ],
   "source": [
    "# Declaracion de variables\n",
    "mtz_nula = [[1, 0, 0, 0], [0, 1, 0, 0], [0, 0, 1, 0], [0, 0, 0, 1]]\n",
    "\n",
    "# Mostramos la matriz\n",
    "for i in range(0, 4):\n",
    "    print(mtz_nula[i])"
   ]
  },
  {
   "cell_type": "code",
   "execution_count": 21,
   "metadata": {},
   "outputs": [
    {
     "name": "stdout",
     "output_type": "stream",
     "text": [
      "0\n",
      "0\n",
      "-\n",
      "[1, 0, 0]\n",
      "[0, 1, 0]\n",
      "[0, 0, 1]\n",
      "-\n",
      "1\n",
      "0\n",
      "0\n",
      "0\n",
      "1\n",
      "0\n",
      "0\n",
      "0\n",
      "1\n"
     ]
    }
   ],
   "source": [
    "# ¿Que resulta de ejecutar este programa?\n",
    "\n",
    "# Declaracion de variables\n",
    "M = [[1, 0, 0], [0, 1, 0], [0, 0, 1]]\n",
    "print(M[-1][0])\n",
    "print(M[-1][1])\n",
    "print(\"-\")\n",
    "for i in range(0, 3):\n",
    "    print(M[i])\n",
    "print(\"-\")\n",
    "for i in range(0, 3):\n",
    "    for j in range(0, 3):\n",
    "        print(M[i][j])"
   ]
  },
  {
   "cell_type": "code",
   "execution_count": 24,
   "metadata": {},
   "outputs": [
    {
     "name": "stdout",
     "output_type": "stream",
     "text": [
      "0.4444444444444444\n"
     ]
    }
   ],
   "source": [
    "# ¿Que resulta de ejecutar este programa?\n",
    "M = [[1, 0, 1], [0, 1, 0], [0, 0, 1]]\n",
    "s = 0.0\n",
    "for i in range(0,3):\n",
    "    for j in range(0, 3):\n",
    "        s += M[i][j]\n",
    "        \n",
    "print(s / 9)"
   ]
  },
  {
   "cell_type": "markdown",
   "metadata": {},
   "source": [
    "Creacion de matrices para no crear uno a uno la matriz nula"
   ]
  },
  {
   "cell_type": "code",
   "execution_count": 34,
   "metadata": {},
   "outputs": [
    {
     "name": "stdout",
     "output_type": "stream",
     "text": [
      "[[0, 0, 0, 0, 0, 0], [0, 0, 0, 0, 0, 0], [0, 0, 0, 0, 0, 0]]\n"
     ]
    }
   ],
   "source": [
    "M = []\n",
    "for i in range (3):\n",
    "    a = [0] * 6\n",
    "    M.append(a)\n",
    "\n",
    "print(M)"
   ]
  },
  {
   "cell_type": "code",
   "execution_count": 36,
   "metadata": {},
   "outputs": [
    {
     "name": "stdout",
     "output_type": "stream",
     "text": [
      "[[0, 1, 0, 0, 0, 0], [0, 0, 0, 0, 0, 0], [0, 0, 0, 0, 0, 0]]\n"
     ]
    }
   ],
   "source": [
    "M = []\n",
    "for i in range (3):\n",
    "    M.append([0] * 6)\n",
    "\n",
    "M[0][1] = 1\n",
    "print(M)"
   ]
  },
  {
   "cell_type": "markdown",
   "metadata": {},
   "source": [
    "### Ejercicio 239\n",
    "\n",
    "Crea la siguiente matriz utilizando la técnica del bucle descrita anteriormente\n",
    "$$\n",
    "\\left(\n",
    "\\begin{array}{ll}\n",
    "1 & 0 & 0 & 0 \\\\\n",
    "0 & 1 & 0 & 0 \\\\\n",
    "0 & 0 & 1 & 0 \\\\\n",
    "0 & 0 & 0 & 1 \\\\\n",
    "\\end{array}\n",
    "\\right)\n",
    "$$"
   ]
  },
  {
   "cell_type": "code",
   "execution_count": 38,
   "metadata": {},
   "outputs": [
    {
     "name": "stdout",
     "output_type": "stream",
     "text": [
      "[1, 0, 0, 0]\n",
      "[0, 1, 0, 0]\n",
      "[0, 0, 1, 0]\n",
      "[0, 0, 0, 1]\n"
     ]
    }
   ],
   "source": [
    "# Declaracion de variables\n",
    "M = []\n",
    "\n",
    "# Inicio del primer ciclo para crear la matriz de ceros\n",
    "for i in range(4):\n",
    "    M.append([0] * 4)\n",
    "\n",
    "# Ciclo para llenar la diagonal principal de unos\n",
    "for i in range(4):\n",
    "    M[i][i] = 1\n",
    "    \n",
    "# Mostramos la matriz por pantalla\n",
    "for i in M:\n",
    "    print(i)"
   ]
  },
  {
   "cell_type": "markdown",
   "metadata": {},
   "source": [
    "### Ejercicio 240\n",
    "\n",
    "Haz un programa que pida un entero positivo n y almacene en una variable M la matriz identidad n x n (la que tiene unos en la diagonal principal y ceros en el resto de celdas)"
   ]
  },
  {
   "cell_type": "code",
   "execution_count": 62,
   "metadata": {},
   "outputs": [
    {
     "name": "stdout",
     "output_type": "stream",
     "text": [
      "[1, 0]\n",
      "[0, 1]\n"
     ]
    }
   ],
   "source": [
    "# Declaracion de variables\n",
    "M = []\n",
    "num = int(input(\"Dame un numero:\\n\"))\n",
    "\n",
    "# Inicio del primer ciclo para crear la matriz de ceros\n",
    "for i in range(num):\n",
    "    M.append([0] * num)\n",
    "\n",
    "# Ciclo para llenar la diagonal principal de unos\n",
    "for i in range(num):\n",
    "    M[i][i] = 1\n",
    "    \n",
    "# Mostramos la matriz por pantalla\n",
    "for i in M:\n",
    "    print(i)"
   ]
  },
  {
   "cell_type": "markdown",
   "metadata": {},
   "source": [
    "### 5.4.2 Lectura de matrices\n",
    "\n",
    "Si deseamos leer una matriz de tamaño determindado, podemos crear un matriz nula como hemos visto en el apartado anterior y a continuación rellenar cada uno de sus componentes:"
   ]
  },
  {
   "cell_type": "code",
   "execution_count": 67,
   "metadata": {},
   "outputs": [
    {
     "name": "stdout",
     "output_type": "stream",
     "text": [
      "[1.0, 2.0]\n",
      "[3.0, 4.0]\n"
     ]
    }
   ],
   "source": [
    "# Pedimos la dimension de la matriz\n",
    "m = int(input('Dime el numero de filas:'))\n",
    "n = int(input('Dame el numero de columnas'))\n",
    "\n",
    "# Creamos una matriz nula\n",
    "M = []\n",
    "for i in range(m):\n",
    "    M.append( [0] * n)\n",
    "\n",
    "# y leemos lsu contenido de teclado\n",
    "for i in range(m):\n",
    "    for j in range(n):\n",
    "        M[i][j] = float(input('Dame el componente {0},{1}'.format(i, j)))\n",
    "        \n",
    "# Mostramos la matriz\n",
    "for i in M:\n",
    "    print(i)"
   ]
  },
  {
   "cell_type": "markdown",
   "metadata": {},
   "source": [
    "## 5.4.4 Operaciones con matrices\n",
    "\n",
    "Desarrollaremos ahora algunos programas que nos ayuden a efectuar operaciones con matrices como la suma o el producto"
   ]
  },
  {
   "cell_type": "code",
   "execution_count": 74,
   "metadata": {},
   "outputs": [
    {
     "ename": "ValueError",
     "evalue": "invalid literal for int() with base 10: ''",
     "output_type": "error",
     "traceback": [
      "\u001b[1;31m---------------------------------------------------------------------------\u001b[0m",
      "\u001b[1;31mValueError\u001b[0m                                Traceback (most recent call last)",
      "\u001b[1;32md:\\rod_e\\Documents\\VSCode\\Python\\listas.ipynb Cell 53'\u001b[0m in \u001b[0;36m<cell line: 2>\u001b[1;34m()\u001b[0m\n\u001b[0;32m      <a href='vscode-notebook-cell:/d%3A/rod_e/Documents/VSCode/Python/listas.ipynb#ch0000056?line=0'>1</a>\u001b[0m \u001b[39m# Pedimos la dimension de las matrices\u001b[39;00m\n\u001b[1;32m----> <a href='vscode-notebook-cell:/d%3A/rod_e/Documents/VSCode/Python/listas.ipynb#ch0000056?line=1'>2</a>\u001b[0m m \u001b[39m=\u001b[39m \u001b[39mint\u001b[39;49m(\u001b[39minput\u001b[39;49m(\u001b[39m'\u001b[39;49m\u001b[39mDime el numero de filas:\u001b[39;49m\u001b[39m'\u001b[39;49m))\n\u001b[0;32m      <a href='vscode-notebook-cell:/d%3A/rod_e/Documents/VSCode/Python/listas.ipynb#ch0000056?line=2'>3</a>\u001b[0m n \u001b[39m=\u001b[39m \u001b[39mint\u001b[39m(\u001b[39minput\u001b[39m(\u001b[39m'\u001b[39m\u001b[39mDime el numero de columnas:\u001b[39m\u001b[39m'\u001b[39m))\n\u001b[0;32m      <a href='vscode-notebook-cell:/d%3A/rod_e/Documents/VSCode/Python/listas.ipynb#ch0000056?line=4'>5</a>\u001b[0m \u001b[39m# Creamos dos matrices nulas\u001b[39;00m\n",
      "\u001b[1;31mValueError\u001b[0m: invalid literal for int() with base 10: ''"
     ]
    }
   ],
   "source": [
    "# Pedimos la dimension de las matrices\n",
    "m = int(input('Dime el numero de filas:'))\n",
    "n = int(input('Dime el numero de columnas:'))\n",
    "\n",
    "# Creamos dos matrices nulas\n",
    "A = []\n",
    "for i in range(m):\n",
    "    A.append( [0] * n)\n",
    "\n",
    "B = []\n",
    "for i in range(m):\n",
    "    B.append( [0] * n )\n",
    "    \n",
    "# y tleemos sus contenidos de teclado\n",
    "print('Lectura de la matriz A')\n",
    "for i in range(m):\n",
    "    for j in range(n):\n",
    "        A[i][j] = float(input('Componente {0}{1}'.format(i, j)))\n",
    "\n",
    "print('Lectura de la matriz b')\n",
    "for i in range(m):\n",
    "    for j in range(n):\n",
    "        B[i][j] = float(input('Componente {0}{1}'.format(i, j)))\n",
    "        \n",
    "# Construimos otra matriz nula para albergar el resultado\n",
    "C = []\n",
    "for i in range(m):\n",
    "    C.append([0] * n)\n",
    "\n",
    "# Empezamos el calculo de la suma\n",
    "for i in range(m):\n",
    "    for j in range(n):\n",
    "        C[i][j] = A[i][j] + B[i][j]\n",
    "        \n",
    "# y mostramos el resultado por pantalla\n",
    "print('Suma:')\n",
    "for i in C:\n",
    "    print(i)"
   ]
  },
  {
   "cell_type": "markdown",
   "metadata": {},
   "source": [
    "## Ejercicio 241 \n",
    "\n",
    "Diseña un programa que lea dos matrices y calcule la diferencia entre la primera y la segunda"
   ]
  },
  {
   "cell_type": "code",
   "execution_count": 70,
   "metadata": {},
   "outputs": [
    {
     "name": "stdout",
     "output_type": "stream",
     "text": [
      "Lectura de la matriz A\n",
      "Lectura de la matriz b\n",
      "Resta:\n",
      "[-4.0, -4.0]\n",
      "[-4.0, -4.0]\n"
     ]
    }
   ],
   "source": [
    "# Pedimos la dimension de las matrices\n",
    "m = int(input('Dime el numero de filas:'))\n",
    "n = int(input('Dime el numero de columnas:'))\n",
    "\n",
    "# Creamos dos matrices nulas\n",
    "A = []\n",
    "for i in range(m):\n",
    "    A.append( [0] * n)\n",
    "\n",
    "B = []\n",
    "for i in range(m):\n",
    "    B.append( [0] * n )\n",
    "    \n",
    "# y leemos sus contenidos de teclado\n",
    "print('Lectura de la matriz A')\n",
    "for i in range(m):\n",
    "    for j in range(n):\n",
    "        A[i][j] = float(input('Componente {0}{1}'.format(i, j)))\n",
    "\n",
    "print('Lectura de la matriz b')\n",
    "for i in range(m):\n",
    "    for j in range(n):\n",
    "        B[i][j] = float(input('Componente {0}{1}'.format(i, j)))\n",
    "        \n",
    "# Construimos otra matriz nula para albergar el resultado\n",
    "C = []\n",
    "for i in range(m):\n",
    "    C.append([0] * n)\n",
    "\n",
    "# Empezamos el calculo de la suma\n",
    "for i in range(m):\n",
    "    for j in range(n):\n",
    "        C[i][j] = A[i][j] - B[i][j]\n",
    "        \n",
    "# y mostramos el resultado por pantalla\n",
    "print('Resta:')\n",
    "for i in C:\n",
    "    print(i)"
   ]
  },
  {
   "cell_type": "markdown",
   "metadata": {},
   "source": [
    "### Ejercicio 242\n",
    "\n",
    "Diseña un programa que lea una matriz y un numero y devuelva una nueva matriz la que resulta de multiplicar la matriz por el numero. (El producto de un numero por una matriz es la matriz que resulta de multiplicar cada elemento por dicho numero)"
   ]
  },
  {
   "cell_type": "code",
   "execution_count": 71,
   "metadata": {},
   "outputs": [
    {
     "name": "stdout",
     "output_type": "stream",
     "text": [
      "Lectura de la matriz A\n",
      "[1.0, 2.0]\n",
      "[3.0, 4.0]\n"
     ]
    }
   ],
   "source": [
    "# Pedimos la dimension de las matrices\n",
    "m = int(input('Dime el numero de filas:'))\n",
    "n = int(input('Dime el numero de columnas:'))\n",
    "numero = float(input('Dame el numero por el cual multiplicar:\\n'))\n",
    "\n",
    "# Creamos dos matrices nulas\n",
    "A = []\n",
    "for i in range(m):\n",
    "    A.append( [0] * n)\n",
    "\n",
    "# y leemos sus contenidos de teclado\n",
    "print('Lectura de la matriz A')\n",
    "for i in range(m):\n",
    "    for j in range(n):\n",
    "        A[i][j] = float(input('Componente {0}{1}'.format(i, j)))\n",
    "        \n",
    "\n",
    "# Creamos matriz nula para almacenar los resultados\n",
    "C = []\n",
    "for i in range(m):\n",
    "    C.append([0] * n)\n",
    "    \n",
    "# Creamos la multiplicacion de la matriz por n\n",
    "for i in range(m):\n",
    "    for j in range(n):\n",
    "        C[i][j] = A[i][j] * numero\n",
    "        \n",
    "for i in C:\n",
    "    print(i)"
   ]
  },
  {
   "cell_type": "markdown",
   "metadata": {},
   "source": [
    "## Multiplicacion de matrices\n"
   ]
  },
  {
   "cell_type": "code",
   "execution_count": 73,
   "metadata": {},
   "outputs": [
    {
     "name": "stdout",
     "output_type": "stream",
     "text": [
      "lectura de la matriz A\n",
      "lectura de la matriz B\n",
      "[19.0, 22.0]\n",
      "[43.0, 50.0]\n"
     ]
    }
   ],
   "source": [
    "# Pedimos la dimension de la primera matriz y el numero de columnas de la segunda\n",
    "p = int(input('Dime el numero de filas de A:\\n'))\n",
    "q = int(input('Dime el numero de columnas A (y filas de B:)\\n'))\n",
    "r = int(input('Dime el numero de columnas de B\"\\n'))\n",
    "\n",
    "# Creamos dos matrices nulas\n",
    "A = []\n",
    "for i in range(p):\n",
    "    A.append([0] * q)\n",
    "    \n",
    "B = []\n",
    "for i in range(q):\n",
    "    B.append([0] * r)\n",
    "    \n",
    "# y leeremos contenido del teclado\n",
    "print('lectura de la matriz A')\n",
    "for i in range(p):\n",
    "    for j in range(q):\n",
    "        A[i][j] = float(input('Componente {0}, {1}'.format(i, j)))\n",
    "\n",
    "print('lectura de la matriz B')\n",
    "for i in range(q):\n",
    "    for j in range(r):\n",
    "        B[i][j] = float(input('Componente {0}, {1}'.format(i, j)))\n",
    "        \n",
    "# Creamos una matriz nula para el resultado\n",
    "C = []\n",
    "for i in range(p):\n",
    "    C.append([0] * r)\n",
    "    \n",
    "# Efectuamos el calculo del producto\n",
    "for i in range(p):\n",
    "    for j in range(r):\n",
    "        for k in range(q):\n",
    "            C[i][j] += A[i][k] * B[k][j]\n",
    "            \n",
    "            \n",
    "# Mostramos resultados en pantalla\n",
    "for i in C:\n",
    "    print(i)"
   ]
  },
  {
   "cell_type": "markdown",
   "metadata": {},
   "source": [
    "## Ejercicio 243\n",
    "\n",
    "La transpuesta de una matriz A de dimensión mxn es una matriz A<sup>T</sup> de dimension nxm tal que A<sup>T</sup> <sub>i ° j</sub>  = A <sub>j * i</sub>\n",
    "\n",
    "$$A=\n",
    "\\left(\n",
    "\\begin{array}{ll}\n",
    "1 & 2 & 3 \\\\\n",
    "2 & 12 & 6 \\\\\n",
    "1 & 0 & -3 \\\\\n",
    "10 & -1 & 0 \n",
    "\\end{array}\n",
    "\\right)\n",
    "$$\n",
    "\n",
    "entonces:\n",
    "\n",
    "$$A^T =\n",
    "\\left(\n",
    "\\begin{array}{ll}\n",
    "1 & 2 & 1 & 10 \\\\\n",
    "2 & 12 & 0 & -1 \\\\\n",
    "3 & 6 & -3 & 0\n",
    "\\end{array}\n",
    "\\right)\n",
    "$$\n",
    "\n",
    "Diseña un programa que lea una matriz y muestre su transpuesta"
   ]
  },
  {
   "cell_type": "code",
   "execution_count": 78,
   "metadata": {},
   "outputs": [
    {
     "name": "stdout",
     "output_type": "stream",
     "text": [
      "Matriz A:\n",
      "[1.0, 2.0]\n",
      "[3.0, 4.0]\n",
      "[5.0, 6.0]\n",
      "[7.0, 8.0]\n",
      "Inversa de la matriz A:\n",
      "[1.0, 3.0, 5.0, 7.0]\n",
      "[2.0, 4.0, 6.0, 8.0]\n"
     ]
    }
   ],
   "source": [
    "# Declaracion de variables\n",
    "n = int(input('Ingresa el numero de columnas:\\n'))\n",
    "m = int(input('Ingresa el numero de filas:\\n'))\n",
    "\n",
    "#Incializamos la matriz nula\n",
    "A = []\n",
    "for i in range(m):\n",
    "    A.append([0] * n)\n",
    "\n",
    "# Pedimos datos desde el teclado\n",
    "for i in range(m):\n",
    "    for j in range(n):\n",
    "        A[i][j] = float(input('Dame el elemento {0}, {1}:\\n'.format(i, j)))\n",
    "\n",
    "# Inicializamos la matriz donde vamos a almacenar el resultado\n",
    "B = []\n",
    "for i in range(n):\n",
    "    B.append([0] * m)\n",
    "    \n",
    "# Realizamos la transpuesta\n",
    "for i in range(n):\n",
    "    for j in range(m):\n",
    "        B[i][j] = A[j][i]\n",
    "    \n",
    "#Mostramos la matris normal\n",
    "print('Matriz A:')\n",
    "for i in A:\n",
    "    print(i)\n",
    "       \n",
    "# Mostramos la Inversa de la matriz\n",
    "print('Inversa de la matriz A:')\n",
    "for i in B:\n",
    "    print(i)"
   ]
  },
  {
   "cell_type": "markdown",
   "metadata": {},
   "source": [
    "### Ejercicio 244\n",
    "\n",
    "Diseña un programa tal que lea una matriz A de dimension mxn y muestre un vector v de talla n tal que \n",
    "\n",
    "vj = \u0019m\n",
    "i=1\n",
    "Ai,j ,\n",
    "\n",
    "\n",
    "para j entre 1 y n"
   ]
  },
  {
   "cell_type": "code",
   "execution_count": 6,
   "metadata": {},
   "outputs": [
    {
     "name": "stdout",
     "output_type": "stream",
     "text": [
      "\tMatriz generada:\n",
      "[10.0, 15.0, 20.0, 0.0]\n",
      "[2.0, 15.0, 14.0, 20.0]\n",
      "[23.0, 25.0, 22.0, 56.0]\n",
      "[17.0, 15.0, 10.0, 1.0]\n",
      "\tVector:\n",
      "[45.0]\n",
      "[51.0]\n",
      "[126.0]\n",
      "[43.0]\n"
     ]
    }
   ],
   "source": [
    "# Declaramos variables\n",
    "p = int(input('Dime el numero de filas de A:\\n'))\n",
    "q = int(input('Dime el numero de columnas A:\\n'))\n",
    "aux = 0\n",
    "vector = []\n",
    "\n",
    "# Inicializamos la matriz con ceros\n",
    "A = []\n",
    "for i in range(p):\n",
    "    A.append([0] * q)\n",
    "    \n",
    "#se piden datos por teclado\n",
    "for i in range(p):\n",
    "    for j in range(q):\n",
    "        A[i][j] = float(input('Dame el elemento {0}, {1}:\\n'.format(i, j)))\n",
    "        \n",
    "# Procedemos a llenar el vector\n",
    "for i in range(p):\n",
    "    for j in range(q):\n",
    "        aux = A[i][j] + aux\n",
    "    vector.append([aux])\n",
    "    aux = 0\n",
    "        \n",
    "# Imprimimos las dos matrices para comprobar\n",
    "print('\\tMatriz generada:')\n",
    "for i in A:\n",
    "    print(i)\n",
    "    \n",
    "print('\\tVector:')\n",
    "for i in vector:\n",
    "    print(i)"
   ]
  },
  {
   "cell_type": "markdown",
   "metadata": {},
   "source": [
    "### Ejercicio 245 \n",
    "\n",
    "Diseña un programa que lea una matriz A de dimensión m x n y muestre un vextor v de talla min(n,m) tal que sea la sumatoria de j =1 hasta i y k = 1 hasta i de A <sub>j.k</sub> para i entre 1 u min(n,m)"
   ]
  },
  {
   "cell_type": "code",
   "execution_count": 8,
   "metadata": {},
   "outputs": [
    {
     "name": "stdout",
     "output_type": "stream",
     "text": [
      "2\n",
      "\tMatriz\n",
      "[[1.0, 2.0], [3.0, 4.0]]\n",
      "[[1.0, 2.0], [3.0, 4.0]]\n",
      "\tVector:\n",
      "[3.0]\n",
      "[10.0]\n"
     ]
    }
   ],
   "source": [
    "# Declaramos variables\n",
    "p = int(input('Dime el numero de filas de A:\\n'))\n",
    "q = int(input('Dime el numero de columnas A:\\n'))\n",
    "aux = 0\n",
    "vector = []\n",
    "\n",
    "# Inicializamos la matriz vacia\n",
    "A = []\n",
    "for i in range(p):\n",
    "    A.append([0] * q)\n",
    "\n",
    "# Empezamos a llenar la matriz con datos del teclado\n",
    "for i in range(p):\n",
    "    for j in range(q):\n",
    "        A[i][j] = float(input('Dame el elemento {0}, {1}:\\n'.format(i, j)))\n",
    "\n",
    "# Empezamos a realizar la sumatoria\n",
    "for i in range(p):\n",
    "    for j in range(q):\n",
    "        aux = A[i][j] + aux\n",
    "    vector.append([aux])\n",
    "    \n",
    "# Imprimimos matriz y vector y el min(m, n)\n",
    "print(min(p,q))\n",
    "print(\"\\tMatriz\")\n",
    "for i in A:\n",
    "    print(A)\n",
    "\n",
    "print(\"\\tVector:\")\n",
    "for i in vector:\n",
    "    print(i)\n",
    "    "
   ]
  },
  {
   "cell_type": "markdown",
   "metadata": {},
   "source": [
    "### Ejercicio 246 \n",
    "\n",
    "Diseañ un program que, dada una matriz determine si la suma de los elementos de cualquiera de sus filas es igual a la suma de los elementos de cualquiera de sus columnas"
   ]
  },
  {
   "cell_type": "code",
   "execution_count": 15,
   "metadata": {},
   "outputs": [
    {
     "name": "stdout",
     "output_type": "stream",
     "text": [
      "Hay sumas iguales entre filas y columnas\n"
     ]
    }
   ],
   "source": [
    "# Declaramos variables\n",
    "f = int(input(\"Ingresa el numero de filas:\\n\"))\n",
    "c = int(input(\"Ingresa el numero de columnas:\\n\"))\n",
    "aux = 0\n",
    "suma_fila = []\n",
    "suma_columna = []\n",
    "coincide = False\n",
    "\n",
    "# Inicializamos la matriz con ceros\n",
    "A = []\n",
    "for i in range(f):\n",
    "    A.append([0] * c)\n",
    "    \n",
    "# Pedimos datos desde el teclado\n",
    "for i in range(p):\n",
    "    for j in range(q):\n",
    "        A[i][j] = float(input('Dame el elemento {0}, {1}:\\n'.format(i, j)))\n",
    "        \n",
    "# Realizamos las sumas por fila y se almacenan en una lsita\n",
    "for i in range(p):\n",
    "    for j in range(q):\n",
    "        aux = A[i][j] + aux\n",
    "    suma_fila.append([aux])\n",
    "    aux = 0\n",
    "\n",
    "# Realizamos las sumas por columna y almacenarlos en una lista\n",
    "aux = 0\n",
    "for i in range(p):\n",
    "    for j in range(q):\n",
    "        aux = A[j][i] + aux\n",
    "    suma_columna.append([aux])\n",
    "    aux = 0\n",
    "        \n",
    "# Comparamos los resultados y si uno coincide lo mostramos\n",
    "for i in range(1, len(suma_columna)):\n",
    "    for j in range(0, len(suma_columna) - 1):\n",
    "        if suma_columna[j] == suma_fila[j + 1]:\n",
    "            coincide = True\n",
    "\n",
    "if coincide:\n",
    "    print(\"Hay sumas iguales entre filas y columnas\")\n",
    "else:\n",
    "    print(\"Ninguna suma coincide\")\n",
    "    "
   ]
  },
  {
   "cell_type": "markdown",
   "metadata": {},
   "source": [
    "### 5.4.5 El juego de la vida\n",
    "\n",
    "El juego de la vida es un juego sin jugadores. Se trata de colocar una serie de fichas en un tablero y dejar que evolucionen siguiendo unas reglas extremadamente simples. Lo curioso es que esas reglas dan origen a una gran complejidad que hace apasionante la mera observación de la evolución de las fichas en el tablero (hay gustos para todo).\n",
    "En el juego original se utiliza un tablero (una matriz) con infinitas filas y columnas. Como disponer de una matriz de dimensión infinita en un programa es imposible, supondremos que presenta dimensión m x n, donde m y n son valores escogidos por nosotros. Cada celda del tablero contiene una célula que puede estar viva o muerta. Representaremos las células vivas con su casilla de color negro y las células muertas con la celda en blanco. Cada casilla del tablero cuenta con ocho celdas vecinas. El mundo del juego de la vida está gobernado por un reloj que marca una serie de pulsos con los que mueren y nacen células. Cuándo nace y cuándo muere una célula solo depende de cuántas células vecinas están vivas. He aquí las reglas:\n",
    "\n",
    "- Regla del nacimiento. Una célula muerta resucita si tiene exactamente tres vecinos vivos. En\n",
    "estas figuras te señalamos celdas muertas que pasan a estar vivas con el siguiente pulso\n",
    "- Regla de la supervivencia. Una celda viva permanece viva si tiene dos o tres vecinos. Aquí te\n",
    "señalamos células que ahora están vivas y permanecerán así tras el siguiente pulso\n",
    "- Regla de la superpoblación. Una célula muere o permanece muerta si tiene cuatro o más\n",
    "vecinos. Estas figuras muestran células que ahora están vivas o muertas y estarán muertas\n",
    "tras el siguiente pulso\n",
    "- Regla del aislamiento. Una célula muere o permanece muerta si tiene menos de dos vecinos. En estas figuras te señalamos células que ahora están vivas o muertas y estarán muertas tras el siguiente pulso\n",
    "\n",
    "Vamos a hacer un programa que muestre la evolución del juego de la vida durante una serie de pulsos de reloj. Empezaremos con un prototipo que nos muestra la evolución del tablero en el terminal."
   ]
  },
  {
   "cell_type": "code",
   "execution_count": 22,
   "metadata": {},
   "outputs": [
    {
     "name": "stdout",
     "output_type": "stream",
     "text": [
      "..........\n",
      "..........\n",
      "..........\n",
      "..........\n",
      ".....*....\n",
      ".....*....\n",
      ".....*....\n",
      "..........\n",
      "..........\n",
      "..........\n",
      "Pulso 1\n",
      "..........\n",
      "..........\n",
      "..........\n",
      "..........\n",
      "..........\n",
      "....***...\n",
      "..........\n",
      "..........\n",
      "..........\n",
      "..........\n",
      "Pulso 2\n",
      "..........\n",
      "..........\n",
      "..........\n",
      "..........\n",
      ".....*....\n",
      ".....*....\n",
      ".....*....\n",
      "..........\n",
      "..........\n",
      "..........\n",
      "Pulso 3\n",
      "..........\n",
      "..........\n",
      "..........\n",
      "..........\n",
      "..........\n",
      "....***...\n",
      "..........\n",
      "..........\n",
      "..........\n",
      "..........\n",
      "Pulso 4\n",
      "..........\n",
      "..........\n",
      "..........\n",
      "..........\n",
      ".....*....\n",
      ".....*....\n",
      ".....*....\n",
      "..........\n",
      "..........\n",
      "..........\n",
      "Pulso 5\n",
      "..........\n",
      "..........\n",
      "..........\n",
      "..........\n",
      "..........\n",
      "....***...\n",
      "..........\n",
      "..........\n",
      "..........\n",
      "..........\n",
      "Pulso 6\n",
      "..........\n",
      "..........\n",
      "..........\n",
      "..........\n",
      ".....*....\n",
      ".....*....\n",
      ".....*....\n",
      "..........\n",
      "..........\n",
      "..........\n"
     ]
    }
   ],
   "source": [
    "filas = 10\n",
    "columnas = 10\n",
    "\n",
    "tablero = []\n",
    "for i in range(filas):\n",
    "    tablero.append([False] * columnas)\n",
    "\n",
    "tablero[4][5] = True\n",
    "tablero[5][5] = True\n",
    "tablero[6][5] = True\n",
    "\n",
    "for y in range(filas):\n",
    "    for x in range(columnas):\n",
    "        if tablero[y][x]:\n",
    "            print(\"*\", end=\"\")\n",
    "        else:\n",
    "            print(\".\", end=\"\")\n",
    "    print()\n",
    "    \n",
    "pulsos = 6\n",
    "for t in range(pulsos):\n",
    "    \n",
    "    # Preparar un nuevo tablero\n",
    "    nuevo = []\n",
    "    for i in range(filas):\n",
    "        nuevo.append([False] * columnas)\n",
    "        \n",
    "    # Actualizar el tablero\n",
    "    for y in range(filas):\n",
    "        for x in range(columnas):\n",
    "            # Calcular el numero de vecinos de la celda que estamos visitando\n",
    "            n = 0\n",
    "            if y > 0 and x > 0 and tablero[y-1][x-1]:\n",
    "                n += 1\n",
    "            if x > 0 and tablero[y][x-1]:\n",
    "                n +=1\n",
    "            if y < filas - 1 and x > 0 and tablero[y+1][x-1]:\n",
    "                n += 1\n",
    "            if y > 0 and tablero[y-1][x]:\n",
    "                n += 1\n",
    "            if y < filas - 1 and tablero[y+1][x]:\n",
    "                n +=1\n",
    "            if y > 0 and x < columnas - 1 and tablero[y-1][x+1]:\n",
    "                n += 1\n",
    "            if x < columnas - 1 and tablero[y][x+1]:\n",
    "                n +=1\n",
    "            if y < filas - 1 and x < columnas - 1 and tablero[y+1][x+1]:\n",
    "                n += 1\n",
    "            # aplicar las reglas\n",
    "            if tablero[y][x] and (n == 2 or n == 3): #Supervivencia\n",
    "                nuevo[y][x] = True\n",
    "            elif not tablero[y][x] and n == 3: # Nacimiento\n",
    "                nuevo[y][x] = True\n",
    "            else: # Superpoblacion y aislamiento\n",
    "                nuevo[y][x] = False       \n",
    "                                             \n",
    "    # Actualizar el teclado\n",
    "    tablero = nuevo\n",
    "    \n",
    "    # Representar el tablero\n",
    "    print(\"Pulso\", t+1)\n",
    "    for y in range(filas):\n",
    "        for x in range(columnas):\n",
    "            if tablero[y][x]:\n",
    "                print(\"*\", end=\"\")\n",
    "            else:\n",
    "                print(\".\", end=\"\")\n",
    "        print()"
   ]
  }
 ],
 "metadata": {
  "kernelspec": {
   "display_name": "Python 3.10.4 64-bit",
   "language": "python",
   "name": "python3"
  },
  "language_info": {
   "codemirror_mode": {
    "name": "ipython",
    "version": 3
   },
   "file_extension": ".py",
   "mimetype": "text/x-python",
   "name": "python",
   "nbconvert_exporter": "python",
   "pygments_lexer": "ipython3",
   "version": "3.10.4"
  },
  "orig_nbformat": 4,
  "vscode": {
   "interpreter": {
    "hash": "87e37ab4b4be2a65128e65ee6dd2cd25882cc8ca9e7bb4e0cbfeff46ad1b513d"
   }
  }
 },
 "nbformat": 4,
 "nbformat_minor": 2
}
