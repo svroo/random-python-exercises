{
 "cells": [
  {
   "cell_type": "markdown",
   "metadata": {},
   "source": [
    "## Capitulo 6 Funciones\n",
    "\n",
    "Este notebook va a ser sobre ejercicios de Funciones recuperados del libro: *Introducción a la programacion con python 3* de, Andrés Mazal Varó, Isabel Garcia Luengo, Pedro Garcia Sevilla.\n",
    "\n",
    "Creado por: Rodrigo Salazar @sv_roo"
   ]
  },
  {
   "cell_type": "markdown",
   "metadata": {},
   "source": [
    "### Ejercicio 252\n",
    "\n",
    "Define una funcion llamada raiz cúbica que devuelva el valor de sqrt(x) (Nota: recuerta que la notación 3Raiz(x) no es más que una forma de expresar x<sup>1/3</sup>)"
   ]
  },
  {
   "cell_type": "code",
   "execution_count": 1,
   "metadata": {},
   "outputs": [
    {
     "name": "stdout",
     "output_type": "stream",
     "text": [
      "5.0\n"
     ]
    }
   ],
   "source": [
    "# Declaramos la funcion\n",
    "def raizcubica (x):\n",
    "    return x ** 1/3\n",
    "\n",
    "# Declaramos variables\n",
    "x = float(input(\"Dame un número para calcular su raiz cubica:\\m\"))\n",
    "\n",
    "# Mostramos en pantalla\n",
    "print(raizcubica(x))"
   ]
  },
  {
   "cell_type": "markdown",
   "metadata": {},
   "source": [
    "### Ejercicio 253\n",
    "\n",
    "Define una función llamada área_circulo que a partir del radio de un círculo, devuelva el varor de su áres. Utiliza el valor 3.1416 como aproximación de $\\Pi$ o importa el valor de $\\Pi$ que encontrarás en el módulo math.\n",
    "\n",
    "(Recuerda qeu el área de un circulo de radio r es $\\Pi$<sup>2</sup>)\n"
   ]
  },
  {
   "cell_type": "code",
   "execution_count": 3,
   "metadata": {},
   "outputs": [
    {
     "name": "stdout",
     "output_type": "stream",
     "text": [
      "98.69604401089359\n"
     ]
    }
   ],
   "source": [
    "# Importamos librerias \n",
    "from math import pi\n",
    "\n",
    "# Definimos la funcion\n",
    "def area_circulo(radio):\n",
    "    return radio * (pi ** 2)\n",
    "\n",
    "# Pedimos datos de teclado\n",
    "ra = float(input(\"Dame el radio del circulo:\\n\"))\n",
    "\n",
    "#Imprimimos el resultado\n",
    "print(area_circulo(ra))"
   ]
  },
  {
   "cell_type": "markdown",
   "metadata": {},
   "source": [
    "### Ejercicio 254\n",
    "Define una función que convierta grados Farengeit en grados centígrados (Para calcular los grados centígrados has de restar 32 grados a los grados Farenheit y multiplicar el resultado por cinco novenos)"
   ]
  },
  {
   "cell_type": "code",
   "execution_count": 6,
   "metadata": {},
   "outputs": [
    {
     "name": "stdout",
     "output_type": "stream",
     "text": [
      "123.88888888888889 °C\n"
     ]
    }
   ],
   "source": [
    "# Definimos la funcion para calcular el calculo\n",
    "def calculo_centigrados(Farenheit):\n",
    "    return (Farenheit - 32) * 5/9\n",
    "\n",
    "# Pedimos datos de teclado\n",
    "cel = float(input(\"Dame los grados Farenheit:\\n\"))\n",
    "\n",
    "# Mostramos en pantalla\n",
    "print(calculo_centigrados(cel), \"°C\")"
   ]
  },
  {
   "cell_type": "markdown",
   "metadata": {},
   "source": [
    "### Ejercicio 255\n",
    "\n",
    "Define una función que convierta grados centigrados en grados Farenheit."
   ]
  },
  {
   "cell_type": "code",
   "execution_count": 7,
   "metadata": {},
   "outputs": [
    {
     "name": "stdout",
     "output_type": "stream",
     "text": [
      "77.0 °F\n"
     ]
    }
   ],
   "source": [
    "# Definimos la funcion\n",
    "def calculo_Farenheit(celcius):\n",
    "    return (celcius * 1.8) + 32\n",
    "\n",
    "# Pedimos datos del teclado\n",
    "cel = float(input(\"Dame los grados centigrados:\\n\"))\n",
    "\n",
    "# Mostramos en pantalla\n",
    "print(calculo_Farenheit(cel), \"°F\")"
   ]
  },
  {
   "cell_type": "markdown",
   "metadata": {},
   "source": [
    "### Ejercicio 256\n",
    "\n",
    "Define una función que convierta radianes en grados.\n",
    "\n",
    "(Recuerda que 360 grados son 2 $\\Pi$ radianes)"
   ]
  },
  {
   "cell_type": "code",
   "execution_count": 10,
   "metadata": {},
   "outputs": [
    {
     "name": "stdout",
     "output_type": "stream",
     "text": [
      "114.59155902616465 °\n"
     ]
    }
   ],
   "source": [
    "# Importamos pi from math\n",
    "from math import pi\n",
    "\n",
    "# Definimos la funcion\n",
    "def radianes_a_grados(rad):\n",
    "    return rad * (180/pi)\n",
    "\n",
    "# Pedimos datos del teclado\n",
    "radianes = float(input(\"Dame el numero de radianes:\"))\n",
    "\n",
    "# Mostramos resultados:\n",
    "print(radianes_a_grados(radianes), \"°\")"
   ]
  },
  {
   "cell_type": "markdown",
   "metadata": {},
   "source": [
    "### Ejercicio 257\n",
    "\n",
    "Define una función que convierta grados en radianes.\n",
    "\n",
    "(Recuerda que 360 grados son 2 $\\Pi$ radianes)"
   ]
  },
  {
   "cell_type": "code",
   "execution_count": 8,
   "metadata": {},
   "outputs": [
    {
     "name": "stdout",
     "output_type": "stream",
     "text": [
      "1.5707963267948966 radianes\n"
     ]
    }
   ],
   "source": [
    "# Importamos pi de math\n",
    "from math import pi\n",
    "\n",
    "# Definimos la funcion\n",
    "def conversion (grados):\n",
    "    return grados * (pi/180)\n",
    "\n",
    "# Pedimos datos desde el teclado\n",
    "grds = float(input(\"Ingresa el numero de grados:\\n\"))\n",
    "\n",
    "# Mostramos en pantalla\n",
    "print(conversion(grds), \"radianes\")"
   ]
  },
  {
   "cell_type": "markdown",
   "metadata": {},
   "source": [
    "### Ejemplo\n",
    "Función que devueleve valor booleano si es mayor de edad\n"
   ]
  },
  {
   "cell_type": "code",
   "execution_count": 11,
   "metadata": {},
   "outputs": [],
   "source": [
    "# Declaramos la funcion\n",
    "def es_mayor_de_edad(edad):\n",
    "    if edad < 18:\n",
    "        return False\n",
    "    else:\n",
    "        return True"
   ]
  },
  {
   "cell_type": "markdown",
   "metadata": {},
   "source": [
    "### Ejercicio 261\n",
    "\n",
    "Diseña una función que reciba una cadena y devuelva si es cierto si empieza por minúscula y falso en caso contrario"
   ]
  },
  {
   "cell_type": "code",
   "execution_count": 13,
   "metadata": {},
   "outputs": [
    {
     "name": "stdout",
     "output_type": "stream",
     "text": [
      "Si empieza con minuscula\n"
     ]
    }
   ],
   "source": [
    "# Definimos la funcion\n",
    "def validar_si_empieza_con_mayuscula(cadena):\n",
    "    if cadena[0].islower():\n",
    "        return \"Si empieza con minuscula\"\n",
    "    else:\n",
    "        return \"No empieza con minuscula\"\n",
    "    \n",
    "# Pedimos la cadena desde el teclado\n",
    "cadena = input(\"Dame una cadena:\\n\")\n",
    "\n",
    "# Mostramos la panattal\n",
    "print(validar_si_empieza_con_mayuscula(cadena))"
   ]
  },
  {
   "cell_type": "markdown",
   "metadata": {},
   "source": [
    "## Ejercicio 262\n",
    "\n",
    "Diseña una función llamada es_repetición que reciba una cadena y nos diga si la cadena estáformada mediante la concatenacion de una cadena consigo misma. Por ejemplo es_repeticion(\"abab\") devolvera True, pues la cadena ab estaformada con la cadena af repetida por contra_es_repeticion(\"ababab\") devolvera False"
   ]
  },
  {
   "cell_type": "code",
   "execution_count": 17,
   "metadata": {},
   "outputs": [
    {
     "name": "stdout",
     "output_type": "stream",
     "text": [
      "True\n"
     ]
    }
   ],
   "source": [
    "# Definimos la funcion\n",
    "def es_repeticion(cadena):\n",
    "    # Definimos variables donde se almacena la mitad de la longitud de la cadena en entero\n",
    "    x = int(len(cadena) / 2) \n",
    "    contador = 0\n",
    "    \n",
    "    # Se compara las dos mitades de la cadena y se gaurda en una variable contador para que despues se compare la longitud de contador con la mitad de la dimension de la cadena\n",
    "    for i in range(x):\n",
    "        if cadena[i] == cadena[x + i]:\n",
    "            contador += 1\n",
    "    if contador == x:\n",
    "        return True\n",
    "    else:\n",
    "        return False\n",
    "    \n",
    "# Pedimos cadena desde teclado\n",
    "cad = input(\"Dame una cadena:\\n\")\n",
    "\n",
    "# Mostramos resultado\n",
    "print(es_repeticion(cad))"
   ]
  },
  {
   "cell_type": "markdown",
   "metadata": {},
   "source": [
    "### Ejemplo\n",
    "\n",
    "Vamos a diseñar una función que nos diga si un número dado es o no es perfecto. Se dice que un número es perfecto si es igual a la suma de todos sus divisores excluído él mismo. Por ejemplo, 28 es un número perfecto, pues sus divisores (excepto él mismo) son 1, 2, 4, 7 y 14, que suman 28. Empecemos. La función, a la que llamaremos es_perfecto, recibirá un solo dato (el número\n",
    "sobre el que hacemos la pregunta) y devolverá un valor booleano:"
   ]
  },
  {
   "cell_type": "code",
   "execution_count": 21,
   "metadata": {},
   "outputs": [
    {
     "name": "stdout",
     "output_type": "stream",
     "text": [
      "True\n"
     ]
    }
   ],
   "source": [
    "# Definimos la cabezara de al funcion\n",
    "def es_perfecto(n):\n",
    "    sumatorio = 0\n",
    "    for i in range(1, n):\n",
    "        if n % i == 0:\n",
    "            sumatorio += i\n",
    "            if sumatorio == n:\n",
    "                break\n",
    "    return sumatorio == n\n",
    "\n",
    "# Pedimos datos desde teclado\n",
    "num = int(input(\"Dame un numero:\\n\"))\n",
    "\n",
    "# Mostramos resultado en pantalla\n",
    "print(es_perfecto(num))    "
   ]
  },
  {
   "cell_type": "markdown",
   "metadata": {},
   "source": [
    "### Ejercicio 265\n",
    "\n",
    "Diseña una función que devuelva una lista con los números perfectos comprendidos entre 1 y n, siendo n un entero que nos proporciona el usuario.\n"
   ]
  },
  {
   "cell_type": "code",
   "execution_count": 1,
   "metadata": {},
   "outputs": [
    {
     "name": "stdout",
     "output_type": "stream",
     "text": [
      "La solucion de este problem solo funciona hasta el cuarto elemento ya que al ir creciendo se hace más compleja las operaciones y el programa no corre\n"
     ]
    }
   ],
   "source": [
    "\"\"\"# Definimos la funcion\n",
    "def numeros_perfectos(n):\n",
    "    lista = []\n",
    "    l = 0\n",
    "    \n",
    "    while(l < n):\n",
    "        for i in range(1, 1000000):\n",
    "            sumatorio = 0\n",
    "            for j in range(1, i):\n",
    "                if i % j == 0:\n",
    "                    sumatorio += j\n",
    "                    if sumatorio == i:\n",
    "                        lista.append(sumatorio)\n",
    "                        l += 1\n",
    "    return lista\n",
    "\n",
    "# Pedimos datos del teclado\n",
    "num = int(input(\"Dame un número:\\n\"))\n",
    "\n",
    "# Mostramos resultados\n",
    "print(numeros_perfectos(num))\"\"\"\n",
    "print(\"La solucion de este problem solo funciona hasta el cuarto elemento ya que al ir creciendo se hace más compleja las operaciones y el programa no corre\")"
   ]
  },
  {
   "cell_type": "markdown",
   "metadata": {},
   "source": [
    "### Ejemplo \n",
    "\n",
    "Sumatoria de una lista\n"
   ]
  },
  {
   "cell_type": "code",
   "execution_count": 12,
   "metadata": {},
   "outputs": [
    {
     "name": "stdout",
     "output_type": "stream",
     "text": [
      "10\n"
     ]
    }
   ],
   "source": [
    "def sumatorio(lista):\n",
    "    suma = 0\n",
    "    for numero in lista:\n",
    "        suma += numero\n",
    "    return suma\n",
    "\n",
    "print(sumatorio([1, 4, 5]))"
   ]
  },
  {
   "cell_type": "markdown",
   "metadata": {},
   "source": [
    "## Ejercicio 267\n",
    "\n",
    "Diseña una funcion que calcule el sumatorio de la diferencia entre numeros contiguos en una lista. Por ejemplo, para la lista [1, 3, 6, 10] que devolvera 9, que es 2 + 3 + 4 (el 2 resulta de calcular 3-1, el 3 de calcular 6-3 y el 4 de calcular 10 - 6)"
   ]
  },
  {
   "cell_type": "code",
   "execution_count": 22,
   "metadata": {},
   "outputs": [
    {
     "name": "stdout",
     "output_type": "stream",
     "text": [
      "9\n"
     ]
    }
   ],
   "source": [
    "# Definimos la funcion\n",
    "def suma_contiguo(lista):\n",
    "    temp = 0\n",
    "    for i in range(1, len(lista)):\n",
    "        temp = lista[i] - lista[i-1] + temp\n",
    "    return temp\n",
    "\n",
    "a = [1, 3, 6, 10]\n",
    "print(suma_contiguo(a))"
   ]
  },
  {
   "cell_type": "markdown",
   "metadata": {},
   "source": [
    "## Ejemplo\n",
    "\n",
    "Buscar el elemento mas grande de una lista"
   ]
  },
  {
   "cell_type": "code",
   "execution_count": 23,
   "metadata": {},
   "outputs": [
    {
     "name": "stdout",
     "output_type": "stream",
     "text": [
      "200\n"
     ]
    }
   ],
   "source": [
    "# definimos la funcion\n",
    "def maximo(lista):\n",
    "    candidato = lista[0]\n",
    "    for elemento in lista:\n",
    "        if elemento > candidato:\n",
    "            candidato = elemento\n",
    "    return candidato\n",
    "\n",
    "print(maximo([15, 10, 25, 200, 10, 15]))"
   ]
  },
  {
   "cell_type": "markdown",
   "metadata": {},
   "source": [
    "## Ejercicio 268\n",
    "\n",
    "Haz una traza de la llamada maxima([6, 2, 7, 1, 10, 1, 0])"
   ]
  },
  {
   "cell_type": "code",
   "execution_count": 26,
   "metadata": {},
   "outputs": [
    {
     "name": "stdout",
     "output_type": "stream",
     "text": [
      "10\n"
     ]
    }
   ],
   "source": [
    "# Definimos la lista\n",
    "def maximo(lista):\n",
    "    if len(lista) > 0:\n",
    "        candidato = lista[0]\n",
    "        for elemento in lista:\n",
    "            if elemento > candidato:\n",
    "                candidato = elemento\n",
    "    else:\n",
    "        candidato = None\n",
    "    return candidato\n",
    "\n",
    "print(maximo([6, 2, 7, 1, 10, 1 , 0]))"
   ]
  },
  {
   "cell_type": "markdown",
   "metadata": {},
   "source": [
    "## Ejercicio 269\n",
    "\n",
    "Diseña una funcion que, dada una lista de numeros enteros, devuelva el numero de \\<series\\> que hay en ella. Llamamos \\<serie\\> a todo tramo de lista con valores identicos.\n",
    "\n",
    "Por ejemplo, la lista [1, 1, 8, 8, 8, 8, 0, 0 , 0, 2, 10, 10] tiene 5 \\<series\\> (ten en cuenta que el 2 forma parte de una \\<serie\\> de un solo elemento)"
   ]
  },
  {
   "cell_type": "code",
   "execution_count": 32,
   "metadata": {},
   "outputs": [
    {
     "name": "stdout",
     "output_type": "stream",
     "text": [
      "5\n"
     ]
    }
   ],
   "source": [
    "# Definicion de la funcion\n",
    "def buscar_serie(lista):\n",
    "    cambio = 0\n",
    "    if len(lista) > 0:\n",
    "        par = lista[0]\n",
    "        for i in lista:\n",
    "            if par != lista[i]:\n",
    "                cambio += 1\n",
    "                par = lista[i]\n",
    "    return cambio + 1\n",
    "\n",
    "print(buscar_serie([1, 1, 8, 8, 8, 8, 0, 0, 0, 2, 10, 10]))\n",
    "                "
   ]
  },
  {
   "cell_type": "markdown",
   "metadata": {},
   "source": [
    "### Ejercicio 270 \n",
    "\n",
    "Diseña una funcion que diga en que posicion empieza la serie mas larga de una lista. En el ejemplo del ejercicio antrior, la serie mas larga empieza en la posicion 2 (que es el indice donde aparece el primer 8). (Nota: si hay dos series de igual longitud y esta es la mayor, debes devolver la posicion de lap rimera de las series, Por ejemplo para )"
   ]
  },
  {
   "cell_type": "code",
   "execution_count": 4,
   "metadata": {},
   "outputs": [
    {
     "ename": "TypeError",
     "evalue": "'int' object is not subscriptable",
     "output_type": "error",
     "traceback": [
      "\u001b[1;31m---------------------------------------------------------------------------\u001b[0m",
      "\u001b[1;31mTypeError\u001b[0m                                 Traceback (most recent call last)",
      "\u001b[1;32md:\\rod_e\\Documents\\VSCode\\Python\\funciones.ipynb Cell 35'\u001b[0m in \u001b[0;36m<cell line: 19>\u001b[1;34m()\u001b[0m\n\u001b[0;32m     <a href='vscode-notebook-cell:/d%3A/rod_e/Documents/VSCode/Python/funciones.ipynb#ch0000034?line=15'>16</a>\u001b[0m     \u001b[39mreturn\u001b[39;00m inicio, final\n\u001b[0;32m     <a href='vscode-notebook-cell:/d%3A/rod_e/Documents/VSCode/Python/funciones.ipynb#ch0000034?line=17'>18</a>\u001b[0m \u001b[39m# Mandamos llamar la funcion\u001b[39;00m\n\u001b[1;32m---> <a href='vscode-notebook-cell:/d%3A/rod_e/Documents/VSCode/Python/funciones.ipynb#ch0000034?line=18'>19</a>\u001b[0m \u001b[39mprint\u001b[39m(conteo_mas_larga([\u001b[39m2\u001b[39;49m, \u001b[39m2\u001b[39;49m, \u001b[39m2\u001b[39;49m, \u001b[39m2\u001b[39;49m, \u001b[39m2\u001b[39;49m, \u001b[39m1\u001b[39;49m, \u001b[39m1\u001b[39;49m, \u001b[39m1\u001b[39;49m, \u001b[39m9\u001b[39;49m, \u001b[39m8\u001b[39;49m]))\n",
      "\u001b[1;32md:\\rod_e\\Documents\\VSCode\\Python\\funciones.ipynb Cell 35'\u001b[0m in \u001b[0;36mconteo_mas_larga\u001b[1;34m(lista)\u001b[0m\n\u001b[0;32m      <a href='vscode-notebook-cell:/d%3A/rod_e/Documents/VSCode/Python/funciones.ipynb#ch0000034?line=5'>6</a>\u001b[0m final \u001b[39m=\u001b[39m \u001b[39m0\u001b[39m\n\u001b[0;32m      <a href='vscode-notebook-cell:/d%3A/rod_e/Documents/VSCode/Python/funciones.ipynb#ch0000034?line=6'>7</a>\u001b[0m \u001b[39mfor\u001b[39;00m elemento \u001b[39min\u001b[39;00m \u001b[39mrange\u001b[39m(\u001b[39m1\u001b[39m, \u001b[39mlen\u001b[39m(lista)):\n\u001b[1;32m----> <a href='vscode-notebook-cell:/d%3A/rod_e/Documents/VSCode/Python/funciones.ipynb#ch0000034?line=7'>8</a>\u001b[0m     \u001b[39mif\u001b[39;00m lista[elemento\u001b[39m-\u001b[39m\u001b[39m1\u001b[39m] \u001b[39m==\u001b[39m elemento[elemento]:\n\u001b[0;32m      <a href='vscode-notebook-cell:/d%3A/rod_e/Documents/VSCode/Python/funciones.ipynb#ch0000034?line=8'>9</a>\u001b[0m         inicio \u001b[39m=\u001b[39m elemento \u001b[39m-\u001b[39m \u001b[39m1\u001b[39m\n\u001b[0;32m     <a href='vscode-notebook-cell:/d%3A/rod_e/Documents/VSCode/Python/funciones.ipynb#ch0000034?line=9'>10</a>\u001b[0m         conteo \u001b[39m+\u001b[39m\u001b[39m=\u001b[39m \u001b[39m1\u001b[39m\n",
      "\u001b[1;31mTypeError\u001b[0m: 'int' object is not subscriptable"
     ]
    }
   ],
   "source": [
    "# Definimos la funcion\n",
    "def conteo_mas_larga(lista):\n",
    "    if len(lista) > 0:\n",
    "        conteo = 0\n",
    "        inicio = 0\n",
    "        final = 0\n",
    "        for elemento in range(1, len(lista)):\n",
    "            if lista[elemento-1] == elemento[elemento]:\n",
    "                inicio = elemento - 1\n",
    "                conteo += 1\n",
    "            else:\n",
    "                final = elemento\n",
    "    else:\n",
    "        print(\"La lsita esta vacia\")\n",
    "            \n",
    "    return inicio, final\n",
    "\n",
    "# Mandamos llamar la funcion\n",
    "print(conteo_mas_larga([2, 2, 2, 2, 2, 1, 1, 1, 9, 8]))\n",
    "                \n",
    "        "
   ]
  },
  {
   "cell_type": "markdown",
   "metadata": {},
   "source": [
    "## Ejercicio 271\n",
    "\n",
    "Haz una funcion que reciva una lista de númros y devuelva la media de dichos numeros. Ten cuidado con la lista vacía (su media es cero)."
   ]
  },
  {
   "cell_type": "code",
   "execution_count": 1,
   "metadata": {},
   "outputs": [
    {
     "name": "stdout",
     "output_type": "stream",
     "text": [
      "2919.1428571428573\n"
     ]
    }
   ],
   "source": [
    "# Definimos la funcion\n",
    "def calcula_media(lista):\n",
    "    x = len(lista)\n",
    "    if x == 0:\n",
    "        return 0\n",
    "    else:\n",
    "        suma = 0\n",
    "        for i in range(0, x):\n",
    "            suma = lista[i] + suma\n",
    "        return suma / x\n",
    "    \n",
    "# Mandamos llamar la funcion \n",
    "print(calcula_media([2, 10, 12, 15, 63, 333, 19999]))"
   ]
  },
  {
   "cell_type": "markdown",
   "metadata": {},
   "source": [
    "## Ejercicio 272\n",
    "\n",
    "Diseña una función que calcule el productorio de todos los numeros que componen una lista."
   ]
  },
  {
   "cell_type": "code",
   "execution_count": 5,
   "metadata": {},
   "outputs": [
    {
     "name": "stdout",
     "output_type": "stream",
     "text": [
      "20\n"
     ]
    }
   ],
   "source": [
    "# Definimos la funcion\n",
    "def calcula_productorio(lista):\n",
    "    x = len(lista)\n",
    "    if x > 0:\n",
    "        producto = lista[0]\n",
    "        for i in range(1, x):\n",
    "            producto = producto * lista[i]\n",
    "        return producto\n",
    "    else:\n",
    "        return \"La longitud de la lista no es valida\"\n",
    "    \n",
    "# Mandamos llamar la funcion\n",
    "print(calcula_productorio([1,2,10]))"
   ]
  },
  {
   "cell_type": "markdown",
   "metadata": {},
   "source": [
    "## Ejercicio 273\n",
    "\n",
    "Diseña una funcion que devuleva el valor absoluto de la maxima diferencia entre dos elementos consecutivos de una lista. Por ejemplo, el valor devuelto para la lista [1, 10, 2, 6, 2, 0] es 9, pues es la diferencia entre el valor 1 y el valor 10."
   ]
  },
  {
   "cell_type": "code",
   "execution_count": 6,
   "metadata": {},
   "outputs": [
    {
     "name": "stdout",
     "output_type": "stream",
     "text": [
      "9\n"
     ]
    }
   ],
   "source": [
    "# Definimos la funcion\n",
    "def maxima_diferencia(lista):\n",
    "    x = len(lista)\n",
    "    if x > 0:\n",
    "        aux = 0\n",
    "        diferencia = 0\n",
    "        for i in range(1, x):\n",
    "            aux = abs(lista[i - 1] - lista [i])\n",
    "            if (aux > diferencia):\n",
    "                diferencia = aux      \n",
    "        return diferencia\n",
    "      \n",
    "    else:\n",
    "        return \"La lista no es valida\"\n",
    "    \n",
    "# Mandamos llamar la funcion\n",
    "print(maxima_diferencia([1, 10, 2, 6, 2, 0]))"
   ]
  },
  {
   "cell_type": "markdown",
   "metadata": {},
   "source": [
    "## Ejercicio 274\n",
    "\n",
    "Diseña una función que devuelva el valor absoluto de la máxima diferencia entre cualquier par de elementos de una lista. Por ejemplo, el valor devuelto para la lista [1, 10, 2, 6, 8, 2, 0] es 10 pues es la diferencia entre el valor 10 y 0. (Pista: te puede ocnvenir conocer el valor máximo y el valor mínimo de la lista)."
   ]
  },
  {
   "cell_type": "code",
   "execution_count": 7,
   "metadata": {},
   "outputs": [
    {
     "name": "stdout",
     "output_type": "stream",
     "text": [
      "10\n"
     ]
    }
   ],
   "source": [
    "# Definimos la funcion\n",
    "def maxima_diferencia_de_una_lista(lista):\n",
    "    x = len(lista)\n",
    "    if x > 0:\n",
    "        return abs(max(lista)- min(lista))\n",
    "    else:\n",
    "        return \"La lista no es valida\"\n",
    "\n",
    "# Mandamos llamar la funcion\n",
    "print(maxima_diferencia_de_una_lista([1, 10, 2, 6, 8, 2, 0]))"
   ]
  },
  {
   "cell_type": "markdown",
   "metadata": {},
   "source": [
    "## Ejercicio 275\n",
    "\n",
    "Define una función que, dada una cadena x, devuelva otra cuyo contenido sea el resultado de concatenar 6 veces x consigo misma."
   ]
  },
  {
   "cell_type": "code",
   "execution_count": 8,
   "metadata": {},
   "outputs": [
    {
     "name": "stdout",
     "output_type": "stream",
     "text": [
      "El mejor del mundo El mejor del mundo El mejor del mundo El mejor del mundo El mejor del mundo El mejor del mundo \n"
     ]
    }
   ],
   "source": [
    "# Definimos la funcion\n",
    "def multiplica_cadena(cadena):\n",
    "    return (cadena * 6)\n",
    "\n",
    "# Pedimos la cadena desde teclado\n",
    "introucida = input(\"Ingresa una cadena:\\n\")\n",
    "print(multiplica_cadena(introucida))"
   ]
  },
  {
   "cell_type": "markdown",
   "metadata": {},
   "source": [
    "## Ejercicio 276\n",
    "\n",
    "Diseña una función que, dada una lista de cadenas, devuelva la cadena más larga. Si dos o más cadenas miden lo mismo y son las más largas, la funciòn devolverá una cualquiera de ellas.\n",
    "\n",
    "(Ejemplo: dada la lista[\"Pepe\", \"Juan\", \"Maria\", \"Ana\"]. La función devolverá la cadena \"Maria\")"
   ]
  },
  {
   "cell_type": "code",
   "execution_count": 14,
   "metadata": {},
   "outputs": [
    {
     "name": "stdout",
     "output_type": "stream",
     "text": [
      "Pepe\n"
     ]
    }
   ],
   "source": [
    "# Definimos la funcion\n",
    "def calculo_cadena_mas_larga(lista):\n",
    "    x = len(lista)\n",
    "    if x > 0:\n",
    "        aux = 0\n",
    "        maximo = 0\n",
    "        for i in range(0, x):\n",
    "            if len(lista[i]) > aux:\n",
    "                maximo = lista[i]\n",
    "                aux = len(lista[i])\n",
    "            return maximo           \n",
    "    else:\n",
    "        return \"La lista ingresada no es valida\"\n",
    "\n",
    "\n",
    "print(calculo_cadena_mas_larga([\"Pepe\", \"Juan\", \"Maria\", \"Ana\"]))\n"
   ]
  },
  {
   "cell_type": "markdown",
   "metadata": {},
   "source": [
    "### Problema 279\n",
    "\n",
    "Define una función que, dado el valor de los tres lados de un triángulo, debuelba la longitud de su perimetro"
   ]
  },
  {
   "cell_type": "code",
   "execution_count": 2,
   "metadata": {},
   "outputs": [
    {
     "name": "stdout",
     "output_type": "stream",
     "text": [
      "El perimetro del triangulo es 30.0\n"
     ]
    }
   ],
   "source": [
    "# Definimos la funcion\n",
    "def calcula_perimetro_funcion(lado1, lado2, lado3):\n",
    "    return lado1 + lado2 + lado3\n",
    "\n",
    "# Mandamos pedir datos de teclado\n",
    "lado1 = float(input(\"Ingresa el lado 1 del triangulo:\\n\"))\n",
    "lado2 = float(input(\"Ingresa el lado 2 del triangulo:\\n\"))\n",
    "lado3 = float(input(\"Ingresa el lado 3 del triangulo:\\n\"))\n",
    "\n",
    "# Mostramos resultado de la funcion\n",
    "print(\"El perimetro del triangulo es {0}\".format(calcula_perimetro_funcion(lado1, lado2, lado3)))"
   ]
  },
  {
   "cell_type": "markdown",
   "metadata": {},
   "source": [
    "## Problema 280\n",
    "\n",
    "Define una función que, dados dos parámetros b y x, devuelva el valor de log<sub>b</sub>(x), es decir, el logaritomo en base b de x"
   ]
  },
  {
   "cell_type": "code",
   "execution_count": 6,
   "metadata": {},
   "outputs": [
    {
     "name": "stdout",
     "output_type": "stream",
     "text": [
      "El resultado de logaritmo en base 20 con argumento 20, el resultado es: 1.0\n"
     ]
    }
   ],
   "source": [
    "# Importamos la libreria\n",
    "from math import log\n",
    "\n",
    "# Definimos la funcion\n",
    "def calcula_log (base, argumento):\n",
    "    return log(argumento, base)\n",
    "\n",
    "# Pedimos los datos de teclado\n",
    "b = int(input(\"Dame la base:\\n\"))\n",
    "arg = int(input(\"Dame el argumento:\\n\"))\n",
    "\n",
    "# Mostramos el resultado en pantalla\n",
    "print(\"El resultado de logaritmo en base {0} con argumento {1}, el resultado es: {2}\".format(b, arg, calcula_log(base=b, argumento=arg)))"
   ]
  },
  {
   "cell_type": "markdown",
   "metadata": {},
   "source": [
    "## Ejercio 281\n",
    "\n",
    "Diseña una función que devuelva la solución de la ecuación lineal ax\n",
    "+b=0 dados a y b. Si la ecuacion tiene infinitas soluciones o no tiene solución alguna, la función lo detectará y devolverá el valor *None*"
   ]
  },
  {
   "cell_type": "code",
   "execution_count": 2,
   "metadata": {},
   "outputs": [
    {
     "name": "stdout",
     "output_type": "stream",
     "text": [
      "El resultado de ax+b=0 es: -0.5\n"
     ]
    }
   ],
   "source": [
    "# Importamos las librerias para trabajar \n",
    "from math import sqrt\n",
    "\n",
    "# Definimos la funcion\n",
    "def resuleve_ecuacion(a, b):\n",
    "    if a != 0:\n",
    "        x = -b / a\n",
    "        if (a * x) + b == 0:\n",
    "            return x\n",
    "        else:\n",
    "            return None\n",
    "    else:\n",
    "        return None\n",
    "\n",
    "# Pedimos datos desde teclado\n",
    "a = float(input(\"Dame el valor de a:\\n\"))\n",
    "b = float(input(\"Dame el valor de b:\\n\"))\n",
    "print(\"El resultado de ax+b=0 es:\", resuleve_ecuacion(a, b))"
   ]
  },
  {
   "cell_type": "markdown",
   "metadata": {},
   "source": [
    "## Ejercicio 282\n",
    "\n",
    "Diseña una función que calculo sumatoria de i = a hasta b dados a y b. Si a es mayor que b, la función devolverá el valor 0."
   ]
  },
  {
   "cell_type": "code",
   "execution_count": 6,
   "metadata": {},
   "outputs": [
    {
     "name": "stdout",
     "output_type": "stream",
     "text": [
      "45\n"
     ]
    }
   ],
   "source": [
    "# Definimos la funcion\n",
    "def calcula_sumatoria(a, b):\n",
    "    if a > b:\n",
    "        return 0\n",
    "    else:\n",
    "        suma = 0\n",
    "        for i in range(a, b):\n",
    "            suma += i\n",
    "        return suma\n",
    "\n",
    "# Pedimos datos desde el teclado\n",
    "a = int(input(\"Dame el inicio:\\n\"))\n",
    "b = int(input(\"Dame el final:\\n\"))\n",
    "print(calcula_sumatoria(a,b))"
   ]
  },
  {
   "cell_type": "markdown",
   "metadata": {},
   "source": [
    "## Ejercicio 284\n",
    "\n",
    "Define una función llamada raíz_n_enesima que devuelva el valor de <sup>n</sup>$\\sqrt{x}$. (Nota: recuerda que <sup>n</sup>$\\sqrt{x}$ es x<sup>1/n</sup>)"
   ]
  },
  {
   "cell_type": "code",
   "execution_count": 9,
   "metadata": {},
   "outputs": [
    {
     "name": "stdout",
     "output_type": "stream",
     "text": [
      "La raiz 3.0, del numero 15.0, es: 5.0\n"
     ]
    }
   ],
   "source": [
    "# Definimos la funcion\n",
    "def raiz_n_esima(n, num):\n",
    "    if num > 0:\n",
    "        return num ** 1/n\n",
    "    else:\n",
    "        return None\n",
    "\n",
    "# Pedimos datos desde el teclado\n",
    "numero = float(input(\"Ingrese el numero que quiere calcular su raiz:\\n\"))\n",
    "enesima = float(input(\"Ingresa el termino de grado de raiz:\\n\"))\n",
    "\n",
    "# Mostramos resultados \n",
    "print(\"La raiz {0}, del numero {1}, es: {2}\".format(enesima, numero, raiz_n_esima(n=enesima, num=numero)))"
   ]
  },
  {
   "cell_type": "markdown",
   "metadata": {},
   "source": [
    "## Ejercicio 286\n",
    "\n",
    "Diseña una función que diga (mediante la devolución de *True* o *False*) si dos números son amigos. Dos números son amigos si la suma de los divisores del primero (excluido él) es igual al segundo y viceversa."
   ]
  },
  {
   "cell_type": "code",
   "execution_count": 10,
   "metadata": {},
   "outputs": [
    {
     "name": "stdout",
     "output_type": "stream",
     "text": [
      "¿10 y 12 son amigos?\n",
      "False\n"
     ]
    }
   ],
   "source": [
    "# Definimos la funcion\n",
    "def numeros_amigos(num1, num2):\n",
    "    \"\"\"\n",
    "    Funcion que comprueba si dos numeros son amigos\n",
    "    \"\"\"\n",
    "    x = 1\n",
    "    suma = 0\n",
    "    while(x < a):\n",
    "        if a % x == 0:\n",
    "            suma += x\n",
    "        x += 1\n",
    "    if suma == b:\n",
    "        return True\n",
    "    else:\n",
    "        return False\n",
    "\n",
    "# Pedimos datos desde el teclado\n",
    "a = int(input(\"Dame el valor de a:\\n\"))\n",
    "b = int(input(\"Dame el valor de b:\\n\"))\n",
    "\n",
    "# Mostramos resultados\n",
    "print(\"¿{0} y {1} son amigos?\\n{2}\".format(a, b, numeros_amigos(a, b)))"
   ]
  },
  {
   "cell_type": "markdown",
   "metadata": {},
   "source": [
    "## Ejercicio 289\n",
    "\n",
    "Diseña una función sin argumetnos que devuelva un número aleatorio mayor o igual que 0.0 y menor que 10.0. Puedes llamar ala funcion random desde tu función"
   ]
  },
  {
   "cell_type": "code",
   "execution_count": 13,
   "metadata": {},
   "outputs": [
    {
     "name": "stdout",
     "output_type": "stream",
     "text": [
      "4\n"
     ]
    }
   ],
   "source": [
    "# Importamos librerias necesarias\n",
    "import random\n",
    "\n",
    "# Definimos la funcion\n",
    "def numero_aleatorio():\n",
    "    return random.randrange(0, 10)\n",
    "\n",
    "# Mandamos llamar la funcion\n",
    "print(numero_aleatorio())"
   ]
  },
  {
   "cell_type": "markdown",
   "metadata": {},
   "source": [
    "## Ejercicio 290\n",
    "\n",
    "Diseña una función sin argumentos que devuelva un número aleatorio mayor o igual que -10.0 y menor que 10.0"
   ]
  },
  {
   "cell_type": "code",
   "execution_count": 18,
   "metadata": {},
   "outputs": [
    {
     "name": "stdout",
     "output_type": "stream",
     "text": [
      "-2\n"
     ]
    }
   ],
   "source": [
    "# Importamos librerias\n",
    "import random\n",
    "\n",
    "# Definimos la funcion\n",
    "def num_aleatorio():\n",
    "    return random.randrange(-10, 10)\n",
    "\n",
    "# Mandamos llamar la funcion\n",
    "print(num_aleatorio())"
   ]
  },
  {
   "cell_type": "markdown",
   "metadata": {},
   "source": [
    "## Ejercicio 291\n",
    "\n",
    "Para diseñar un juego de tablero nos vendrá bien disponer de un *dado electrónico*. Escribe una funcion python sin argumentos llamada dado que devuelva un número entero aleatorio entre 1 y 6"
   ]
  },
  {
   "cell_type": "code",
   "execution_count": 26,
   "metadata": {},
   "outputs": [
    {
     "name": "stdout",
     "output_type": "stream",
     "text": [
      "2\n"
     ]
    }
   ],
   "source": [
    "# Importamos las librerias \n",
    "from random import randrange\n",
    "\n",
    "# Definimos la funcion\n",
    "def cubo():\n",
    "    return randrange(1, 6)\n",
    "\n",
    "# Mandamos llamar la funcion\n",
    "print(cubo())"
   ]
  },
  {
   "cell_type": "markdown",
   "metadata": {},
   "source": [
    "## Ejemplo \n",
    "\n",
    "Area y angulo de un triangulo"
   ]
  },
  {
   "cell_type": "code",
   "execution_count": 29,
   "metadata": {},
   "outputs": [
    {
     "name": "stdout",
     "output_type": "stream",
     "text": [
      "1 ) Calcular area del triangulo\n",
      "2) Calcular angulo opuesto al primer lado\n",
      "Escogiste la opcion 2\n",
      "El resultado es: 90.0\n"
     ]
    }
   ],
   "source": [
    "# Importamos librerias\n",
    "from math import sqrt, asin, pi\n",
    "\n",
    "# Definimos funciones\n",
    "def area_triangulo(a, b, c):\n",
    "    s = (a + b + c) / 2\n",
    "    return sqrt(s * (s-a) * (s-b) * (s -c))\n",
    "\n",
    "def angulo_alfa(a, b, c):\n",
    "    s = area_triangulo(a, b, c)\n",
    "    return 180 / pi * asin(2 * s / (b*c))\n",
    "\n",
    "def menu():\n",
    "    opcion = 0\n",
    "    while opcion != 1 and opcion !=2:\n",
    "        print(\"1 ) Calcular area del triangulo\")\n",
    "        print(\"2) Calcular angulo opuesto al primer lado\")\n",
    "        opcion = int(input(\"Escoge opcion:\"))\n",
    "    return opcion\n",
    "\n",
    "# Pedimos datos desde el teclado\n",
    "lado1 = float(input(\"Dame lado a:\\n\"))\n",
    "lado2 = float(input(\"Dame lado b:\\n\"))\n",
    "lado3 = float(input(\"Dame lado c:\\n\"))\n",
    "\n",
    "# Mandamos llamar al menu\n",
    "s = menu()\n",
    "\n",
    "# Evaluamos el valor de s\n",
    "if s == 1:\n",
    "    resultado = area_triangulo(lado1, lado2, lado3)\n",
    "else:\n",
    "    resultado = angulo_alfa(lado1, lado2, lado3)\n",
    "\n",
    "# Mostramos resultados\n",
    "print(\"Escogiste la opcion\", s)\n",
    "print(\"El resultado es:\", resultado)"
   ]
  },
  {
   "cell_type": "markdown",
   "metadata": {},
   "source": [
    "## Ejemplo cajero\n"
   ]
  },
  {
   "cell_type": "code",
   "execution_count": 3,
   "metadata": {},
   "outputs": [
    {
     "name": "stdout",
     "output_type": "stream",
     "text": [
      "Billetes de 50 euros> 3\n",
      "Billetes de 20 euros: 1\n",
      "Billetes de 20 euros: 1\n",
      "Billetes de 50 euros> 16\n",
      "Billetes de 50 euros> 16\n",
      "Lamentamos no poder atender su peticion\n",
      "Billetes de 50 euros> 11\n",
      "Billetes de 20 euros: 1\n",
      "Billetes de 50 euros> 4\n",
      "Billetes de 50 euros> 5\n",
      "Billetes de 10 euros: 1\n",
      "Billetes de 50 euros> 6\n",
      "Billetes de 20 euros: 1\n",
      "Billetes de 50 euros> 6\n",
      "Billetes de 10 euros: 1\n",
      "Billetes de 50 euros> 3\n",
      "Billetes de 50 euros> 2\n",
      "Billetes de 10 euros: 1\n",
      "Billetes de 50 euros> 2\n",
      "Billetes de 50 euros> 2\n",
      "Billetes de 10 euros: 1\n",
      "Billetes de 50 euros> 16\n",
      "Billetes de 50 euros> 8\n",
      "Billetes de 20 euros: 20\n",
      "Billetes de 20 euros: 40\n",
      "Billetes de 20 euros: 36\n",
      "Billetes de 10 euros: 8\n",
      "Billetes de 10 euros: 56\n",
      "Lamentamos no poder atender su peticion\n",
      "Lamentamos no poder atender su peticion\n",
      "Lamentamos no poder atender su peticion\n",
      "Lamentamos no poder atender su peticion\n",
      "Lamentamos no poder atender su peticion\n",
      "Billetes de 10 euros: 1\n",
      "Billetes de 10 euros: 1\n",
      "Billetes de 10 euros: 1\n",
      "Billetes de 10 euros: 2\n",
      "Billetes de 10 euros: 3\n",
      "Billetes de 10 euros: 4\n",
      "Billetes de 10 euros: 5\n",
      "Lamentamos no poder atender su peticion\n",
      "Billetes de 10 euros: 10\n",
      "Lamentamos no poder atender su peticion\n",
      "Billetes de 10 euros: 1\n",
      "Billetes de 10 euros: 1\n",
      "Billetes de 10 euros: 2\n",
      "Lamentamos no poder atender su peticion\n",
      "Lamentamos no poder atender su peticion\n",
      "Lamentamos no poder atender su peticion\n",
      "Lamentamos no poder atender su peticion\n",
      "Lamentamos no poder atender su peticion\n",
      "Billetes de 10 euros: 1\n",
      "Cajero sin dinero. Avise a mantenimiento\n"
     ]
    }
   ],
   "source": [
    "# Definimos variables locales\n",
    "carga50 = 100\n",
    "carga20 = 100\n",
    "carga10 = 100\n",
    "\n",
    "# definimos la funcion \n",
    "def sacar_dinero(cantidad):\n",
    "    global carga50, carga20, carga10\n",
    "    \n",
    "    if cantidad <= 50 * carga50 + 20 * carga20 + 10 * carga10:\n",
    "        de50 = cantidad // 50\n",
    "        cantidad = cantidad % 50\n",
    "        if de50 >= carga50: # Si no hay sufcicientes billetes de 50\n",
    "            cantidad = cantidad + (de50 - carga50) * 50\n",
    "            de50 = carga50\n",
    "        \n",
    "        de20 = cantidad // 20\n",
    "        cantidad = cantidad % 20\n",
    "        if de20 >= carga20: # y no hay suficientes billetes de 20\n",
    "            cantidad = cantidad + (de20 - carga20) * 20\n",
    "            de20 = carga20\n",
    "        \n",
    "        de10 = cantidad // 10\n",
    "        cantidad = cantidad % 10\n",
    "        if de10 >= carga10: # y no hay suficientes billetes de 10\n",
    "            cantidad = cantidad + (de10 - carga10) * 10\n",
    "            de10 = carga10\n",
    "        \n",
    "        # Si todo ha ido bien, la cantidad que resta por entregar es nula\n",
    "        if cantidad == 0:\n",
    "            # Asi que hacemos efectiva la extraccion\n",
    "            carga50 = carga50 - de50\n",
    "            carga20 = carga20 - de20\n",
    "            carga10 = carga10 - de10\n",
    "            return [de50, de20, de10]\n",
    "        else:\n",
    "            return [0, 0, 0]\n",
    "    else:\n",
    "        return [0, 0, 0]\n",
    "    \n",
    "# Programa principal\n",
    "while 50*carga50 + 20*carga20 + 10*carga10 > 0:\n",
    "    peticion = int(input('Cantidad que desea sacar:\\n'))\n",
    "    [de50, de20, de10] = sacar_dinero(peticion)\n",
    "    if [de50, de20, de10] != [0, 0, 0]:\n",
    "        if de50 > 0:\n",
    "            print('Billetes de 50 euros:', de50)\n",
    "        if de20 > 0:\n",
    "            print('Billetes de 20 euros:', de20)\n",
    "        if de10 > 0:\n",
    "            print('Billetes de 10 euros:', de10)\n",
    "    else:\n",
    "        print('Lamentamos no poder atender su peticion')\n",
    "\n",
    "print('Cajero sin dinero. Avise a mantenimiento')\n",
    "        "
   ]
  },
  {
   "cell_type": "markdown",
   "metadata": {},
   "source": [
    "## Ejemplo Memorion\n",
    "\n",
    "Ya es hora de hacer algo interesante con todo lo que hemos aprendido. Vamos a construir un\n",
    "sencillo juego solitario, Memorión, con el que aprenderemos, entre otras cosas, a manejar el ratón.\n",
    "Memorión se juega sobre un tablero de 4 filas y 6 columnas. Cada celda del tablero contiene\n",
    "un símbolo (una letra), pero no es visible porque está tapado por una baldosa. De cada símbolo\n",
    "hay dos ejemplares (dos «a»», dos «b», etc.) y hemos de emparejarlos. Una jugada consiste en\n",
    "levantar dos baldosas para ver las letras que hay bajo ellas. Primero se levanta una pulsando\n",
    "en la baldosa, con lo que se destapa el símbolo que oculta, y después se destapa la otra y se\n",
    "muestra brevemente su símbolo oculto correspondiente. Si las letras descubiertas son iguales,\n",
    "hemos conseguido un emparejamiento y las baldosas se retiran del tablero, dejando las letras\n",
    "definitivamente al descubierto. Si, por el contrario, las letras son diferentes, se tapan de nuevo.\n",
    "Encontrar sus respectivas parejas dependerá entonces de la memoria del jugador. El objetivo es\n",
    "emparejar todas las letras en el menor número de jugadas."
   ]
  },
  {
   "cell_type": "code",
   "execution_count": 1,
   "metadata": {},
   "outputs": [],
   "source": [
    "# Importamos librerias\n",
    "from random import randrange\n",
    "from turtle import Screen, Turtle\n",
    "from time import sleep\n",
    "\n",
    "# Declaracion de variables globales\n",
    "CeldaCerrada = 0\n",
    "CeldaAbierta = 1\n",
    "CeldaTemporalmenteAbierta = 2\n",
    "\n",
    "# Declaracion de funciones\n",
    "def crea_matriz(filas, columnas):\n",
    "    matriz = []\n",
    "    for i in range(filas):\n",
    "        matriz.append([None] * columnas)\n",
    "    return matriz\n",
    "\n",
    "def rellena_simbolos(simbolo):\n",
    "    numsimbolo = 0\n",
    "    for i in range(len(simbolo)):\n",
    "        for j in range(len(simbolo[0])):\n",
    "            simbolo[i][j] = chr(ord('a') + numsimbolo // 2)\n",
    "            numsimbolo += 1\n",
    "            \n",
    "    for i in range(1000):\n",
    "        [f1, c1] = [randrange(len(simbolo)), randrange(len(simbolo[0]))]\n",
    "        [f2, c2] = [randrange(len(simbolo)), randrange(len(simbolo[0]))]\n",
    "        tmp = simbolo[f1][c1]\n",
    "        simbolo[f1][c1] = simbolo[f2][c2]\n",
    "        simbolo[f2][c2] = tmp\n",
    "        \n",
    "def inicializa_tablero(tablero):\n",
    "    for i in range(len(tablero)):\n",
    "        for j in range(len(tablero[0])):\n",
    "            tablero[i][j] = CeldaCerrada\n",
    "            \n",
    "def dibuja_tablero(tablero, simbolo):\n",
    "    for i in range(len(simbolo)):\n",
    "        for j in range(len(simbolo[0])):\n",
    "            dibuja_celda(tablero, simbolo, i, j)\n",
    "\n",
    "def dibuja_celda(baldosa, simbolo, i, j):\n",
    "    global tortuga\n",
    "    tortuga.penup()\n",
    "    tortuga.goto(j+5, i)\n",
    "    tortuga.begin_fill()\n",
    "    if baldosa[i][j] == CeldaCerrada:\n",
    "        tortuga.fillcolor('blue')\n",
    "        tortuga.circle(5)\n",
    "    elif baldosa[i][j] == CeldaAbierta:\n",
    "        tortuga.fillcolor('white')\n",
    "        tortuga.circle(5)\n",
    "        tortuga.goto(j+5, i+25)\n",
    "        tortuga.write(simbolo[i][j])\n",
    "    else:\n",
    "        tortuga.fillcolor('yellow')\n",
    "        tortuga.circle(5)\n",
    "        tortuga.goto(j+5, i+25)\n",
    "        tortuga.weite(simbolo[i][j])\n",
    "    tortuga.end_fill()\n",
    "    tortuga.pendown()\n",
    "    \n",
    "def clic(x, y):\n",
    "    global pantalla, tablero, simbolo, temporal1, temporal2\n",
    "    pantalla.onclick(None)\n",
    "    [j, i] = [int(x), int(y)]\n",
    "    if 0 <= i < len(tablero) and 0 <+ j < len(tablero[0]):\n",
    "        if tablero[i][j] == CeldaCerrada:\n",
    "            if temporal1 == None:\n",
    "                temporal1 == [i,j]\n",
    "                tablero[i][j] = CeldaTemporalmenteAbierta\n",
    "            else:\n",
    "                temporal2 = [i, j]\n",
    "                tablero[i][j] = CeldaTemporalmenteAbierta\n",
    "                dibuja_celda(tablero, simbolo, i, j)\n",
    "                if temporal2 != None:\n",
    "                    if simbolo[temporal1[0]][temporal1[1]] == simbolo[temporal2[0]] [temporal2[1]]:\n",
    "                        tablero[temporal1[0]][temporal1[1]] = CeldaAbierta\n",
    "                        tablero[temporal2[0]] [temporal2[1]] = CeldaAbierta\n",
    "                    else:\n",
    "                        sleep(0.5)\n",
    "                        tablero[temporal1[0]][temporal1[1]] = CeldaCerrada\n",
    "                        tablero[temporal2[0]] [temporal2[1]] = CeldaCerrada\n",
    "                    dibuja_celda(tablero, simbolo, temporal1[0], temporal1[1])\n",
    "                    dibuja_celda(tablero, simbolo, temporal2[0], temporal2[1])\n",
    "                    temporal1 = None\n",
    "                    temporal2 = None\n",
    "                dibuja_celda(tablero, simbolo, i, j)\n",
    "            if todas_abiertas(tablero):\n",
    "                pantalla.bye()\n",
    "            else:\n",
    "                pantalla.onclick(clic)\n",
    "\n",
    "def todas_abiertas(tablero):\n",
    "    for i in range(len(tablero)):\n",
    "        for j in range(len(tablero[0])):\n",
    "            if tablero[i][j] == CeldaCerrada:\n",
    "                return False\n",
    "    return True\n",
    "\n",
    "# Programa principal\n",
    "filas = 4\n",
    "columnas = 6\n",
    "\n",
    "pantalla = Screen()\n",
    "pantalla.setup(columnas*50, filas*50)\n",
    "pantalla.screensize(columnas*50, filas*50)\n",
    "pantalla.setworldcoordinates(-5, -5, columnas+5, filas+5)\n",
    "pantalla.delay(0)\n",
    "tortuga = Turtle()\n",
    "tortuga.hideturtle()\n",
    "simbolo = crea_matriz(filas, columnas)\n",
    "tablero = crea_matriz(filas, columnas)\n",
    "\n",
    "temporal1 = None\n",
    "temporal2 = None\n",
    "inicializa_tablero(tablero)\n",
    "rellena_simbolos(simbolo)\n",
    "dibuja_tablero(tablero, simbolo)\n",
    "\n",
    "pantalla.onclick(clic)\n",
    "\n",
    "pantalla.mainloop()"
   ]
  }
 ],
 "metadata": {
  "kernelspec": {
   "display_name": "Python 3.10.4 64-bit",
   "language": "python",
   "name": "python3"
  },
  "language_info": {
   "codemirror_mode": {
    "name": "ipython",
    "version": 3
   },
   "file_extension": ".py",
   "mimetype": "text/x-python",
   "name": "python",
   "nbconvert_exporter": "python",
   "pygments_lexer": "ipython3",
   "version": "3.10.4"
  },
  "orig_nbformat": 4,
  "vscode": {
   "interpreter": {
    "hash": "87e37ab4b4be2a65128e65ee6dd2cd25882cc8ca9e7bb4e0cbfeff46ad1b513d"
   }
  }
 },
 "nbformat": 4,
 "nbformat_minor": 2
}
