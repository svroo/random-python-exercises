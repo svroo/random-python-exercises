{
 "cells": [
  {
   "cell_type": "markdown",
   "metadata": {},
   "source": [
    "## Ficheros\n",
    "\n",
    "Apartado dedicado a la manipulacion de ficheros"
   ]
  },
  {
   "cell_type": "code",
   "execution_count": 4,
   "metadata": {},
   "outputs": [
    {
     "name": "stdout",
     "output_type": "stream",
     "text": [
      "Lorem ipsum dolor sit amet, consectetur adipiscing elit.\n",
      "\n",
      "Praesent vel dui commodo, consequat purus in, cursus augue.\n",
      "\n",
      "Sed sed ligula eget diam condimentum dapibus quis ut nisi.\n",
      "\n",
      "Donec porttitor mi id est vehicula tincidunt at eget velit.\n",
      "\n",
      "Nulla in nunc vitae justo pretium hendrerit vel sed nunc.\n",
      "\n",
      "Fusce vel neque ac dui maximus pretium sed non libero.\n",
      "\n",
      "Sed sodales orci gravida pharetra dapibus.\n",
      "\n",
      "Maecenas eleifend elit nec tincidunt sollicitudin.\n",
      "\n",
      "Sed ornare lacus id mauris sagittis convallis.\n",
      "\n",
      "Etiam congue nibh non mauris dapibus, sit amet sodales odio scelerisque.\n",
      "\n",
      "Phasellus nec nisl bibendum, gravida urna in, tristique enim.\n",
      "\n",
      "Fusce sit amet odio in est gravida ultrices vel nec massa.\n",
      "\n",
      "Ut id nulla dignissim, laoreet lectus sed, accumsan nisl.\n",
      "\n",
      "Suspendisse in ante at orci volutpat hendrerit.\n",
      "\n",
      "Integer ullamcorper arcu a nibh feugiat, nec congue ex efficitur.\n",
      "\n",
      "Donec eget libero aliquam, ullamcorper velit sit amet, ullamcorper mi.\n",
      "\n",
      "Mauris efficitur nulla eget lectus rhoncus dignissim.\n",
      "\n",
      "Nullam ornare magna at mauris posuere euismod.\n",
      "\n",
      "Mauris ac magna pulvinar, varius augue in, lobortis metus.\n"
     ]
    }
   ],
   "source": [
    "# Paso 1: abrir el fichero\n",
    "fichero = open(\"ejemplo.txt\", \"r\")\n",
    "\n",
    "# Paso 2: leer los datos del ficher\n",
    "for linea in fichero:\n",
    "    print(linea)\n",
    "\n",
    "# Paso 3: cerrar el fichero\n",
    "fichero.close()"
   ]
  },
  {
   "cell_type": "markdown",
   "metadata": {},
   "source": [
    "## Tratamiento de errores al trabajar con ficheros\n",
    "\n",
    "Si tratas de abrir en modo lectura un fichero inexistente, obtienes un error y la ejecución del programa aborta. Tienes dos posibilidades para reaccionar a esta eventualidad y evitar el fin de ejecución del programa. Una consiste en preguntar antes si el fichero existe:"
   ]
  },
  {
   "cell_type": "code",
   "execution_count": 1,
   "metadata": {},
   "outputs": [
    {
     "name": "stdout",
     "output_type": "stream",
     "text": [
      "El fichero no existe.\n"
     ]
    }
   ],
   "source": [
    "import os\n",
    "\n",
    "if os.path.exists(\"ejemplo2.txt\"):\n",
    "    fichero = open(\"ejemplo2.txt\", 'r')\n",
    "    for linea in fichero:\n",
    "        print(linea)\n",
    "    fichero.close()\n",
    "else:\n",
    "    print(\"El fichero no existe.\")    "
   ]
  },
  {
   "cell_type": "markdown",
   "metadata": {},
   "source": [
    "La otra pasa por capturar la excepcion que genera el intento de apertura:"
   ]
  },
  {
   "cell_type": "code",
   "execution_count": 2,
   "metadata": {},
   "outputs": [
    {
     "name": "stdout",
     "output_type": "stream",
     "text": [
      "El fichero no existe\n"
     ]
    }
   ],
   "source": [
    "try:\n",
    "    fichero = open(\"ejemplo2.txt\", \"r\")\n",
    "    for linea in fichero:\n",
    "        print(linea)\n",
    "    fichero.close()\n",
    "except IOError:\n",
    "    print(\"El fichero no existe\")"
   ]
  },
  {
   "cell_type": "markdown",
   "metadata": {},
   "source": [
    "Ejemplo con fichero creado"
   ]
  },
  {
   "cell_type": "code",
   "execution_count": 4,
   "metadata": {},
   "outputs": [
    {
     "name": "stdout",
     "output_type": "stream",
     "text": [
      "Esto es \n",
      "\n",
      "un ejemplo de texto almacenado\n",
      "\n",
      "en un fichero de texto.\n"
     ]
    }
   ],
   "source": [
    "fichero = open('ejemplo.txt','r')\n",
    "\n",
    "for linea in fichero:\n",
    "    print(linea)\n",
    "    \n",
    "fichero.close()"
   ]
  },
  {
   "cell_type": "markdown",
   "metadata": {},
   "source": [
    "Para eliminar la linea en blanco tenemos que modificar el programa"
   ]
  },
  {
   "cell_type": "code",
   "execution_count": 5,
   "metadata": {},
   "outputs": [
    {
     "name": "stdout",
     "output_type": "stream",
     "text": [
      "Esto es \n",
      "un ejemplo de texto almacenado\n",
      "en un fichero de texto.\n"
     ]
    }
   ],
   "source": [
    "fichero = open('ejemplo.txt', 'r')\n",
    "\n",
    "for linea in fichero:\n",
    "    if linea[-1] == '\\n':\n",
    "        linea = linea[:-1]\n",
    "    print(linea)\n",
    "\n",
    "fichero.close()"
   ]
  },
  {
   "cell_type": "markdown",
   "metadata": {},
   "source": [
    "Fíjate en que la quinta línea del programa modifica la cadena almacenada en línea, pero no\n",
    "modifica en absoluto el contenido del fichero. Una vez lees de un fichero, trabajas con una copia\n",
    "en memoria de la información, y no directamente con el fichero.\n",
    "Desarrollemos ahora otro ejemplo sencillo: un programa que calcula el número de líneas de\n",
    "un fichero de texto. El nombre del fichero de texto deberá introducirse por teclado."
   ]
  },
  {
   "cell_type": "code",
   "execution_count": 7,
   "metadata": {},
   "outputs": [
    {
     "name": "stdout",
     "output_type": "stream",
     "text": [
      "3\n"
     ]
    }
   ],
   "source": [
    "nombre = input('Nombre del fichero:\\n')\n",
    "fichero = open(nombre, 'r')\n",
    "\n",
    "contador = 0\n",
    "for linea in fichero:\n",
    "    contador += 1\n",
    "\n",
    "fichero.close()\n",
    "\n",
    "print(contador)"
   ]
  },
  {
   "cell_type": "markdown",
   "metadata": {},
   "source": [
    "## La abstracción de los ficheros y la web\n",
    "\n",
    "Los ficheros de texto son una poderosa abstracción que encuentra aplicación en otros campos. Por\n",
    "ejemplo, ciertos módulos permiten manejar la World Wide Web como si fuera un inmenso sistema de\n",
    "ficheros. En Python, el módulo urllib permite abrir páginas web y leerlas como si fueran ficheros\n",
    "de texto. Este ejemplo te ayudará a entender a qué nos referimos:"
   ]
  },
  {
   "cell_type": "code",
   "execution_count": null,
   "metadata": {},
   "outputs": [],
   "source": [
    "from urlib.request import urlopen\n",
    "\n",
    "fichero = urlopen(\"http://www.uji.es\")\n",
    "for linea in fichero:\n",
    "    print(linea.decore('utf-8').rstrip())\n",
    "fichero.close()"
   ]
  },
  {
   "cell_type": "markdown",
   "metadata": {},
   "source": [
    "## Escritura de ficheros de texto\n"
   ]
  },
  {
   "cell_type": "code",
   "execution_count": 9,
   "metadata": {},
   "outputs": [],
   "source": [
    "nombre_entrada = input(\"Nombre del fichero de entrada: \\n\")\n",
    "nombre_salida = input('Nombre del fichero de salida: \\n')\n",
    "fichero_entrada = open(nombre_entrada, 'r')\n",
    "fichero_salida = open(nombre_salida, 'w')\n",
    "caracter = fichero_entrada.read(1)\n",
    "\n",
    "while(caracter != ''):\n",
    "    if caracter >= 'a' and caracter <= 'y':\n",
    "        codificado = chr(ord(caracter) + 2)\n",
    "    elif caracter == 'z':\n",
    "        codificado = 'a'\n",
    "    else:\n",
    "        codificado = caracter\n",
    "    fichero_salida.write(codificado)\n",
    "    caracter = fichero_entrada.read(1)\n",
    "\n",
    "fichero_entrada.close()\n",
    "fichero_salida.close()"
   ]
  },
  {
   "cell_type": "markdown",
   "metadata": {},
   "source": [
    "## Ejercicio 457\n",
    "\n",
    "Diseña un programa *descifra.py*, que descifre ficheros cifrados por *cifra.py*. El programa pedirá el nombre del fichero cifrado y el del fichero en el que se guardará el resultado."
   ]
  },
  {
   "cell_type": "code",
   "execution_count": 13,
   "metadata": {},
   "outputs": [],
   "source": [
    "# Definimos variables y pedimos datos de teclado\n",
    "nombre_origen = input('Dame el nombre del fichero de entrada:\\n')\n",
    "nombre_salida = input('Nombre del fichero de salida:\\n')\n",
    "fichero_entrada = open(nombre_origen, \"r\")\n",
    "fichero_salida = open(nombre_salida, \"w\")\n",
    "caracter = fichero_entrada.read(1)\n",
    "\n",
    "while caracter != '':\n",
    "    if caracter >= 'b' and caracter <= 'z':\n",
    "        codificado = chr(ord(caracter) - 2)\n",
    "    elif caracter == 'a':\n",
    "        codificado = 'x'\n",
    "    else:\n",
    "        codificado = caracter\n",
    "    fichero_salida.write(codificado)\n",
    "    caracter = fichero_entrada.read(1)\n",
    "\n",
    "fichero_entrada.close()\n",
    "fichero_salida.close()"
   ]
  },
  {
   "cell_type": "markdown",
   "metadata": {},
   "source": [
    "## Ejemplo:\n",
    "\n",
    "Desarrollaremos un ejemplo más. Empecemos por un programa que genera un fichero de texto con una tabla de números: los números del 1 al 5000 y sus respectivos cuadrados."
   ]
  },
  {
   "cell_type": "code",
   "execution_count": 14,
   "metadata": {},
   "outputs": [],
   "source": [
    "fichero = open('tabla.txt', 'w')\n",
    "\n",
    "for i in range(1, 5001):\n",
    "    fichero.write('{0} {1} \\n'.format(i, i**2))\n",
    "\n",
    "fichero.close()"
   ]
  }
 ],
 "metadata": {
  "kernelspec": {
   "display_name": "Python 3.10.5 64-bit",
   "language": "python",
   "name": "python3"
  },
  "language_info": {
   "codemirror_mode": {
    "name": "ipython",
    "version": 3
   },
   "file_extension": ".py",
   "mimetype": "text/x-python",
   "name": "python",
   "nbconvert_exporter": "python",
   "pygments_lexer": "ipython3",
   "version": "3.10.5"
  },
  "orig_nbformat": 4,
  "vscode": {
   "interpreter": {
    "hash": "63963b3f4c440940f0b94a3100916033a226cb4f45979123153792d60aa56d6a"
   }
  }
 },
 "nbformat": 4,
 "nbformat_minor": 2
}
