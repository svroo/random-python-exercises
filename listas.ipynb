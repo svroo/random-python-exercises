{
 "cells": [
  {
   "cell_type": "markdown",
   "metadata": {},
   "source": [
    "# Notebook sobre listas\n",
    "\n",
    "Este notebook va a ser sobre ejercicios de listas recuperados del libro: *Introducción a la programacion con python 3* de, Andrés Mazal Varó, Isabel Garcia Luengo, Pedro Garcia Sevilla.\n",
    "\n",
    "Creado por: Rodrigo Salazar @sv_roo"
   ]
  },
  {
   "cell_type": "markdown",
   "metadata": {},
   "source": [
    "## Ejercicio 215\n",
    "\n",
    "Haz un programa que almacen en una variable *a* a la lista obtenida mediante *list(range(1,4))* y, a continuacón, la modifique para que cada componente sea igual al cuadrado del componente original. El programa mostrará la lista resultante por pantalla."
   ]
  },
  {
   "cell_type": "code",
   "execution_count": 8,
   "metadata": {},
   "outputs": [
    {
     "name": "stdout",
     "output_type": "stream",
     "text": [
      "Lista antes de modificar\n",
      " [1, 2, 3]\n",
      "Lista despues de modificar\n",
      " [1, 4, 9]\n"
     ]
    }
   ],
   "source": [
    "# Declaracion de la lista\n",
    "a = list(range(1,4))\n",
    "i = 0\n",
    "\n",
    "# Mostramos en pantalla el contenido antes del calculo\n",
    "print(\"Lista antes de modificar\\n\", a)\n",
    "\n",
    "# Realizamos el calculo del cuadrado de cada item\n",
    "while(i < 3):\n",
    "    a[i] = a[i] ** 2\n",
    "    i +=1\n",
    "\n",
    "\"\"\"\n",
    "Se muestra solucion con un ciclo for por si no se quiere usar un ciclo while\n",
    "   for i in range(0, len(a)):\n",
    "    a[i] = a[i] ** 2\n",
    "\"\"\"\n",
    "    \n",
    "# Mostramos en pantalla el calculo del cuadrado de cada item de la lista\n",
    "print(\"Lista despues de modificar\\n\", a)"
   ]
  },
  {
   "cell_type": "markdown",
   "metadata": {},
   "source": [
    "## Ejercicio 216\n",
    "\n",
    "Haz un programa que almacene en una variable *a* la lista obtenida con *list(range(1,n))*, donde *n* es un entero que se pide al usuario, y modifique dicha lista para que cada componente sea igual al cuadrado del componente original. El programa mostrará la lista resultante por pantalla."
   ]
  },
  {
   "cell_type": "code",
   "execution_count": 9,
   "metadata": {},
   "outputs": [
    {
     "name": "stdout",
     "output_type": "stream",
     "text": [
      "Lista antes de modificar:\n",
      " [1, 2, 3, 4]\n",
      "Lista modificada:\n",
      " [1, 4, 9, 16]\n"
     ]
    }
   ],
   "source": [
    "# Declaracion de variables \n",
    "n = int(input(\"Dame el limite de una lista:\"))\n",
    "\n",
    "# Declaramos la lista con el rango del usuario \n",
    "a = list(range(1, n))\n",
    "\n",
    "# Mostramos la lista antes del calculo\n",
    "print(\"Lista antes de modificar:\\n\", a)\n",
    "\n",
    "# Procedemos con el calculo del cuadrado de cada elemento con ciclo for\n",
    "for i in range(0, len(a)):\n",
    "    a[i] = a[i] * a[i]\n",
    "    \n",
    "# Mostramos la lista después de calcular\n",
    "print(\"Lista modificada:\\n\", a)"
   ]
  },
  {
   "cell_type": "markdown",
   "metadata": {},
   "source": [
    "## Problema 217 \n",
    "\n",
    "Haz un programa que, dada una lista *a* cualquiera, sustituya cualquier elelemtno negativo por cero."
   ]
  },
  {
   "cell_type": "code",
   "execution_count": 14,
   "metadata": {},
   "outputs": [
    {
     "name": "stdout",
     "output_type": "stream",
     "text": [
      "Lista antes de modificar:\n",
      " [-10, -1, 0, 1, 2, 3]\n",
      "Lista modificada:\n",
      " [0, 0, 0, 1, 2, 3]\n"
     ]
    }
   ],
   "source": [
    "# Declaracion de variables\n",
    "a = []\n",
    "limite = int(input(\"Dame el limite de la lista que vas a llenar:\\n\"))\n",
    "i = 0\n",
    "\n",
    "# Procedemos a pedir los datos de la lista\n",
    "while (i <= limite):\n",
    "    n = int(input(\"Dame un número:\\n\"))\n",
    "    a.append(n)\n",
    "    i += 1\n",
    "    \n",
    "    \n",
    "# MOstramos lista antes de modificar\n",
    "print(\"Lista antes de modificar:\\n\", a)\n",
    "# Procedemos a validar cada elemento para ver si es menor que cero\n",
    "for i in range(0,len(a)):\n",
    "    if a[i] < 0:\n",
    "        a[i] = 0\n",
    "    \n",
    "# Mostramos lista después de modificar\n",
    "print(\"Lista modificada:\\n\", a)"
   ]
  },
  {
   "cell_type": "markdown",
   "metadata": {},
   "source": [
    "## Ejemplo\n",
    "\n",
    "Vamos a esciribir un programa que construya una lista con todos los números primos entre 1 y n. Como no sabemos a priori cuántos hay, construiremos una lsita vaciía e iremos añadiendo números primos conforme los vayamos encontrando."
   ]
  },
  {
   "cell_type": "code",
   "execution_count": 17,
   "metadata": {},
   "outputs": [
    {
     "name": "stdout",
     "output_type": "stream",
     "text": [
      "[2, 3, 5, 7, 11, 13, 17, 19, 23, 29, 31, 37, 41, 43, 47, 53, 59, 61, 67, 71, 73, 79, 83, 89, 97, 101, 103, 107, 109, 113, 127, 131, 137, 139, 149, 151, 157, 163, 167, 173, 179, 181, 191, 193, 197, 199, 211, 223, 227, 229, 233, 239, 241, 251, 257, 263, 269, 271, 277, 281, 283, 293, 307, 311, 313, 317, 331, 337, 347, 349, 353, 359, 367, 373, 379, 383, 389, 397, 401, 409, 419, 421, 431, 433, 439, 443, 449, 457, 461, 463, 467, 479, 487, 491, 499, 503, 509, 521, 523, 541, 547, 557, 563, 569, 571, 577, 587, 593, 599, 601, 607, 613, 617, 619, 631, 641, 643, 647, 653, 659, 661, 673, 677, 683, 691, 701, 709, 719, 727, 733, 739, 743, 751, 757, 761, 769, 773, 787, 797, 809, 811, 821, 823, 827, 829, 839, 853, 857, 859, 863, 877, 881, 883, 887, 907, 911, 919, 929, 937, 941, 947, 953, 967, 971, 977, 983, 991, 997, 1009, 1013, 1019, 1021, 1031, 1033, 1039, 1049, 1051, 1061, 1063, 1069, 1087, 1091, 1093, 1097, 1103, 1109, 1117, 1123, 1129, 1151, 1153, 1163, 1171, 1181, 1187, 1193, 1201]\n"
     ]
    }
   ],
   "source": [
    "# Declaracion de variables\n",
    "n = int(input(\"Introduce el valor máximo:\\n\"))\n",
    "primos = []\n",
    "\n",
    "# Procedimiento para buscar primos\n",
    "for numero in range(2, n + 1):\n",
    "    # Determinamos si un número es primo\n",
    "    creo_que_es_primo = True\n",
    "    for divisor in range(2, numero):\n",
    "        if numero % divisor == 0:\n",
    "            creo_que_es_primo = False\n",
    "            break\n",
    "    if creo_que_es_primo:\n",
    "        primos.append(numero)\n",
    "        \n",
    "# Mostramos en pantalla la lista \n",
    "print(primos)"
   ]
  },
  {
   "cell_type": "markdown",
   "metadata": {},
   "source": [
    "## Ejercicio 220\n",
    "\n",
    "Diseña un programa que constuya una lista con los *n* primeros números primos (ojo: no los primos entre 1 y *n*, sino los *n* primeros números primos) ¿Necesitas usar append? ¿Puedes reservar en primer lugar una lista con *n* celdas nulas y asignarle a cada una de ellas uno de los números primos?"
   ]
  },
  {
   "cell_type": "code",
   "execution_count": 36,
   "metadata": {},
   "outputs": [
    {
     "name": "stdout",
     "output_type": "stream",
     "text": [
      "[2]\n"
     ]
    }
   ],
   "source": [
    "# Declaracion de lista vacia y limite de primos\n",
    "n = int(input(\"Ingresa el limite de numero primos\"))\n",
    "primos = []\n",
    "i = 0\n",
    "\n",
    "# Iniciamos el proceso\n",
    "for numero in range(2, 10000):\n",
    "    # Determinamos si un número es primo\n",
    "    creo_que_es_primo = True\n",
    "    for divisor in range(2, numero):\n",
    "        if numero % divisor == 0:\n",
    "            creo_que_es_primo = False\n",
    "            break\n",
    "    if creo_que_es_primo:\n",
    "        i += 1\n",
    "        if i <= n:\n",
    "            primos.append(numero)\n",
    "                    \n",
    "# Imprimimos la lista \n",
    "print(primos)"
   ]
  },
  {
   "cell_type": "markdown",
   "metadata": {},
   "source": [
    "## Ejercicio 221\n",
    "\n",
    "Diseña un programa que lea una lsita de 10 enteros, pero asegurándose de que todos los números introducidos por el usuario son positivos. Cuando un número sea negativo, lo indicaremos con un mensaje y permitiremos al usuario repetir el intento cuantas veces sea preciso."
   ]
  },
  {
   "cell_type": "code",
   "execution_count": 40,
   "metadata": {},
   "outputs": [
    {
     "name": "stdout",
     "output_type": "stream",
     "text": [
      "[0, 1, 2, 3, 4, 5, 6, 7, 8, 9, 10]\n"
     ]
    }
   ],
   "source": [
    "# Declaracion de varialbles\n",
    "numeros = []\n",
    "i = 0\n",
    "\n",
    "# Proceso para guardar numeros y validar sean mayores de 0\n",
    "while (i < 10):\n",
    "    numero = int(input(\"Dame un número:\\n\"))\n",
    "    if(numero > 0):\n",
    "        numeros.append(numero)\n",
    "    else:\n",
    "        while(numero < 0):\n",
    "            numero = int(input(\"Dame un número:\\n\"))\n",
    "        numeros.append(numero)\n",
    "    i += 1\n",
    "\n",
    "# Mostramos la lista\n",
    "print(numeros)"
   ]
  },
  {
   "cell_type": "markdown",
   "metadata": {},
   "source": [
    "## Ejercicio 222\n",
    "\n",
    "Diseña un programa que lea una cadena y muestre por pantalla una lista con todas sus palabras en minúsculas. La lista no debe contener palabras repetidas."
   ]
  },
  {
   "cell_type": "code",
   "execution_count": 50,
   "metadata": {},
   "outputs": [
    {
     "name": "stdout",
     "output_type": "stream",
     "text": [
      "['palabras', 'una', 'otras', 'formada', 'con', 'frase', 'otra']\n"
     ]
    }
   ],
   "source": [
    "# Declaracion de variables\n",
    "palabra = input(\"Ingresa una cadena:\\n\")\n",
    "\n",
    "# Usamos split para separar las palbras\n",
    "separado = palabra.split(\" \")\n",
    "\n",
    "# Convertimos la lista a conjunto para eliminar repetidos\n",
    "separada = set(separado)\n",
    "\n",
    "# Convertimos a lista\n",
    "separada = list(separada)\n",
    "\n",
    "#Mostramos el resultado\n",
    "print(separada)"
   ]
  },
  {
   "cell_type": "markdown",
   "metadata": {},
   "source": [
    "## Ejemplo \n",
    "\n",
    "Eliminar elementos negativos de una lista"
   ]
  },
  {
   "cell_type": "code",
   "execution_count": 51,
   "metadata": {},
   "outputs": [
    {
     "name": "stdout",
     "output_type": "stream",
     "text": [
      "[1, 2, 5]\n"
     ]
    }
   ],
   "source": [
    "# Declaracion de variables\n",
    "a = [1, 2, -1, -4, 5, -2]\n",
    "i = 0\n",
    "\n",
    "# Proceso para eliminar\n",
    "while i < len(a):\n",
    "    if a[i] < 0:\n",
    "        del a[i]\n",
    "    else:\n",
    "        i += 1\n",
    "\n",
    "# Imprimimos la lista\n",
    "print(a)"
   ]
  },
  {
   "cell_type": "markdown",
   "metadata": {},
   "source": [
    "## Ejercicio 224\n",
    "\n",
    "Diseña un programa que elimine de una lista todos los elementos de índice par y muestre por pantalla el resultado\n",
    "\n",
    "*(Ejemplo: si trabaja con la lista [1, 2, 1, 5, 0, 3], está pasara a ser [2, 5, 3])*"
   ]
  },
  {
   "cell_type": "code",
   "execution_count": 104,
   "metadata": {},
   "outputs": [
    {
     "name": "stdout",
     "output_type": "stream",
     "text": [
      "Antes de eliminar:\n",
      " [1, 2, 1, 5, 0, 3]\n",
      "Despues de eliminar\n",
      " [2, 5, 3]\n"
     ]
    }
   ],
   "source": [
    "# Declaracion de variables\n",
    "a = [1, 2, 1, 5, 0, 3]\n",
    "i = 0\n",
    "\n",
    "# Inicio del proceso de eliminacion\n",
    "#Mostramos lista antes de eliminar\n",
    "print(\"Antes de eliminar:\\n\", a)\n",
    "while i < len(a):\n",
    "    if i % 2 == 0:\n",
    "        del a[i]\n",
    "        i += 1\n",
    "    else:\n",
    "        if (i + 1) % 2 == 0:\n",
    "            del a[i]\n",
    "        i += 1\n",
    "            \n",
    "# Imprimimos la lista \n",
    "print(\"Despues de eliminar\\n\", a)"
   ]
  },
  {
   "cell_type": "markdown",
   "metadata": {},
   "source": [
    "Codigo Linea por linea para entender como funciona el codigo anterior donde muestra cada eliminacion que se hace y cada valor de las variables involucradas.\n",
    "\n",
    "(La lista se puede modificar de tamaño y va a seguir funcionando sin problemas)"
   ]
  },
  {
   "cell_type": "code",
   "execution_count": 107,
   "metadata": {},
   "outputs": [
    {
     "name": "stdout",
     "output_type": "stream",
     "text": [
      "Lista original: [1, 2, 1, 5, 0, 3]\n",
      "\n",
      "\n",
      "\tCiclo número: 1\n",
      "i: 0\n",
      "len:  6\n",
      "Lista con i par: [1, 2, 1, 5, 0, 3]\n",
      "Despues de eliminar desde el if: [2, 1, 5, 0, 3]\n",
      "\n",
      "\n",
      "\tCiclo número: 2\n",
      "i: 1\n",
      "len:  5\n",
      "Lista con i impar: [2, 1, 5, 0, 3]\n",
      "Despues de eliminar desde el false: [2, 5, 0, 3]\n",
      "\n",
      "\n",
      "\tCiclo número: 3\n",
      "i: 2\n",
      "len:  4\n",
      "Lista con i par: [2, 5, 0, 3]\n",
      "Despues de eliminar desde el if: [2, 5, 3]\n",
      "[2, 5, 3]\n"
     ]
    }
   ],
   "source": [
    "# Declaracion de variables\n",
    "a = [1, 2, 1, 5, 0, 3]\n",
    "i = 0\n",
    "\n",
    "# Inicio del proceso de eliminacion\n",
    "print(\"Lista original:\", a)\n",
    "\n",
    "while i < len(a):\n",
    "    print(\"\\n\\n\\tCiclo número:\", i + 1)\n",
    "    print(\"i:\", i)\n",
    "    print(\"len: \", len(a))\n",
    "    if i % 2 == 0:\n",
    "        print(\"Lista con i par:\", a)\n",
    "        del a[i]\n",
    "        print(\"Despues de eliminar desde el if:\", a)\n",
    "        i += 1\n",
    "    else:\n",
    "        if (i + 1) % 2 == 0:\n",
    "            print(\"Lista con i impar:\", a)\n",
    "            del a[i]\n",
    "            print(\"Despues de eliminar desde el false:\", a)\n",
    "        i += 1\n",
    "            \n",
    "# Imprimimos la lista \n",
    "print(a)\n"
   ]
  },
  {
   "cell_type": "markdown",
   "metadata": {},
   "source": [
    "## Ejercicio 225\n",
    "\n",
    "Diseña un programa que elimine de una lista todos los elementos de valor par y muestre en pantalla el resultado.\n",
    "\n",
    "*(Ejemplo: si trabaja con la lista [1, -2, 1, -5, 0, 3], esta pasará a ser [1, 1, -5, 3])*"
   ]
  },
  {
   "cell_type": "code",
   "execution_count": null,
   "metadata": {},
   "outputs": [],
   "source": [
    "# Declaracion de variables\n"
   ]
  }
 ],
 "metadata": {
  "kernelspec": {
   "display_name": "Python 3.10.4 64-bit",
   "language": "python",
   "name": "python3"
  },
  "language_info": {
   "codemirror_mode": {
    "name": "ipython",
    "version": 3
   },
   "file_extension": ".py",
   "mimetype": "text/x-python",
   "name": "python",
   "nbconvert_exporter": "python",
   "pygments_lexer": "ipython3",
   "version": "3.10.4"
  },
  "orig_nbformat": 4,
  "vscode": {
   "interpreter": {
    "hash": "87e37ab4b4be2a65128e65ee6dd2cd25882cc8ca9e7bb4e0cbfeff46ad1b513d"
   }
  }
 },
 "nbformat": 4,
 "nbformat_minor": 2
}
